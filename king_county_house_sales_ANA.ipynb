{
 "cells": [
  {
   "cell_type": "markdown",
   "metadata": {},
   "source": [
    "# King County House Sales Analysis\n",
    "This Exploratory Data Analysis (EDA) project shows step-by-step analyzing housing dataset from King county (USA) that fulfill the requirements of our client."
   ]
  },
  {
   "cell_type": "markdown",
   "metadata": {},
   "source": [
    "## Step 1: Client Requirements/Business Idea"
   ]
  },
  {
   "cell_type": "markdown",
   "metadata": {},
   "source": [
    "* Client name: Larry Sanders\n",
    "* Type of client: King County's house buyer\n",
    "* Mr. Sanders' requirements:\n",
    "    1. Has a view of waterfront \n",
    "    2. Enough space for a family\n",
    "    3. Nice and isolated\n",
    "    4. Central neighborhood\n",
    "    5. Limited budget\n",
    "\n",
    "\n"
   ]
  },
  {
   "cell_type": "markdown",
   "metadata": {},
   "source": [
    "## Step 2: Acquire Data & Check Correlation"
   ]
  },
  {
   "cell_type": "markdown",
   "metadata": {},
   "source": [
    "- The datasets from King county housing sales which is stored in SQL database\n",
    "- Get the data from SQL database using Python\n",
    "- Connect via SQLAlchemy"
   ]
  },
  {
   "cell_type": "code",
   "execution_count": 139,
   "metadata": {},
   "outputs": [],
   "source": [
    "# use sqlalchemy to connect to SQL database\n",
    "from sqlalchemy import create_engine\n",
    "\n",
    "# use dotenv to read .env file contains the credential\n",
    "import os\n",
    "from dotenv import load_dotenv\n",
    "\n",
    "# read the database string from the .env\n",
    "load_dotenv()\n",
    "DB_STRING = os.getenv('DB_STRING')\n",
    "db = create_engine(DB_STRING)"
   ]
  },
  {
   "cell_type": "code",
   "execution_count": 140,
   "metadata": {},
   "outputs": [
    {
     "data": {
      "text/html": [
       "<div>\n",
       "<style scoped>\n",
       "    .dataframe tbody tr th:only-of-type {\n",
       "        vertical-align: middle;\n",
       "    }\n",
       "\n",
       "    .dataframe tbody tr th {\n",
       "        vertical-align: top;\n",
       "    }\n",
       "\n",
       "    .dataframe thead th {\n",
       "        text-align: right;\n",
       "    }\n",
       "</style>\n",
       "<table border=\"1\" class=\"dataframe\">\n",
       "  <thead>\n",
       "    <tr style=\"text-align: right;\">\n",
       "      <th></th>\n",
       "      <th>date</th>\n",
       "      <th>price</th>\n",
       "      <th>house_id</th>\n",
       "      <th>id</th>\n",
       "    </tr>\n",
       "  </thead>\n",
       "  <tbody>\n",
       "    <tr>\n",
       "      <th>0</th>\n",
       "      <td>2014-10-13</td>\n",
       "      <td>221900.000</td>\n",
       "      <td>7129300520</td>\n",
       "      <td>1</td>\n",
       "    </tr>\n",
       "    <tr>\n",
       "      <th>1</th>\n",
       "      <td>2014-12-09</td>\n",
       "      <td>538000.000</td>\n",
       "      <td>6414100192</td>\n",
       "      <td>2</td>\n",
       "    </tr>\n",
       "    <tr>\n",
       "      <th>2</th>\n",
       "      <td>2015-02-25</td>\n",
       "      <td>180000.000</td>\n",
       "      <td>5631500400</td>\n",
       "      <td>3</td>\n",
       "    </tr>\n",
       "    <tr>\n",
       "      <th>3</th>\n",
       "      <td>2014-12-09</td>\n",
       "      <td>604000.000</td>\n",
       "      <td>2487200875</td>\n",
       "      <td>4</td>\n",
       "    </tr>\n",
       "    <tr>\n",
       "      <th>4</th>\n",
       "      <td>2015-02-18</td>\n",
       "      <td>510000.000</td>\n",
       "      <td>1954400510</td>\n",
       "      <td>5</td>\n",
       "    </tr>\n",
       "  </tbody>\n",
       "</table>\n",
       "</div>"
      ],
      "text/plain": [
       "         date      price    house_id  id\n",
       "0  2014-10-13 221900.000  7129300520   1\n",
       "1  2014-12-09 538000.000  6414100192   2\n",
       "2  2015-02-25 180000.000  5631500400   3\n",
       "3  2014-12-09 604000.000  2487200875   4\n",
       "4  2015-02-18 510000.000  1954400510   5"
      ]
     },
     "execution_count": 140,
     "metadata": {},
     "output_type": "execute_result"
    }
   ],
   "source": [
    "# import the data to a pandas dataframe\n",
    "import pandas as pd\n",
    "\n",
    "# select everything from each tables in the database\n",
    "qstr1 = \"SELECT * FROM eda.king_county_house_sales\"\n",
    "qstr2 = \"SELECT * FROM eda.king_county_house_details\"\n",
    "\n",
    "# read SQL query into a DataFrame\n",
    "df_sales = pd.read_sql(qstr1, db)\n",
    "df_details = pd.read_sql(qstr2, db)\n",
    "\n",
    "# check the first 5 rows of the DataFrame sales\n",
    "df_sales.head()\n"
   ]
  },
  {
   "cell_type": "code",
   "execution_count": 141,
   "metadata": {},
   "outputs": [
    {
     "data": {
      "text/html": [
       "<div>\n",
       "<style scoped>\n",
       "    .dataframe tbody tr th:only-of-type {\n",
       "        vertical-align: middle;\n",
       "    }\n",
       "\n",
       "    .dataframe tbody tr th {\n",
       "        vertical-align: top;\n",
       "    }\n",
       "\n",
       "    .dataframe thead th {\n",
       "        text-align: right;\n",
       "    }\n",
       "</style>\n",
       "<table border=\"1\" class=\"dataframe\">\n",
       "  <thead>\n",
       "    <tr style=\"text-align: right;\">\n",
       "      <th></th>\n",
       "      <th>id</th>\n",
       "      <th>bedrooms</th>\n",
       "      <th>bathrooms</th>\n",
       "      <th>sqft_living</th>\n",
       "      <th>sqft_lot</th>\n",
       "      <th>floors</th>\n",
       "      <th>waterfront</th>\n",
       "      <th>view</th>\n",
       "      <th>condition</th>\n",
       "      <th>grade</th>\n",
       "      <th>sqft_above</th>\n",
       "      <th>sqft_basement</th>\n",
       "      <th>yr_built</th>\n",
       "      <th>yr_renovated</th>\n",
       "      <th>zipcode</th>\n",
       "      <th>lat</th>\n",
       "      <th>long</th>\n",
       "      <th>sqft_living15</th>\n",
       "      <th>sqft_lot15</th>\n",
       "    </tr>\n",
       "  </thead>\n",
       "  <tbody>\n",
       "    <tr>\n",
       "      <th>0</th>\n",
       "      <td>1000102</td>\n",
       "      <td>6.000</td>\n",
       "      <td>3.000</td>\n",
       "      <td>2400.000</td>\n",
       "      <td>9373.000</td>\n",
       "      <td>2.000</td>\n",
       "      <td>NaN</td>\n",
       "      <td>0.000</td>\n",
       "      <td>3</td>\n",
       "      <td>7</td>\n",
       "      <td>2400.000</td>\n",
       "      <td>0.000</td>\n",
       "      <td>1991</td>\n",
       "      <td>0.000</td>\n",
       "      <td>98002</td>\n",
       "      <td>47.326</td>\n",
       "      <td>-122.214</td>\n",
       "      <td>2060.000</td>\n",
       "      <td>7316.000</td>\n",
       "    </tr>\n",
       "    <tr>\n",
       "      <th>1</th>\n",
       "      <td>100100050</td>\n",
       "      <td>3.000</td>\n",
       "      <td>1.000</td>\n",
       "      <td>1320.000</td>\n",
       "      <td>11090.000</td>\n",
       "      <td>1.000</td>\n",
       "      <td>0.000</td>\n",
       "      <td>0.000</td>\n",
       "      <td>3</td>\n",
       "      <td>7</td>\n",
       "      <td>1320.000</td>\n",
       "      <td>0.000</td>\n",
       "      <td>1955</td>\n",
       "      <td>0.000</td>\n",
       "      <td>98155</td>\n",
       "      <td>47.775</td>\n",
       "      <td>-122.304</td>\n",
       "      <td>1320.000</td>\n",
       "      <td>8319.000</td>\n",
       "    </tr>\n",
       "    <tr>\n",
       "      <th>2</th>\n",
       "      <td>1001200035</td>\n",
       "      <td>3.000</td>\n",
       "      <td>1.000</td>\n",
       "      <td>1350.000</td>\n",
       "      <td>7973.000</td>\n",
       "      <td>1.500</td>\n",
       "      <td>NaN</td>\n",
       "      <td>0.000</td>\n",
       "      <td>3</td>\n",
       "      <td>7</td>\n",
       "      <td>1350.000</td>\n",
       "      <td>0.000</td>\n",
       "      <td>1954</td>\n",
       "      <td>0.000</td>\n",
       "      <td>98188</td>\n",
       "      <td>47.432</td>\n",
       "      <td>-122.292</td>\n",
       "      <td>1310.000</td>\n",
       "      <td>7491.000</td>\n",
       "    </tr>\n",
       "    <tr>\n",
       "      <th>3</th>\n",
       "      <td>1001200050</td>\n",
       "      <td>4.000</td>\n",
       "      <td>1.500</td>\n",
       "      <td>1260.000</td>\n",
       "      <td>7248.000</td>\n",
       "      <td>1.500</td>\n",
       "      <td>NaN</td>\n",
       "      <td>0.000</td>\n",
       "      <td>5</td>\n",
       "      <td>7</td>\n",
       "      <td>1260.000</td>\n",
       "      <td>0.000</td>\n",
       "      <td>1955</td>\n",
       "      <td>NaN</td>\n",
       "      <td>98188</td>\n",
       "      <td>47.433</td>\n",
       "      <td>-122.292</td>\n",
       "      <td>1300.000</td>\n",
       "      <td>7732.000</td>\n",
       "    </tr>\n",
       "    <tr>\n",
       "      <th>4</th>\n",
       "      <td>1003000175</td>\n",
       "      <td>3.000</td>\n",
       "      <td>1.000</td>\n",
       "      <td>980.000</td>\n",
       "      <td>7606.000</td>\n",
       "      <td>1.000</td>\n",
       "      <td>0.000</td>\n",
       "      <td>0.000</td>\n",
       "      <td>3</td>\n",
       "      <td>7</td>\n",
       "      <td>980.000</td>\n",
       "      <td>0.000</td>\n",
       "      <td>1954</td>\n",
       "      <td>0.000</td>\n",
       "      <td>98188</td>\n",
       "      <td>47.436</td>\n",
       "      <td>-122.290</td>\n",
       "      <td>980.000</td>\n",
       "      <td>8125.000</td>\n",
       "    </tr>\n",
       "  </tbody>\n",
       "</table>\n",
       "</div>"
      ],
      "text/plain": [
       "           id  bedrooms  bathrooms  sqft_living  sqft_lot  floors  waterfront   \n",
       "0     1000102     6.000      3.000     2400.000  9373.000   2.000         NaN  \\\n",
       "1   100100050     3.000      1.000     1320.000 11090.000   1.000       0.000   \n",
       "2  1001200035     3.000      1.000     1350.000  7973.000   1.500         NaN   \n",
       "3  1001200050     4.000      1.500     1260.000  7248.000   1.500         NaN   \n",
       "4  1003000175     3.000      1.000      980.000  7606.000   1.000       0.000   \n",
       "\n",
       "   view  condition  grade  sqft_above  sqft_basement  yr_built  yr_renovated   \n",
       "0 0.000          3      7    2400.000          0.000      1991         0.000  \\\n",
       "1 0.000          3      7    1320.000          0.000      1955         0.000   \n",
       "2 0.000          3      7    1350.000          0.000      1954         0.000   \n",
       "3 0.000          5      7    1260.000          0.000      1955           NaN   \n",
       "4 0.000          3      7     980.000          0.000      1954         0.000   \n",
       "\n",
       "   zipcode    lat     long  sqft_living15  sqft_lot15  \n",
       "0    98002 47.326 -122.214       2060.000    7316.000  \n",
       "1    98155 47.775 -122.304       1320.000    8319.000  \n",
       "2    98188 47.432 -122.292       1310.000    7491.000  \n",
       "3    98188 47.433 -122.292       1300.000    7732.000  \n",
       "4    98188 47.436 -122.290        980.000    8125.000  "
      ]
     },
     "execution_count": 141,
     "metadata": {},
     "output_type": "execute_result"
    }
   ],
   "source": [
    "# check the first 5 rows of the DataFrame details\n",
    "df_details.head()"
   ]
  },
  {
   "cell_type": "markdown",
   "metadata": {},
   "source": [
    "<style>\n",
    "r { color: Red }\n",
    "o { color: Orange }\n",
    "g { color: Green }\n",
    "</style>\n",
    "\n",
    "Done. Now, let's check the correlation. In SQL database, there are always a primary key and a foreign key that connect the tables.   \n",
    "~~If you look at the SQL database~~   \n",
    "As you can see, the relationship between two tables are the <r>**house_id**</r> (foreign key from table: house_sales) and <r>**id**</r> (primary key from table: house_details).   \n",
    "\n",
    "Sort their values in ascending order to confirm the entity-relationship between these two tables."
   ]
  },
  {
   "cell_type": "code",
   "execution_count": 142,
   "metadata": {},
   "outputs": [
    {
     "data": {
      "text/plain": [
       "2495    1000102\n",
       "2494    1000102\n",
       "6729    1200019\n",
       "Name: house_id, dtype: int64"
      ]
     },
     "execution_count": 142,
     "metadata": {},
     "output_type": "execute_result"
    }
   ],
   "source": [
    "# sort the values of column house_id in table house_sales\n",
    "df_sales['house_id'].sort_values().head(3)"
   ]
  },
  {
   "cell_type": "code",
   "execution_count": 143,
   "metadata": {},
   "outputs": [
    {
     "data": {
      "text/plain": [
       "0      1000102\n",
       "650    1200019\n",
       "651    1200021\n",
       "Name: id, dtype: int64"
      ]
     },
     "execution_count": 143,
     "metadata": {},
     "output_type": "execute_result"
    }
   ],
   "source": [
    "# sort the values of column id in table house_details\n",
    "df_details['id'].sort_values().head(3)"
   ]
  },
  {
   "cell_type": "markdown",
   "metadata": {},
   "source": [
    "Yup, the house_id and id are the same!\n",
    "Check duplicates and count them"
   ]
  },
  {
   "cell_type": "code",
   "execution_count": 144,
   "metadata": {},
   "outputs": [
    {
     "data": {
      "text/plain": [
       "id\n",
       "False    21420\n",
       "Name: count, dtype: int64"
      ]
     },
     "execution_count": 144,
     "metadata": {},
     "output_type": "execute_result"
    }
   ],
   "source": [
    "# check duplicate id in house_details and count them\n",
    "df_details['id'].duplicated().value_counts()"
   ]
  },
  {
   "cell_type": "markdown",
   "metadata": {},
   "source": [
    "There is no duplicates in table house_details."
   ]
  },
  {
   "cell_type": "code",
   "execution_count": 145,
   "metadata": {},
   "outputs": [
    {
     "data": {
      "text/plain": [
       "house_id\n",
       "False    21420\n",
       "True       177\n",
       "Name: count, dtype: int64"
      ]
     },
     "execution_count": 145,
     "metadata": {},
     "output_type": "execute_result"
    }
   ],
   "source": [
    "# check duplicate house_id in house_sales and count them\n",
    "df_sales['house_id'].duplicated().value_counts()\n"
   ]
  },
  {
   "cell_type": "markdown",
   "metadata": {},
   "source": [
    "There are 177 duplicates in table house_sales! Why? Probably because some of the houses has been sold more than once. Remove the duplicate as it is not interesting for our client.   \n",
    "\n",
    "(Depending on your client, you might want to keep the duplicates, to know which house got resell many time)   \n",
    "\n",
    "Some questions in mind:\n",
    "- how many times the house got resell?   \n",
    "- is the price increase or decrease after resell?   \n",
    "- which duplicate they drop by default? Should keep the latest date.  \n",
    "\n"
   ]
  },
  {
   "cell_type": "code",
   "execution_count": 146,
   "metadata": {},
   "outputs": [
    {
     "data": {
      "text/html": [
       "<div>\n",
       "<style scoped>\n",
       "    .dataframe tbody tr th:only-of-type {\n",
       "        vertical-align: middle;\n",
       "    }\n",
       "\n",
       "    .dataframe tbody tr th {\n",
       "        vertical-align: top;\n",
       "    }\n",
       "\n",
       "    .dataframe thead th {\n",
       "        text-align: right;\n",
       "    }\n",
       "</style>\n",
       "<table border=\"1\" class=\"dataframe\">\n",
       "  <thead>\n",
       "    <tr style=\"text-align: right;\">\n",
       "      <th></th>\n",
       "      <th>date</th>\n",
       "      <th>price</th>\n",
       "      <th>house_id</th>\n",
       "      <th>id</th>\n",
       "    </tr>\n",
       "  </thead>\n",
       "  <tbody>\n",
       "    <tr>\n",
       "      <th>2494</th>\n",
       "      <td>2014-09-16</td>\n",
       "      <td>280000.000</td>\n",
       "      <td>1000102</td>\n",
       "      <td>2495</td>\n",
       "    </tr>\n",
       "    <tr>\n",
       "      <th>2495</th>\n",
       "      <td>2015-04-22</td>\n",
       "      <td>300000.000</td>\n",
       "      <td>1000102</td>\n",
       "      <td>2496</td>\n",
       "    </tr>\n",
       "    <tr>\n",
       "      <th>16800</th>\n",
       "      <td>2014-10-16</td>\n",
       "      <td>150000.000</td>\n",
       "      <td>7200179</td>\n",
       "      <td>16801</td>\n",
       "    </tr>\n",
       "    <tr>\n",
       "      <th>16801</th>\n",
       "      <td>2015-04-24</td>\n",
       "      <td>175000.000</td>\n",
       "      <td>7200179</td>\n",
       "      <td>16802</td>\n",
       "    </tr>\n",
       "    <tr>\n",
       "      <th>11421</th>\n",
       "      <td>2014-08-20</td>\n",
       "      <td>245000.000</td>\n",
       "      <td>109200390</td>\n",
       "      <td>11422</td>\n",
       "    </tr>\n",
       "    <tr>\n",
       "      <th>...</th>\n",
       "      <td>...</td>\n",
       "      <td>...</td>\n",
       "      <td>...</td>\n",
       "      <td>...</td>\n",
       "    </tr>\n",
       "    <tr>\n",
       "      <th>6340</th>\n",
       "      <td>2015-01-06</td>\n",
       "      <td>430000.000</td>\n",
       "      <td>9828200460</td>\n",
       "      <td>6341</td>\n",
       "    </tr>\n",
       "    <tr>\n",
       "      <th>15185</th>\n",
       "      <td>2014-07-16</td>\n",
       "      <td>350000.000</td>\n",
       "      <td>9834200305</td>\n",
       "      <td>15186</td>\n",
       "    </tr>\n",
       "    <tr>\n",
       "      <th>15186</th>\n",
       "      <td>2015-02-10</td>\n",
       "      <td>615000.000</td>\n",
       "      <td>9834200305</td>\n",
       "      <td>15187</td>\n",
       "    </tr>\n",
       "    <tr>\n",
       "      <th>1084</th>\n",
       "      <td>2014-07-17</td>\n",
       "      <td>360000.000</td>\n",
       "      <td>9834200885</td>\n",
       "      <td>1085</td>\n",
       "    </tr>\n",
       "    <tr>\n",
       "      <th>1085</th>\n",
       "      <td>2015-04-20</td>\n",
       "      <td>550000.000</td>\n",
       "      <td>9834200885</td>\n",
       "      <td>1086</td>\n",
       "    </tr>\n",
       "  </tbody>\n",
       "</table>\n",
       "<p>353 rows × 4 columns</p>\n",
       "</div>"
      ],
      "text/plain": [
       "             date      price    house_id     id\n",
       "2494   2014-09-16 280000.000     1000102   2495\n",
       "2495   2015-04-22 300000.000     1000102   2496\n",
       "16800  2014-10-16 150000.000     7200179  16801\n",
       "16801  2015-04-24 175000.000     7200179  16802\n",
       "11421  2014-08-20 245000.000   109200390  11422\n",
       "...           ...        ...         ...    ...\n",
       "6340   2015-01-06 430000.000  9828200460   6341\n",
       "15185  2014-07-16 350000.000  9834200305  15186\n",
       "15186  2015-02-10 615000.000  9834200305  15187\n",
       "1084   2014-07-17 360000.000  9834200885   1085\n",
       "1085   2015-04-20 550000.000  9834200885   1086\n",
       "\n",
       "[353 rows x 4 columns]"
      ]
     },
     "execution_count": 146,
     "metadata": {},
     "output_type": "execute_result"
    }
   ],
   "source": [
    "#ids = df_sales['house_id']\n",
    "#df_sales[ids.isin(ids[ids.duplicated()])].sort_values('house_id')\n",
    "\n",
    "#df_sales[df_sales['house_id'].duplicated() == False].sort_values('house_id')\n",
    "\n",
    "\n",
    "# check how many times the house got resell with concat and len(g) > 1\n",
    "# choose 1 house_id, let say house_id 1000102 as oir reference\n",
    "\n",
    "# the underscore is a typical symbol for placeholder of an inevitable argument\n",
    "# where we don't want to use it for anything in a lambda-like expression\n",
    "pd.concat(g for _, g in df_sales.groupby(\"house_id\") if len(g) > 1)\n",
    "\n",
    "# optional: run this to see if any house got resell more than twice\n",
    "#pd.concat(g for _, g in df_sales.groupby(\"house_id\") if len(g) > 2)\n",
    "\n",
    "\n",
    "\n",
    "#df_sales[df_sales.duplicated(['house_id'], keep=False)]\n",
    "#df_sales"
   ]
  },
  {
   "cell_type": "code",
   "execution_count": 147,
   "metadata": {},
   "outputs": [
    {
     "data": {
      "text/html": [
       "<div>\n",
       "<style scoped>\n",
       "    .dataframe tbody tr th:only-of-type {\n",
       "        vertical-align: middle;\n",
       "    }\n",
       "\n",
       "    .dataframe tbody tr th {\n",
       "        vertical-align: top;\n",
       "    }\n",
       "\n",
       "    .dataframe thead th {\n",
       "        text-align: right;\n",
       "    }\n",
       "</style>\n",
       "<table border=\"1\" class=\"dataframe\">\n",
       "  <thead>\n",
       "    <tr style=\"text-align: right;\">\n",
       "      <th></th>\n",
       "      <th>date</th>\n",
       "      <th>price</th>\n",
       "      <th>house_id</th>\n",
       "      <th>id</th>\n",
       "    </tr>\n",
       "  </thead>\n",
       "  <tbody>\n",
       "    <tr>\n",
       "      <th>0</th>\n",
       "      <td>2014-10-13</td>\n",
       "      <td>221900.000</td>\n",
       "      <td>7129300520</td>\n",
       "      <td>1</td>\n",
       "    </tr>\n",
       "    <tr>\n",
       "      <th>1</th>\n",
       "      <td>2014-12-09</td>\n",
       "      <td>538000.000</td>\n",
       "      <td>6414100192</td>\n",
       "      <td>2</td>\n",
       "    </tr>\n",
       "    <tr>\n",
       "      <th>2</th>\n",
       "      <td>2015-02-25</td>\n",
       "      <td>180000.000</td>\n",
       "      <td>5631500400</td>\n",
       "      <td>3</td>\n",
       "    </tr>\n",
       "    <tr>\n",
       "      <th>3</th>\n",
       "      <td>2014-12-09</td>\n",
       "      <td>604000.000</td>\n",
       "      <td>2487200875</td>\n",
       "      <td>4</td>\n",
       "    </tr>\n",
       "    <tr>\n",
       "      <th>4</th>\n",
       "      <td>2015-02-18</td>\n",
       "      <td>510000.000</td>\n",
       "      <td>1954400510</td>\n",
       "      <td>5</td>\n",
       "    </tr>\n",
       "    <tr>\n",
       "      <th>...</th>\n",
       "      <td>...</td>\n",
       "      <td>...</td>\n",
       "      <td>...</td>\n",
       "      <td>...</td>\n",
       "    </tr>\n",
       "    <tr>\n",
       "      <th>21415</th>\n",
       "      <td>2014-05-21</td>\n",
       "      <td>360000.000</td>\n",
       "      <td>263000018</td>\n",
       "      <td>21593</td>\n",
       "    </tr>\n",
       "    <tr>\n",
       "      <th>21416</th>\n",
       "      <td>2015-02-23</td>\n",
       "      <td>400000.000</td>\n",
       "      <td>6600060120</td>\n",
       "      <td>21594</td>\n",
       "    </tr>\n",
       "    <tr>\n",
       "      <th>21417</th>\n",
       "      <td>2014-06-23</td>\n",
       "      <td>402101.000</td>\n",
       "      <td>1523300141</td>\n",
       "      <td>21595</td>\n",
       "    </tr>\n",
       "    <tr>\n",
       "      <th>21418</th>\n",
       "      <td>2015-01-16</td>\n",
       "      <td>400000.000</td>\n",
       "      <td>291310100</td>\n",
       "      <td>21596</td>\n",
       "    </tr>\n",
       "    <tr>\n",
       "      <th>21419</th>\n",
       "      <td>2014-10-15</td>\n",
       "      <td>325000.000</td>\n",
       "      <td>1523300157</td>\n",
       "      <td>21597</td>\n",
       "    </tr>\n",
       "  </tbody>\n",
       "</table>\n",
       "<p>21420 rows × 4 columns</p>\n",
       "</div>"
      ],
      "text/plain": [
       "             date      price    house_id     id\n",
       "0      2014-10-13 221900.000  7129300520      1\n",
       "1      2014-12-09 538000.000  6414100192      2\n",
       "2      2015-02-25 180000.000  5631500400      3\n",
       "3      2014-12-09 604000.000  2487200875      4\n",
       "4      2015-02-18 510000.000  1954400510      5\n",
       "...           ...        ...         ...    ...\n",
       "21415  2014-05-21 360000.000   263000018  21593\n",
       "21416  2015-02-23 400000.000  6600060120  21594\n",
       "21417  2014-06-23 402101.000  1523300141  21595\n",
       "21418  2015-01-16 400000.000   291310100  21596\n",
       "21419  2014-10-15 325000.000  1523300157  21597\n",
       "\n",
       "[21420 rows x 4 columns]"
      ]
     },
     "execution_count": 147,
     "metadata": {},
     "output_type": "execute_result"
    }
   ],
   "source": [
    "# remove duplicates from house_sales's table\n",
    "# keep=last to keep the latest date\n",
    "df_sales.drop_duplicates(subset='house_id', keep='last', inplace=True)\n",
    "\n",
    "# reset the index because we removed duplicate rows\n",
    "df_sales.reset_index(inplace=True, drop=True)\n",
    "df_sales"
   ]
  },
  {
   "cell_type": "code",
   "execution_count": 148,
   "metadata": {},
   "outputs": [
    {
     "data": {
      "text/html": [
       "<div>\n",
       "<style scoped>\n",
       "    .dataframe tbody tr th:only-of-type {\n",
       "        vertical-align: middle;\n",
       "    }\n",
       "\n",
       "    .dataframe tbody tr th {\n",
       "        vertical-align: top;\n",
       "    }\n",
       "\n",
       "    .dataframe thead th {\n",
       "        text-align: right;\n",
       "    }\n",
       "</style>\n",
       "<table border=\"1\" class=\"dataframe\">\n",
       "  <thead>\n",
       "    <tr style=\"text-align: right;\">\n",
       "      <th></th>\n",
       "      <th>date</th>\n",
       "      <th>price</th>\n",
       "      <th>house_id</th>\n",
       "      <th>id</th>\n",
       "    </tr>\n",
       "  </thead>\n",
       "  <tbody>\n",
       "    <tr>\n",
       "      <th>2475</th>\n",
       "      <td>2015-04-22</td>\n",
       "      <td>300000.000</td>\n",
       "      <td>1000102</td>\n",
       "      <td>2496</td>\n",
       "    </tr>\n",
       "    <tr>\n",
       "      <th>6675</th>\n",
       "      <td>2014-05-08</td>\n",
       "      <td>647500.000</td>\n",
       "      <td>1200019</td>\n",
       "      <td>6730</td>\n",
       "    </tr>\n",
       "    <tr>\n",
       "      <th>8339</th>\n",
       "      <td>2014-08-11</td>\n",
       "      <td>400000.000</td>\n",
       "      <td>1200021</td>\n",
       "      <td>8405</td>\n",
       "    </tr>\n",
       "    <tr>\n",
       "      <th>8731</th>\n",
       "      <td>2015-04-01</td>\n",
       "      <td>235000.000</td>\n",
       "      <td>2800031</td>\n",
       "      <td>8801</td>\n",
       "    </tr>\n",
       "    <tr>\n",
       "      <th>3525</th>\n",
       "      <td>2015-03-19</td>\n",
       "      <td>402500.000</td>\n",
       "      <td>3600057</td>\n",
       "      <td>3554</td>\n",
       "    </tr>\n",
       "    <tr>\n",
       "      <th>...</th>\n",
       "      <td>...</td>\n",
       "      <td>...</td>\n",
       "      <td>...</td>\n",
       "      <td>...</td>\n",
       "    </tr>\n",
       "    <tr>\n",
       "      <th>16574</th>\n",
       "      <td>2014-07-25</td>\n",
       "      <td>365000.000</td>\n",
       "      <td>9842300095</td>\n",
       "      <td>16724</td>\n",
       "    </tr>\n",
       "    <tr>\n",
       "      <th>3231</th>\n",
       "      <td>2015-03-11</td>\n",
       "      <td>380000.000</td>\n",
       "      <td>9842300485</td>\n",
       "      <td>3258</td>\n",
       "    </tr>\n",
       "    <tr>\n",
       "      <th>7556</th>\n",
       "      <td>2014-06-24</td>\n",
       "      <td>339000.000</td>\n",
       "      <td>9842300540</td>\n",
       "      <td>7615</td>\n",
       "    </tr>\n",
       "    <tr>\n",
       "      <th>20787</th>\n",
       "      <td>2014-07-03</td>\n",
       "      <td>399900.000</td>\n",
       "      <td>9895000040</td>\n",
       "      <td>20964</td>\n",
       "    </tr>\n",
       "    <tr>\n",
       "      <th>15791</th>\n",
       "      <td>2014-10-30</td>\n",
       "      <td>268950.000</td>\n",
       "      <td>9900000190</td>\n",
       "      <td>15938</td>\n",
       "    </tr>\n",
       "  </tbody>\n",
       "</table>\n",
       "<p>21420 rows × 4 columns</p>\n",
       "</div>"
      ],
      "text/plain": [
       "             date      price    house_id     id\n",
       "2475   2015-04-22 300000.000     1000102   2496\n",
       "6675   2014-05-08 647500.000     1200019   6730\n",
       "8339   2014-08-11 400000.000     1200021   8405\n",
       "8731   2015-04-01 235000.000     2800031   8801\n",
       "3525   2015-03-19 402500.000     3600057   3554\n",
       "...           ...        ...         ...    ...\n",
       "16574  2014-07-25 365000.000  9842300095  16724\n",
       "3231   2015-03-11 380000.000  9842300485   3258\n",
       "7556   2014-06-24 339000.000  9842300540   7615\n",
       "20787  2014-07-03 399900.000  9895000040  20964\n",
       "15791  2014-10-30 268950.000  9900000190  15938\n",
       "\n",
       "[21420 rows x 4 columns]"
      ]
     },
     "execution_count": 148,
     "metadata": {},
     "output_type": "execute_result"
    }
   ],
   "source": [
    "# sort ascending order in column house_id\n",
    "# to see if it really keep the latest date, and removed old date\n",
    "# see house_id 1000102\n",
    "df_sales.sort_values('house_id')"
   ]
  },
  {
   "cell_type": "markdown",
   "metadata": {},
   "source": [
    "Nice! Now we have same rows in both tables.   \n",
    "Save it in the csv files."
   ]
  },
  {
   "cell_type": "code",
   "execution_count": 149,
   "metadata": {},
   "outputs": [
    {
     "data": {
      "text/html": [
       "<div>\n",
       "<style scoped>\n",
       "    .dataframe tbody tr th:only-of-type {\n",
       "        vertical-align: middle;\n",
       "    }\n",
       "\n",
       "    .dataframe tbody tr th {\n",
       "        vertical-align: top;\n",
       "    }\n",
       "\n",
       "    .dataframe thead th {\n",
       "        text-align: right;\n",
       "    }\n",
       "</style>\n",
       "<table border=\"1\" class=\"dataframe\">\n",
       "  <thead>\n",
       "    <tr style=\"text-align: right;\">\n",
       "      <th></th>\n",
       "      <th>date</th>\n",
       "      <th>price</th>\n",
       "      <th>house_id</th>\n",
       "      <th>id_x</th>\n",
       "      <th>id_y</th>\n",
       "      <th>bedrooms</th>\n",
       "      <th>bathrooms</th>\n",
       "      <th>sqft_living</th>\n",
       "      <th>sqft_lot</th>\n",
       "      <th>floors</th>\n",
       "      <th>...</th>\n",
       "      <th>grade</th>\n",
       "      <th>sqft_above</th>\n",
       "      <th>sqft_basement</th>\n",
       "      <th>yr_built</th>\n",
       "      <th>yr_renovated</th>\n",
       "      <th>zipcode</th>\n",
       "      <th>lat</th>\n",
       "      <th>long</th>\n",
       "      <th>sqft_living15</th>\n",
       "      <th>sqft_lot15</th>\n",
       "    </tr>\n",
       "  </thead>\n",
       "  <tbody>\n",
       "    <tr>\n",
       "      <th>0</th>\n",
       "      <td>2014-10-13</td>\n",
       "      <td>221900.000</td>\n",
       "      <td>7129300520</td>\n",
       "      <td>1</td>\n",
       "      <td>7129300520</td>\n",
       "      <td>3.000</td>\n",
       "      <td>1.000</td>\n",
       "      <td>1180.000</td>\n",
       "      <td>5650.000</td>\n",
       "      <td>1.000</td>\n",
       "      <td>...</td>\n",
       "      <td>7</td>\n",
       "      <td>1180.000</td>\n",
       "      <td>0.000</td>\n",
       "      <td>1955</td>\n",
       "      <td>0.000</td>\n",
       "      <td>98178</td>\n",
       "      <td>47.511</td>\n",
       "      <td>-122.257</td>\n",
       "      <td>1340.000</td>\n",
       "      <td>5650.000</td>\n",
       "    </tr>\n",
       "    <tr>\n",
       "      <th>1</th>\n",
       "      <td>2014-12-09</td>\n",
       "      <td>538000.000</td>\n",
       "      <td>6414100192</td>\n",
       "      <td>2</td>\n",
       "      <td>6414100192</td>\n",
       "      <td>3.000</td>\n",
       "      <td>2.250</td>\n",
       "      <td>2570.000</td>\n",
       "      <td>7242.000</td>\n",
       "      <td>2.000</td>\n",
       "      <td>...</td>\n",
       "      <td>7</td>\n",
       "      <td>2170.000</td>\n",
       "      <td>400.000</td>\n",
       "      <td>1951</td>\n",
       "      <td>19910.000</td>\n",
       "      <td>98125</td>\n",
       "      <td>47.721</td>\n",
       "      <td>-122.319</td>\n",
       "      <td>1690.000</td>\n",
       "      <td>7639.000</td>\n",
       "    </tr>\n",
       "    <tr>\n",
       "      <th>2</th>\n",
       "      <td>2015-02-25</td>\n",
       "      <td>180000.000</td>\n",
       "      <td>5631500400</td>\n",
       "      <td>3</td>\n",
       "      <td>5631500400</td>\n",
       "      <td>2.000</td>\n",
       "      <td>1.000</td>\n",
       "      <td>770.000</td>\n",
       "      <td>10000.000</td>\n",
       "      <td>1.000</td>\n",
       "      <td>...</td>\n",
       "      <td>6</td>\n",
       "      <td>770.000</td>\n",
       "      <td>0.000</td>\n",
       "      <td>1933</td>\n",
       "      <td>NaN</td>\n",
       "      <td>98028</td>\n",
       "      <td>47.738</td>\n",
       "      <td>-122.233</td>\n",
       "      <td>2720.000</td>\n",
       "      <td>8062.000</td>\n",
       "    </tr>\n",
       "    <tr>\n",
       "      <th>3</th>\n",
       "      <td>2014-12-09</td>\n",
       "      <td>604000.000</td>\n",
       "      <td>2487200875</td>\n",
       "      <td>4</td>\n",
       "      <td>2487200875</td>\n",
       "      <td>4.000</td>\n",
       "      <td>3.000</td>\n",
       "      <td>1960.000</td>\n",
       "      <td>5000.000</td>\n",
       "      <td>1.000</td>\n",
       "      <td>...</td>\n",
       "      <td>7</td>\n",
       "      <td>1050.000</td>\n",
       "      <td>910.000</td>\n",
       "      <td>1965</td>\n",
       "      <td>0.000</td>\n",
       "      <td>98136</td>\n",
       "      <td>47.521</td>\n",
       "      <td>-122.393</td>\n",
       "      <td>1360.000</td>\n",
       "      <td>5000.000</td>\n",
       "    </tr>\n",
       "    <tr>\n",
       "      <th>4</th>\n",
       "      <td>2015-02-18</td>\n",
       "      <td>510000.000</td>\n",
       "      <td>1954400510</td>\n",
       "      <td>5</td>\n",
       "      <td>1954400510</td>\n",
       "      <td>3.000</td>\n",
       "      <td>2.000</td>\n",
       "      <td>1680.000</td>\n",
       "      <td>8080.000</td>\n",
       "      <td>1.000</td>\n",
       "      <td>...</td>\n",
       "      <td>8</td>\n",
       "      <td>1680.000</td>\n",
       "      <td>0.000</td>\n",
       "      <td>1987</td>\n",
       "      <td>0.000</td>\n",
       "      <td>98074</td>\n",
       "      <td>47.617</td>\n",
       "      <td>-122.045</td>\n",
       "      <td>1800.000</td>\n",
       "      <td>7503.000</td>\n",
       "    </tr>\n",
       "    <tr>\n",
       "      <th>...</th>\n",
       "      <td>...</td>\n",
       "      <td>...</td>\n",
       "      <td>...</td>\n",
       "      <td>...</td>\n",
       "      <td>...</td>\n",
       "      <td>...</td>\n",
       "      <td>...</td>\n",
       "      <td>...</td>\n",
       "      <td>...</td>\n",
       "      <td>...</td>\n",
       "      <td>...</td>\n",
       "      <td>...</td>\n",
       "      <td>...</td>\n",
       "      <td>...</td>\n",
       "      <td>...</td>\n",
       "      <td>...</td>\n",
       "      <td>...</td>\n",
       "      <td>...</td>\n",
       "      <td>...</td>\n",
       "      <td>...</td>\n",
       "      <td>...</td>\n",
       "    </tr>\n",
       "    <tr>\n",
       "      <th>21415</th>\n",
       "      <td>2014-05-21</td>\n",
       "      <td>360000.000</td>\n",
       "      <td>263000018</td>\n",
       "      <td>21593</td>\n",
       "      <td>263000018</td>\n",
       "      <td>3.000</td>\n",
       "      <td>2.500</td>\n",
       "      <td>1530.000</td>\n",
       "      <td>1131.000</td>\n",
       "      <td>3.000</td>\n",
       "      <td>...</td>\n",
       "      <td>8</td>\n",
       "      <td>1530.000</td>\n",
       "      <td>0.000</td>\n",
       "      <td>2009</td>\n",
       "      <td>0.000</td>\n",
       "      <td>98103</td>\n",
       "      <td>47.699</td>\n",
       "      <td>-122.346</td>\n",
       "      <td>1530.000</td>\n",
       "      <td>1509.000</td>\n",
       "    </tr>\n",
       "    <tr>\n",
       "      <th>21416</th>\n",
       "      <td>2015-02-23</td>\n",
       "      <td>400000.000</td>\n",
       "      <td>6600060120</td>\n",
       "      <td>21594</td>\n",
       "      <td>6600060120</td>\n",
       "      <td>4.000</td>\n",
       "      <td>2.500</td>\n",
       "      <td>2310.000</td>\n",
       "      <td>5813.000</td>\n",
       "      <td>2.000</td>\n",
       "      <td>...</td>\n",
       "      <td>8</td>\n",
       "      <td>2310.000</td>\n",
       "      <td>0.000</td>\n",
       "      <td>2014</td>\n",
       "      <td>0.000</td>\n",
       "      <td>98146</td>\n",
       "      <td>47.511</td>\n",
       "      <td>-122.362</td>\n",
       "      <td>1830.000</td>\n",
       "      <td>7200.000</td>\n",
       "    </tr>\n",
       "    <tr>\n",
       "      <th>21417</th>\n",
       "      <td>2014-06-23</td>\n",
       "      <td>402101.000</td>\n",
       "      <td>1523300141</td>\n",
       "      <td>21595</td>\n",
       "      <td>1523300141</td>\n",
       "      <td>2.000</td>\n",
       "      <td>0.750</td>\n",
       "      <td>1020.000</td>\n",
       "      <td>1350.000</td>\n",
       "      <td>2.000</td>\n",
       "      <td>...</td>\n",
       "      <td>7</td>\n",
       "      <td>1020.000</td>\n",
       "      <td>0.000</td>\n",
       "      <td>2009</td>\n",
       "      <td>0.000</td>\n",
       "      <td>98144</td>\n",
       "      <td>47.594</td>\n",
       "      <td>-122.299</td>\n",
       "      <td>1020.000</td>\n",
       "      <td>2007.000</td>\n",
       "    </tr>\n",
       "    <tr>\n",
       "      <th>21418</th>\n",
       "      <td>2015-01-16</td>\n",
       "      <td>400000.000</td>\n",
       "      <td>291310100</td>\n",
       "      <td>21596</td>\n",
       "      <td>291310100</td>\n",
       "      <td>3.000</td>\n",
       "      <td>2.500</td>\n",
       "      <td>1600.000</td>\n",
       "      <td>2388.000</td>\n",
       "      <td>2.000</td>\n",
       "      <td>...</td>\n",
       "      <td>8</td>\n",
       "      <td>1600.000</td>\n",
       "      <td>0.000</td>\n",
       "      <td>2004</td>\n",
       "      <td>0.000</td>\n",
       "      <td>98027</td>\n",
       "      <td>47.535</td>\n",
       "      <td>-122.069</td>\n",
       "      <td>1410.000</td>\n",
       "      <td>1287.000</td>\n",
       "    </tr>\n",
       "    <tr>\n",
       "      <th>21419</th>\n",
       "      <td>2014-10-15</td>\n",
       "      <td>325000.000</td>\n",
       "      <td>1523300157</td>\n",
       "      <td>21597</td>\n",
       "      <td>1523300157</td>\n",
       "      <td>2.000</td>\n",
       "      <td>0.750</td>\n",
       "      <td>1020.000</td>\n",
       "      <td>1076.000</td>\n",
       "      <td>2.000</td>\n",
       "      <td>...</td>\n",
       "      <td>7</td>\n",
       "      <td>1020.000</td>\n",
       "      <td>0.000</td>\n",
       "      <td>2008</td>\n",
       "      <td>0.000</td>\n",
       "      <td>98144</td>\n",
       "      <td>47.594</td>\n",
       "      <td>-122.299</td>\n",
       "      <td>1020.000</td>\n",
       "      <td>1357.000</td>\n",
       "    </tr>\n",
       "  </tbody>\n",
       "</table>\n",
       "<p>21420 rows × 23 columns</p>\n",
       "</div>"
      ],
      "text/plain": [
       "             date      price    house_id   id_x        id_y  bedrooms   \n",
       "0      2014-10-13 221900.000  7129300520      1  7129300520     3.000  \\\n",
       "1      2014-12-09 538000.000  6414100192      2  6414100192     3.000   \n",
       "2      2015-02-25 180000.000  5631500400      3  5631500400     2.000   \n",
       "3      2014-12-09 604000.000  2487200875      4  2487200875     4.000   \n",
       "4      2015-02-18 510000.000  1954400510      5  1954400510     3.000   \n",
       "...           ...        ...         ...    ...         ...       ...   \n",
       "21415  2014-05-21 360000.000   263000018  21593   263000018     3.000   \n",
       "21416  2015-02-23 400000.000  6600060120  21594  6600060120     4.000   \n",
       "21417  2014-06-23 402101.000  1523300141  21595  1523300141     2.000   \n",
       "21418  2015-01-16 400000.000   291310100  21596   291310100     3.000   \n",
       "21419  2014-10-15 325000.000  1523300157  21597  1523300157     2.000   \n",
       "\n",
       "       bathrooms  sqft_living  sqft_lot  floors  ...  grade  sqft_above   \n",
       "0          1.000     1180.000  5650.000   1.000  ...      7    1180.000  \\\n",
       "1          2.250     2570.000  7242.000   2.000  ...      7    2170.000   \n",
       "2          1.000      770.000 10000.000   1.000  ...      6     770.000   \n",
       "3          3.000     1960.000  5000.000   1.000  ...      7    1050.000   \n",
       "4          2.000     1680.000  8080.000   1.000  ...      8    1680.000   \n",
       "...          ...          ...       ...     ...  ...    ...         ...   \n",
       "21415      2.500     1530.000  1131.000   3.000  ...      8    1530.000   \n",
       "21416      2.500     2310.000  5813.000   2.000  ...      8    2310.000   \n",
       "21417      0.750     1020.000  1350.000   2.000  ...      7    1020.000   \n",
       "21418      2.500     1600.000  2388.000   2.000  ...      8    1600.000   \n",
       "21419      0.750     1020.000  1076.000   2.000  ...      7    1020.000   \n",
       "\n",
       "       sqft_basement  yr_built  yr_renovated  zipcode    lat     long   \n",
       "0              0.000      1955         0.000    98178 47.511 -122.257  \\\n",
       "1            400.000      1951     19910.000    98125 47.721 -122.319   \n",
       "2              0.000      1933           NaN    98028 47.738 -122.233   \n",
       "3            910.000      1965         0.000    98136 47.521 -122.393   \n",
       "4              0.000      1987         0.000    98074 47.617 -122.045   \n",
       "...              ...       ...           ...      ...    ...      ...   \n",
       "21415          0.000      2009         0.000    98103 47.699 -122.346   \n",
       "21416          0.000      2014         0.000    98146 47.511 -122.362   \n",
       "21417          0.000      2009         0.000    98144 47.594 -122.299   \n",
       "21418          0.000      2004         0.000    98027 47.535 -122.069   \n",
       "21419          0.000      2008         0.000    98144 47.594 -122.299   \n",
       "\n",
       "       sqft_living15  sqft_lot15  \n",
       "0           1340.000    5650.000  \n",
       "1           1690.000    7639.000  \n",
       "2           2720.000    8062.000  \n",
       "3           1360.000    5000.000  \n",
       "4           1800.000    7503.000  \n",
       "...              ...         ...  \n",
       "21415       1530.000    1509.000  \n",
       "21416       1830.000    7200.000  \n",
       "21417       1020.000    2007.000  \n",
       "21418       1410.000    1287.000  \n",
       "21419       1020.000    1357.000  \n",
       "\n",
       "[21420 rows x 23 columns]"
      ]
     },
     "execution_count": 149,
     "metadata": {},
     "output_type": "execute_result"
    }
   ],
   "source": [
    "# export the data to a csv-file\n",
    "# this will create each csv file in the data folder\n",
    "\n",
    "# index=False : do not write row names\n",
    "df_sales.to_csv('data/king_county_house_sales.csv', index=False)\n",
    "df_details.to_csv('data/king_county_house_details.csv', index=False)\n",
    "\n",
    "\n",
    "#df_sql1.duplicated().value_counts()\n",
    "#df_sql2.duplicated().value_counts()\n",
    "#df_sql1.drop_duplicates()\n",
    "#df_sql2.drop_duplicates()\n",
    "\n",
    "#df_sql2.nunique()\n",
    "\n",
    "\n",
    "# merge two DataFrame\n",
    "# in this case, there is a same columns's name called id\n",
    "# use left on and right on parameters to specify which is which\n",
    "# how='left': use only keys from left frame, preserve key order\n",
    "df_sales_details = pd.merge(df_sales, df_details, left_on='house_id', right_on='id', how='outer')\n",
    "\n",
    "#df_sales_details = df_sales.join(df_details, rsuffix=int)\n",
    "#df_sales_details.drop_duplicates(subset='id')\n",
    "\n",
    "\n",
    "#df_kc_house = pd.concat([df_sql1, df_sql2], axis=1)\n",
    "#frame = [df_sql1, df_sql2]\n",
    "#df_kc_house = pd.concat(frame)\n",
    "\n",
    "df_sales_details"
   ]
  },
  {
   "cell_type": "code",
   "execution_count": 150,
   "metadata": {},
   "outputs": [
    {
     "data": {
      "text/html": [
       "<div>\n",
       "<style scoped>\n",
       "    .dataframe tbody tr th:only-of-type {\n",
       "        vertical-align: middle;\n",
       "    }\n",
       "\n",
       "    .dataframe tbody tr th {\n",
       "        vertical-align: top;\n",
       "    }\n",
       "\n",
       "    .dataframe thead th {\n",
       "        text-align: right;\n",
       "    }\n",
       "</style>\n",
       "<table border=\"1\" class=\"dataframe\">\n",
       "  <thead>\n",
       "    <tr style=\"text-align: right;\">\n",
       "      <th></th>\n",
       "      <th>price</th>\n",
       "      <th>house_id</th>\n",
       "      <th>id_x</th>\n",
       "      <th>id_y</th>\n",
       "      <th>bedrooms</th>\n",
       "      <th>bathrooms</th>\n",
       "      <th>sqft_living</th>\n",
       "      <th>sqft_lot</th>\n",
       "      <th>floors</th>\n",
       "      <th>waterfront</th>\n",
       "      <th>...</th>\n",
       "      <th>grade</th>\n",
       "      <th>sqft_above</th>\n",
       "      <th>sqft_basement</th>\n",
       "      <th>yr_built</th>\n",
       "      <th>yr_renovated</th>\n",
       "      <th>zipcode</th>\n",
       "      <th>lat</th>\n",
       "      <th>long</th>\n",
       "      <th>sqft_living15</th>\n",
       "      <th>sqft_lot15</th>\n",
       "    </tr>\n",
       "  </thead>\n",
       "  <tbody>\n",
       "    <tr>\n",
       "      <th>count</th>\n",
       "      <td>21420.000</td>\n",
       "      <td>21420.000</td>\n",
       "      <td>21420.000</td>\n",
       "      <td>21420.000</td>\n",
       "      <td>21420.000</td>\n",
       "      <td>21420.000</td>\n",
       "      <td>21420.000</td>\n",
       "      <td>21420.000</td>\n",
       "      <td>21420.000</td>\n",
       "      <td>19060.000</td>\n",
       "      <td>...</td>\n",
       "      <td>21420.000</td>\n",
       "      <td>21420.000</td>\n",
       "      <td>20969.000</td>\n",
       "      <td>21420.000</td>\n",
       "      <td>17609.000</td>\n",
       "      <td>21420.000</td>\n",
       "      <td>21420.000</td>\n",
       "      <td>21420.000</td>\n",
       "      <td>21420.000</td>\n",
       "      <td>21420.000</td>\n",
       "    </tr>\n",
       "    <tr>\n",
       "      <th>mean</th>\n",
       "      <td>541861.428</td>\n",
       "      <td>4580939869.158</td>\n",
       "      <td>10803.538</td>\n",
       "      <td>4580939869.158</td>\n",
       "      <td>3.374</td>\n",
       "      <td>2.118</td>\n",
       "      <td>2083.133</td>\n",
       "      <td>15128.038</td>\n",
       "      <td>1.496</td>\n",
       "      <td>0.008</td>\n",
       "      <td>...</td>\n",
       "      <td>7.663</td>\n",
       "      <td>1791.170</td>\n",
       "      <td>292.087</td>\n",
       "      <td>1971.093</td>\n",
       "      <td>838.806</td>\n",
       "      <td>98077.874</td>\n",
       "      <td>47.560</td>\n",
       "      <td>-122.214</td>\n",
       "      <td>1988.384</td>\n",
       "      <td>12775.718</td>\n",
       "    </tr>\n",
       "    <tr>\n",
       "      <th>std</th>\n",
       "      <td>367556.938</td>\n",
       "      <td>2876761172.448</td>\n",
       "      <td>6239.148</td>\n",
       "      <td>2876761172.448</td>\n",
       "      <td>0.925</td>\n",
       "      <td>0.769</td>\n",
       "      <td>918.808</td>\n",
       "      <td>41530.797</td>\n",
       "      <td>0.540</td>\n",
       "      <td>0.087</td>\n",
       "      <td>...</td>\n",
       "      <td>1.172</td>\n",
       "      <td>828.693</td>\n",
       "      <td>442.696</td>\n",
       "      <td>29.387</td>\n",
       "      <td>4005.127</td>\n",
       "      <td>53.477</td>\n",
       "      <td>0.139</td>\n",
       "      <td>0.141</td>\n",
       "      <td>685.537</td>\n",
       "      <td>27345.622</td>\n",
       "    </tr>\n",
       "    <tr>\n",
       "      <th>min</th>\n",
       "      <td>78000.000</td>\n",
       "      <td>1000102.000</td>\n",
       "      <td>1.000</td>\n",
       "      <td>1000102.000</td>\n",
       "      <td>1.000</td>\n",
       "      <td>0.500</td>\n",
       "      <td>370.000</td>\n",
       "      <td>520.000</td>\n",
       "      <td>1.000</td>\n",
       "      <td>0.000</td>\n",
       "      <td>...</td>\n",
       "      <td>3.000</td>\n",
       "      <td>370.000</td>\n",
       "      <td>0.000</td>\n",
       "      <td>1900.000</td>\n",
       "      <td>0.000</td>\n",
       "      <td>98001.000</td>\n",
       "      <td>47.156</td>\n",
       "      <td>-122.519</td>\n",
       "      <td>399.000</td>\n",
       "      <td>651.000</td>\n",
       "    </tr>\n",
       "    <tr>\n",
       "      <th>25%</th>\n",
       "      <td>324950.000</td>\n",
       "      <td>2123537386.750</td>\n",
       "      <td>5397.750</td>\n",
       "      <td>2123537386.750</td>\n",
       "      <td>3.000</td>\n",
       "      <td>1.750</td>\n",
       "      <td>1430.000</td>\n",
       "      <td>5040.000</td>\n",
       "      <td>1.000</td>\n",
       "      <td>0.000</td>\n",
       "      <td>...</td>\n",
       "      <td>7.000</td>\n",
       "      <td>1200.000</td>\n",
       "      <td>0.000</td>\n",
       "      <td>1952.000</td>\n",
       "      <td>0.000</td>\n",
       "      <td>98033.000</td>\n",
       "      <td>47.471</td>\n",
       "      <td>-122.328</td>\n",
       "      <td>1490.000</td>\n",
       "      <td>5100.000</td>\n",
       "    </tr>\n",
       "    <tr>\n",
       "      <th>50%</th>\n",
       "      <td>450550.000</td>\n",
       "      <td>3904921185.000</td>\n",
       "      <td>10802.500</td>\n",
       "      <td>3904921185.000</td>\n",
       "      <td>3.000</td>\n",
       "      <td>2.250</td>\n",
       "      <td>1920.000</td>\n",
       "      <td>7614.000</td>\n",
       "      <td>1.500</td>\n",
       "      <td>0.000</td>\n",
       "      <td>...</td>\n",
       "      <td>7.000</td>\n",
       "      <td>1560.000</td>\n",
       "      <td>0.000</td>\n",
       "      <td>1975.000</td>\n",
       "      <td>0.000</td>\n",
       "      <td>98065.000</td>\n",
       "      <td>47.572</td>\n",
       "      <td>-122.230</td>\n",
       "      <td>1840.000</td>\n",
       "      <td>7620.000</td>\n",
       "    </tr>\n",
       "    <tr>\n",
       "      <th>75%</th>\n",
       "      <td>645000.000</td>\n",
       "      <td>7308900186.250</td>\n",
       "      <td>16213.250</td>\n",
       "      <td>7308900186.250</td>\n",
       "      <td>4.000</td>\n",
       "      <td>2.500</td>\n",
       "      <td>2550.000</td>\n",
       "      <td>10690.500</td>\n",
       "      <td>2.000</td>\n",
       "      <td>0.000</td>\n",
       "      <td>...</td>\n",
       "      <td>8.000</td>\n",
       "      <td>2220.000</td>\n",
       "      <td>560.000</td>\n",
       "      <td>1997.000</td>\n",
       "      <td>0.000</td>\n",
       "      <td>98117.000</td>\n",
       "      <td>47.678</td>\n",
       "      <td>-122.125</td>\n",
       "      <td>2370.000</td>\n",
       "      <td>10086.250</td>\n",
       "    </tr>\n",
       "    <tr>\n",
       "      <th>max</th>\n",
       "      <td>7700000.000</td>\n",
       "      <td>9900000190.000</td>\n",
       "      <td>21597.000</td>\n",
       "      <td>9900000190.000</td>\n",
       "      <td>33.000</td>\n",
       "      <td>8.000</td>\n",
       "      <td>13540.000</td>\n",
       "      <td>1651359.000</td>\n",
       "      <td>3.500</td>\n",
       "      <td>1.000</td>\n",
       "      <td>...</td>\n",
       "      <td>13.000</td>\n",
       "      <td>9410.000</td>\n",
       "      <td>4820.000</td>\n",
       "      <td>2015.000</td>\n",
       "      <td>20150.000</td>\n",
       "      <td>98199.000</td>\n",
       "      <td>47.778</td>\n",
       "      <td>-121.315</td>\n",
       "      <td>6210.000</td>\n",
       "      <td>871200.000</td>\n",
       "    </tr>\n",
       "  </tbody>\n",
       "</table>\n",
       "<p>8 rows × 22 columns</p>\n",
       "</div>"
      ],
      "text/plain": [
       "            price       house_id      id_x           id_y  bedrooms   \n",
       "count   21420.000      21420.000 21420.000      21420.000 21420.000  \\\n",
       "mean   541861.428 4580939869.158 10803.538 4580939869.158     3.374   \n",
       "std    367556.938 2876761172.448  6239.148 2876761172.448     0.925   \n",
       "min     78000.000    1000102.000     1.000    1000102.000     1.000   \n",
       "25%    324950.000 2123537386.750  5397.750 2123537386.750     3.000   \n",
       "50%    450550.000 3904921185.000 10802.500 3904921185.000     3.000   \n",
       "75%    645000.000 7308900186.250 16213.250 7308900186.250     4.000   \n",
       "max   7700000.000 9900000190.000 21597.000 9900000190.000    33.000   \n",
       "\n",
       "       bathrooms  sqft_living    sqft_lot    floors  waterfront  ...   \n",
       "count  21420.000    21420.000   21420.000 21420.000   19060.000  ...  \\\n",
       "mean       2.118     2083.133   15128.038     1.496       0.008  ...   \n",
       "std        0.769      918.808   41530.797     0.540       0.087  ...   \n",
       "min        0.500      370.000     520.000     1.000       0.000  ...   \n",
       "25%        1.750     1430.000    5040.000     1.000       0.000  ...   \n",
       "50%        2.250     1920.000    7614.000     1.500       0.000  ...   \n",
       "75%        2.500     2550.000   10690.500     2.000       0.000  ...   \n",
       "max        8.000    13540.000 1651359.000     3.500       1.000  ...   \n",
       "\n",
       "          grade  sqft_above  sqft_basement  yr_built  yr_renovated   zipcode   \n",
       "count 21420.000   21420.000      20969.000 21420.000     17609.000 21420.000  \\\n",
       "mean      7.663    1791.170        292.087  1971.093       838.806 98077.874   \n",
       "std       1.172     828.693        442.696    29.387      4005.127    53.477   \n",
       "min       3.000     370.000          0.000  1900.000         0.000 98001.000   \n",
       "25%       7.000    1200.000          0.000  1952.000         0.000 98033.000   \n",
       "50%       7.000    1560.000          0.000  1975.000         0.000 98065.000   \n",
       "75%       8.000    2220.000        560.000  1997.000         0.000 98117.000   \n",
       "max      13.000    9410.000       4820.000  2015.000     20150.000 98199.000   \n",
       "\n",
       "            lat      long  sqft_living15  sqft_lot15  \n",
       "count 21420.000 21420.000      21420.000   21420.000  \n",
       "mean     47.560  -122.214       1988.384   12775.718  \n",
       "std       0.139     0.141        685.537   27345.622  \n",
       "min      47.156  -122.519        399.000     651.000  \n",
       "25%      47.471  -122.328       1490.000    5100.000  \n",
       "50%      47.572  -122.230       1840.000    7620.000  \n",
       "75%      47.678  -122.125       2370.000   10086.250  \n",
       "max      47.778  -121.315       6210.000  871200.000  \n",
       "\n",
       "[8 rows x 22 columns]"
      ]
     },
     "execution_count": 150,
     "metadata": {},
     "output_type": "execute_result"
    }
   ],
   "source": [
    "# extract info for overview of our dataset presentation\n",
    "#df_sales_details.sort_values('date').head()\n",
    "#df_sales_details.sort_values('date').tail()\n",
    "df_sales_details.describe()\n"
   ]
  },
  {
   "cell_type": "markdown",
   "metadata": {},
   "source": []
  },
  {
   "cell_type": "markdown",
   "metadata": {},
   "source": [
    "<style>\n",
    "r { color: Red }\n",
    "o { color: Orange }\n",
    "g { color: Green }\n",
    "</style>\n",
    "\n",
    "## Step 3: Define Problem and Initial Hypothesis\n",
    "Based on our data, we can ask some questions (<o>Q</o>) and make initial hypotheses (<g>H</g>) based on the requirements from our client, Mr. Sanders.\n",
    "\n",
    "<r>Requirement 1: Has a view of waterfront</r>   \n",
    "<o>Q</o>: Is house near waterfront expensive?   \n",
    "<g>H</g>: The closer the house to the water, the expensive the house is\n",
    "\n",
    "<r>Requirement 2: Enough space for a family</r>   \n",
    "<o>Q</o>: How many bedrooms needed for Mr. Sanders, and what is its relation with price?   \n",
    "<g>H</g>: If more than 1 person living in the house, then more bedrooms are needed, the higher the price   \n",
    "\n",
    "<r>Requirement 3: Nice and isolated</r>   \n",
    "<o>Q</o>: Is there any correlation between nice and isolated house?   \n",
    "<g>H</g>: The nicer the house, the more isolated the house is\n",
    "\n",
    "<o>Q</o>: How big the square footage of land lots of the nearest 15 neighbors?   \n",
    "<g>H</g>: The bigger the square foot of land lots, the more isolated the house is, the less gem you will get"
   ]
  },
  {
   "cell_type": "markdown",
   "metadata": {},
   "source": [
    "## Step 4: Clean and Prepare Data"
   ]
  },
  {
   "cell_type": "code",
   "execution_count": 198,
   "metadata": {},
   "outputs": [
    {
     "name": "stdout",
     "output_type": "stream",
     "text": [
      "<class 'pandas.core.frame.DataFrame'>\n",
      "RangeIndex: 91 entries, 0 to 90\n",
      "Data columns (total 21 columns):\n",
      " #   Column                   Non-Null Count  Dtype         \n",
      "---  ------                   --------------  -----         \n",
      " 0   date                     91 non-null     datetime64[ns]\n",
      " 1   price                    91 non-null     float64       \n",
      " 2   house_id                 91 non-null     int64         \n",
      " 3   bedrooms                 91 non-null     float64       \n",
      " 4   bathrooms                91 non-null     float64       \n",
      " 5   sqft_living              91 non-null     float64       \n",
      " 6   sqft_lot                 91 non-null     float64       \n",
      " 7   floors                   91 non-null     float64       \n",
      " 8   waterfront               91 non-null     int64         \n",
      " 9   view                     91 non-null     int64         \n",
      " 10  condition                91 non-null     int64         \n",
      " 11  grade                    91 non-null     int64         \n",
      " 12  sqft_above               91 non-null     float64       \n",
      " 13  sqft_basement            91 non-null     float64       \n",
      " 14  year_built               91 non-null     int64         \n",
      " 15  year_renovated           91 non-null     int64         \n",
      " 16  zipcode                  91 non-null     int64         \n",
      " 17  latitude                 91 non-null     float64       \n",
      " 18  longitude                91 non-null     float64       \n",
      " 19  sqft_living_15neighbors  91 non-null     float64       \n",
      " 20  sqft_lots_15neighbors    91 non-null     float64       \n",
      "dtypes: datetime64[ns](1), float64(12), int64(8)\n",
      "memory usage: 15.1 KB\n"
     ]
    }
   ],
   "source": [
    "# print concise summary of DataFrame\n",
    "df_sales_details.info()"
   ]
  },
  {
   "cell_type": "markdown",
   "metadata": {},
   "source": [
    "By looking at the summary, we know we have 21420 unit houses.\n",
    "\n",
    "Things to keep in mind to prepare our DataFrame:\n",
    "1. Check missing value\n",
    "2. Reindex after removed rows\n",
    "1. Drop duplicate columns\n",
    "2. Rename the column's label\n",
    "3. Change data type\n",
    "4. Rounding decimal place (if needed)\n",
    "\n",
    "Checking missing value in the DataFrame is a crucial step because for some commands, we cannot do some changes to our DataFrame when there is NaN value in our table."
   ]
  },
  {
   "cell_type": "code",
   "execution_count": 199,
   "metadata": {},
   "outputs": [
    {
     "data": {
      "text/plain": [
       "date                       0\n",
       "price                      0\n",
       "house_id                   0\n",
       "bedrooms                   0\n",
       "bathrooms                  0\n",
       "sqft_living                0\n",
       "sqft_lot                   0\n",
       "floors                     0\n",
       "waterfront                 0\n",
       "view                       0\n",
       "condition                  0\n",
       "grade                      0\n",
       "sqft_above                 0\n",
       "sqft_basement              0\n",
       "year_built                 0\n",
       "year_renovated             0\n",
       "zipcode                    0\n",
       "latitude                   0\n",
       "longitude                  0\n",
       "sqft_living_15neighbors    0\n",
       "sqft_lots_15neighbors      0\n",
       "dtype: int64"
      ]
     },
     "execution_count": 199,
     "metadata": {},
     "output_type": "execute_result"
    }
   ],
   "source": [
    "# check sum of missing values per column\n",
    "df_sales_details.isnull().sum()"
   ]
  },
  {
   "cell_type": "markdown",
   "metadata": {},
   "source": [
    "Since we have a lot of choices for the houses (21420 units), we can remove all houses that has incomplete information."
   ]
  },
  {
   "cell_type": "code",
   "execution_count": 200,
   "metadata": {},
   "outputs": [
    {
     "data": {
      "text/plain": [
       "date                       0\n",
       "price                      0\n",
       "house_id                   0\n",
       "bedrooms                   0\n",
       "bathrooms                  0\n",
       "sqft_living                0\n",
       "sqft_lot                   0\n",
       "floors                     0\n",
       "waterfront                 0\n",
       "view                       0\n",
       "condition                  0\n",
       "grade                      0\n",
       "sqft_above                 0\n",
       "sqft_basement              0\n",
       "year_built                 0\n",
       "year_renovated             0\n",
       "zipcode                    0\n",
       "latitude                   0\n",
       "longitude                  0\n",
       "sqft_living_15neighbors    0\n",
       "sqft_lots_15neighbors      0\n",
       "dtype: int64"
      ]
     },
     "execution_count": 200,
     "metadata": {},
     "output_type": "execute_result"
    }
   ],
   "source": [
    "# drop the whole rows for if nans are present\n",
    "df_sales_details.dropna(inplace=True)\n",
    "\n",
    "# reset the index because we removed rows\n",
    "df_sales_details.reset_index(inplace=True, drop=True)\n",
    "\n",
    "df_sales_details.isnull().sum()"
   ]
  },
  {
   "cell_type": "code",
   "execution_count": 201,
   "metadata": {},
   "outputs": [
    {
     "data": {
      "text/plain": [
       "(91, 21)"
      ]
     },
     "execution_count": 201,
     "metadata": {},
     "output_type": "execute_result"
    }
   ],
   "source": [
    "# check how may rows and columns left\n",
    "df_sales_details.shape"
   ]
  },
  {
   "cell_type": "code",
   "execution_count": 202,
   "metadata": {},
   "outputs": [
    {
     "data": {
      "text/html": [
       "<div>\n",
       "<style scoped>\n",
       "    .dataframe tbody tr th:only-of-type {\n",
       "        vertical-align: middle;\n",
       "    }\n",
       "\n",
       "    .dataframe tbody tr th {\n",
       "        vertical-align: top;\n",
       "    }\n",
       "\n",
       "    .dataframe thead th {\n",
       "        text-align: right;\n",
       "    }\n",
       "</style>\n",
       "<table border=\"1\" class=\"dataframe\">\n",
       "  <thead>\n",
       "    <tr style=\"text-align: right;\">\n",
       "      <th></th>\n",
       "      <th>date</th>\n",
       "      <th>price</th>\n",
       "      <th>house_id</th>\n",
       "      <th>bedrooms</th>\n",
       "      <th>bathrooms</th>\n",
       "      <th>sqft_living</th>\n",
       "      <th>sqft_lot</th>\n",
       "      <th>floors</th>\n",
       "      <th>waterfront</th>\n",
       "      <th>view</th>\n",
       "      <th>...</th>\n",
       "      <th>grade</th>\n",
       "      <th>sqft_above</th>\n",
       "      <th>sqft_basement</th>\n",
       "      <th>year_built</th>\n",
       "      <th>year_renovated</th>\n",
       "      <th>zipcode</th>\n",
       "      <th>latitude</th>\n",
       "      <th>longitude</th>\n",
       "      <th>sqft_living_15neighbors</th>\n",
       "      <th>sqft_lots_15neighbors</th>\n",
       "    </tr>\n",
       "  </thead>\n",
       "  <tbody>\n",
       "    <tr>\n",
       "      <th>64</th>\n",
       "      <td>2014-08-12</td>\n",
       "      <td>3200000.000</td>\n",
       "      <td>624069108</td>\n",
       "      <td>4.000</td>\n",
       "      <td>3.250</td>\n",
       "      <td>7000.000</td>\n",
       "      <td>28206.000</td>\n",
       "      <td>1.000</td>\n",
       "      <td>1</td>\n",
       "      <td>4</td>\n",
       "      <td>...</td>\n",
       "      <td>12</td>\n",
       "      <td>3500.000</td>\n",
       "      <td>3500.000</td>\n",
       "      <td>1991</td>\n",
       "      <td>0</td>\n",
       "      <td>98075</td>\n",
       "      <td>47.593</td>\n",
       "      <td>-122.086</td>\n",
       "      <td>4913.000</td>\n",
       "      <td>14663.000</td>\n",
       "    </tr>\n",
       "    <tr>\n",
       "      <th>11</th>\n",
       "      <td>2015-03-30</td>\n",
       "      <td>960000.000</td>\n",
       "      <td>1925069121</td>\n",
       "      <td>3.000</td>\n",
       "      <td>2.500</td>\n",
       "      <td>1730.000</td>\n",
       "      <td>4102.000</td>\n",
       "      <td>3.000</td>\n",
       "      <td>1</td>\n",
       "      <td>4</td>\n",
       "      <td>...</td>\n",
       "      <td>8</td>\n",
       "      <td>1730.000</td>\n",
       "      <td>0.000</td>\n",
       "      <td>1996</td>\n",
       "      <td>0</td>\n",
       "      <td>98074</td>\n",
       "      <td>47.645</td>\n",
       "      <td>-122.084</td>\n",
       "      <td>2340.000</td>\n",
       "      <td>16994.000</td>\n",
       "    </tr>\n",
       "  </tbody>\n",
       "</table>\n",
       "<p>2 rows × 21 columns</p>\n",
       "</div>"
      ],
      "text/plain": [
       "         date       price    house_id  bedrooms  bathrooms  sqft_living   \n",
       "64 2014-08-12 3200000.000   624069108     4.000      3.250     7000.000  \\\n",
       "11 2015-03-30  960000.000  1925069121     3.000      2.500     1730.000   \n",
       "\n",
       "    sqft_lot  floors  waterfront  view  ...  grade  sqft_above  sqft_basement   \n",
       "64 28206.000   1.000           1     4  ...     12    3500.000       3500.000  \\\n",
       "11  4102.000   3.000           1     4  ...      8    1730.000          0.000   \n",
       "\n",
       "    year_built  year_renovated  zipcode  latitude  longitude   \n",
       "64        1991               0    98075    47.593   -122.086  \\\n",
       "11        1996               0    98074    47.645   -122.084   \n",
       "\n",
       "    sqft_living_15neighbors  sqft_lots_15neighbors  \n",
       "64                 4913.000              14663.000  \n",
       "11                 2340.000              16994.000  \n",
       "\n",
       "[2 rows x 21 columns]"
      ]
     },
     "execution_count": 202,
     "metadata": {},
     "output_type": "execute_result"
    }
   ],
   "source": [
    "# have a look again how the DataFrame looks like \n",
    "# pick random rows\n",
    "df_sales_details.sample(2)"
   ]
  },
  {
   "cell_type": "code",
   "execution_count": 203,
   "metadata": {},
   "outputs": [
    {
     "ename": "KeyError",
     "evalue": "\"['id_y', 'id_x'] not found in axis\"",
     "output_type": "error",
     "traceback": [
      "\u001b[0;31m---------------------------------------------------------------------------\u001b[0m",
      "\u001b[0;31mKeyError\u001b[0m                                  Traceback (most recent call last)",
      "Cell \u001b[0;32mIn[203], line 7\u001b[0m\n\u001b[1;32m      1\u001b[0m \u001b[38;5;66;03m# drop column id_y since it is redundant with column house_id\u001b[39;00m\n\u001b[1;32m      2\u001b[0m \u001b[38;5;66;03m# drop column id_x since we already have index\u001b[39;00m\n\u001b[1;32m      3\u001b[0m \u001b[38;5;66;03m# if use .drop, it will auto print the DataFrame after drop\u001b[39;00m\n\u001b[1;32m      4\u001b[0m \u001b[38;5;66;03m# so need to put df_sales_details = df_sales_details.drop\u001b[39;00m\n\u001b[1;32m      5\u001b[0m \u001b[38;5;66;03m# if you change something on DataFrame, \u001b[39;00m\n\u001b[1;32m      6\u001b[0m \u001b[38;5;66;03m# DataFrame need to redeclare\u001b[39;00m\n\u001b[0;32m----> 7\u001b[0m df_sales_details \u001b[38;5;241m=\u001b[39m \u001b[43mdf_sales_details\u001b[49m\u001b[38;5;241;43m.\u001b[39;49m\u001b[43mdrop\u001b[49m\u001b[43m(\u001b[49m\u001b[43m[\u001b[49m\u001b[38;5;124;43m'\u001b[39;49m\u001b[38;5;124;43mid_y\u001b[39;49m\u001b[38;5;124;43m'\u001b[39;49m\u001b[43m,\u001b[49m\u001b[43m \u001b[49m\u001b[38;5;124;43m'\u001b[39;49m\u001b[38;5;124;43mid_x\u001b[39;49m\u001b[38;5;124;43m'\u001b[39;49m\u001b[43m]\u001b[49m\u001b[43m,\u001b[49m\u001b[43m \u001b[49m\u001b[43maxis\u001b[49m\u001b[38;5;241;43m=\u001b[39;49m\u001b[38;5;241;43m1\u001b[39;49m\u001b[43m)\u001b[49m\n\u001b[1;32m      8\u001b[0m df_sales_details\u001b[38;5;241m.\u001b[39mhead(\u001b[38;5;241m2\u001b[39m)\n",
      "File \u001b[0;32m~/.venv/lib/python3.11/site-packages/pandas/core/frame.py:5268\u001b[0m, in \u001b[0;36mDataFrame.drop\u001b[0;34m(self, labels, axis, index, columns, level, inplace, errors)\u001b[0m\n\u001b[1;32m   5120\u001b[0m \u001b[38;5;28;01mdef\u001b[39;00m \u001b[38;5;21mdrop\u001b[39m(\n\u001b[1;32m   5121\u001b[0m     \u001b[38;5;28mself\u001b[39m,\n\u001b[1;32m   5122\u001b[0m     labels: IndexLabel \u001b[38;5;241m=\u001b[39m \u001b[38;5;28;01mNone\u001b[39;00m,\n\u001b[0;32m   (...)\u001b[0m\n\u001b[1;32m   5129\u001b[0m     errors: IgnoreRaise \u001b[38;5;241m=\u001b[39m \u001b[38;5;124m\"\u001b[39m\u001b[38;5;124mraise\u001b[39m\u001b[38;5;124m\"\u001b[39m,\n\u001b[1;32m   5130\u001b[0m ) \u001b[38;5;241m-\u001b[39m\u001b[38;5;241m>\u001b[39m DataFrame \u001b[38;5;241m|\u001b[39m \u001b[38;5;28;01mNone\u001b[39;00m:\n\u001b[1;32m   5131\u001b[0m \u001b[38;5;250m    \u001b[39m\u001b[38;5;124;03m\"\"\"\u001b[39;00m\n\u001b[1;32m   5132\u001b[0m \u001b[38;5;124;03m    Drop specified labels from rows or columns.\u001b[39;00m\n\u001b[1;32m   5133\u001b[0m \n\u001b[0;32m   (...)\u001b[0m\n\u001b[1;32m   5266\u001b[0m \u001b[38;5;124;03m            weight  1.0     0.8\u001b[39;00m\n\u001b[1;32m   5267\u001b[0m \u001b[38;5;124;03m    \"\"\"\u001b[39;00m\n\u001b[0;32m-> 5268\u001b[0m     \u001b[38;5;28;01mreturn\u001b[39;00m \u001b[38;5;28;43msuper\u001b[39;49m\u001b[43m(\u001b[49m\u001b[43m)\u001b[49m\u001b[38;5;241;43m.\u001b[39;49m\u001b[43mdrop\u001b[49m\u001b[43m(\u001b[49m\n\u001b[1;32m   5269\u001b[0m \u001b[43m        \u001b[49m\u001b[43mlabels\u001b[49m\u001b[38;5;241;43m=\u001b[39;49m\u001b[43mlabels\u001b[49m\u001b[43m,\u001b[49m\n\u001b[1;32m   5270\u001b[0m \u001b[43m        \u001b[49m\u001b[43maxis\u001b[49m\u001b[38;5;241;43m=\u001b[39;49m\u001b[43maxis\u001b[49m\u001b[43m,\u001b[49m\n\u001b[1;32m   5271\u001b[0m \u001b[43m        \u001b[49m\u001b[43mindex\u001b[49m\u001b[38;5;241;43m=\u001b[39;49m\u001b[43mindex\u001b[49m\u001b[43m,\u001b[49m\n\u001b[1;32m   5272\u001b[0m \u001b[43m        \u001b[49m\u001b[43mcolumns\u001b[49m\u001b[38;5;241;43m=\u001b[39;49m\u001b[43mcolumns\u001b[49m\u001b[43m,\u001b[49m\n\u001b[1;32m   5273\u001b[0m \u001b[43m        \u001b[49m\u001b[43mlevel\u001b[49m\u001b[38;5;241;43m=\u001b[39;49m\u001b[43mlevel\u001b[49m\u001b[43m,\u001b[49m\n\u001b[1;32m   5274\u001b[0m \u001b[43m        \u001b[49m\u001b[43minplace\u001b[49m\u001b[38;5;241;43m=\u001b[39;49m\u001b[43minplace\u001b[49m\u001b[43m,\u001b[49m\n\u001b[1;32m   5275\u001b[0m \u001b[43m        \u001b[49m\u001b[43merrors\u001b[49m\u001b[38;5;241;43m=\u001b[39;49m\u001b[43merrors\u001b[49m\u001b[43m,\u001b[49m\n\u001b[1;32m   5276\u001b[0m \u001b[43m    \u001b[49m\u001b[43m)\u001b[49m\n",
      "File \u001b[0;32m~/.venv/lib/python3.11/site-packages/pandas/core/generic.py:4549\u001b[0m, in \u001b[0;36mNDFrame.drop\u001b[0;34m(self, labels, axis, index, columns, level, inplace, errors)\u001b[0m\n\u001b[1;32m   4547\u001b[0m \u001b[38;5;28;01mfor\u001b[39;00m axis, labels \u001b[38;5;129;01min\u001b[39;00m axes\u001b[38;5;241m.\u001b[39mitems():\n\u001b[1;32m   4548\u001b[0m     \u001b[38;5;28;01mif\u001b[39;00m labels \u001b[38;5;129;01mis\u001b[39;00m \u001b[38;5;129;01mnot\u001b[39;00m \u001b[38;5;28;01mNone\u001b[39;00m:\n\u001b[0;32m-> 4549\u001b[0m         obj \u001b[38;5;241m=\u001b[39m \u001b[43mobj\u001b[49m\u001b[38;5;241;43m.\u001b[39;49m\u001b[43m_drop_axis\u001b[49m\u001b[43m(\u001b[49m\u001b[43mlabels\u001b[49m\u001b[43m,\u001b[49m\u001b[43m \u001b[49m\u001b[43maxis\u001b[49m\u001b[43m,\u001b[49m\u001b[43m \u001b[49m\u001b[43mlevel\u001b[49m\u001b[38;5;241;43m=\u001b[39;49m\u001b[43mlevel\u001b[49m\u001b[43m,\u001b[49m\u001b[43m \u001b[49m\u001b[43merrors\u001b[49m\u001b[38;5;241;43m=\u001b[39;49m\u001b[43merrors\u001b[49m\u001b[43m)\u001b[49m\n\u001b[1;32m   4551\u001b[0m \u001b[38;5;28;01mif\u001b[39;00m inplace:\n\u001b[1;32m   4552\u001b[0m     \u001b[38;5;28mself\u001b[39m\u001b[38;5;241m.\u001b[39m_update_inplace(obj)\n",
      "File \u001b[0;32m~/.venv/lib/python3.11/site-packages/pandas/core/generic.py:4591\u001b[0m, in \u001b[0;36mNDFrame._drop_axis\u001b[0;34m(self, labels, axis, level, errors, only_slice)\u001b[0m\n\u001b[1;32m   4589\u001b[0m         new_axis \u001b[38;5;241m=\u001b[39m axis\u001b[38;5;241m.\u001b[39mdrop(labels, level\u001b[38;5;241m=\u001b[39mlevel, errors\u001b[38;5;241m=\u001b[39merrors)\n\u001b[1;32m   4590\u001b[0m     \u001b[38;5;28;01melse\u001b[39;00m:\n\u001b[0;32m-> 4591\u001b[0m         new_axis \u001b[38;5;241m=\u001b[39m \u001b[43maxis\u001b[49m\u001b[38;5;241;43m.\u001b[39;49m\u001b[43mdrop\u001b[49m\u001b[43m(\u001b[49m\u001b[43mlabels\u001b[49m\u001b[43m,\u001b[49m\u001b[43m \u001b[49m\u001b[43merrors\u001b[49m\u001b[38;5;241;43m=\u001b[39;49m\u001b[43merrors\u001b[49m\u001b[43m)\u001b[49m\n\u001b[1;32m   4592\u001b[0m     indexer \u001b[38;5;241m=\u001b[39m axis\u001b[38;5;241m.\u001b[39mget_indexer(new_axis)\n\u001b[1;32m   4594\u001b[0m \u001b[38;5;66;03m# Case for non-unique axis\u001b[39;00m\n\u001b[1;32m   4595\u001b[0m \u001b[38;5;28;01melse\u001b[39;00m:\n",
      "File \u001b[0;32m~/.venv/lib/python3.11/site-packages/pandas/core/indexes/base.py:6696\u001b[0m, in \u001b[0;36mIndex.drop\u001b[0;34m(self, labels, errors)\u001b[0m\n\u001b[1;32m   6694\u001b[0m \u001b[38;5;28;01mif\u001b[39;00m mask\u001b[38;5;241m.\u001b[39many():\n\u001b[1;32m   6695\u001b[0m     \u001b[38;5;28;01mif\u001b[39;00m errors \u001b[38;5;241m!=\u001b[39m \u001b[38;5;124m\"\u001b[39m\u001b[38;5;124mignore\u001b[39m\u001b[38;5;124m\"\u001b[39m:\n\u001b[0;32m-> 6696\u001b[0m         \u001b[38;5;28;01mraise\u001b[39;00m \u001b[38;5;167;01mKeyError\u001b[39;00m(\u001b[38;5;124mf\u001b[39m\u001b[38;5;124m\"\u001b[39m\u001b[38;5;132;01m{\u001b[39;00m\u001b[38;5;28mlist\u001b[39m(labels[mask])\u001b[38;5;132;01m}\u001b[39;00m\u001b[38;5;124m not found in axis\u001b[39m\u001b[38;5;124m\"\u001b[39m)\n\u001b[1;32m   6697\u001b[0m     indexer \u001b[38;5;241m=\u001b[39m indexer[\u001b[38;5;241m~\u001b[39mmask]\n\u001b[1;32m   6698\u001b[0m \u001b[38;5;28;01mreturn\u001b[39;00m \u001b[38;5;28mself\u001b[39m\u001b[38;5;241m.\u001b[39mdelete(indexer)\n",
      "\u001b[0;31mKeyError\u001b[0m: \"['id_y', 'id_x'] not found in axis\""
     ]
    }
   ],
   "source": [
    "# drop column id_y since it is redundant with column house_id\n",
    "# drop column id_x since we already have index\n",
    "# if use .drop, it will auto print the DataFrame after drop\n",
    "# so need to put df_sales_details = df_sales_details.drop\n",
    "# if you change something on DataFrame, \n",
    "# DataFrame need to redeclare\n",
    "df_sales_details = df_sales_details.drop(['id_y', 'id_x'], axis=1)\n",
    "df_sales_details.head(2)"
   ]
  },
  {
   "cell_type": "code",
   "execution_count": null,
   "metadata": {},
   "outputs": [
    {
     "data": {
      "text/plain": [
       "Index(['date', 'price', 'house_id', 'bedrooms', 'bathrooms', 'sqft_living',\n",
       "       'sqft_lot', 'floors', 'waterfront', 'view', 'condition', 'grade',\n",
       "       'sqft_above', 'sqft_basement', 'yr_built', 'yr_renovated', 'zipcode',\n",
       "       'lat', 'long', 'sqft_living15', 'sqft_lot15'],\n",
       "      dtype='object')"
      ]
     },
     "execution_count": 157,
     "metadata": {},
     "output_type": "execute_result"
    }
   ],
   "source": [
    "# check column's label\n",
    "df_sales_details.columns"
   ]
  },
  {
   "cell_type": "code",
   "execution_count": null,
   "metadata": {},
   "outputs": [
    {
     "data": {
      "text/plain": [
       "Index(['date', 'price', 'house_id', 'bedrooms', 'bathrooms', 'sqft_living',\n",
       "       'sqft_lot', 'floors', 'waterfront', 'view', 'condition', 'grade',\n",
       "       'sqft_above', 'sqft_basement', 'year_built', 'year_renovated',\n",
       "       'zipcode', 'latitude', 'longitude', 'sqft_living_15neighbors',\n",
       "       'sqft_lots_15neighbors'],\n",
       "      dtype='object')"
      ]
     },
     "execution_count": 158,
     "metadata": {},
     "output_type": "execute_result"
    }
   ],
   "source": [
    "# rename column's label\n",
    "# axis=1 means choose the columns instead index. Default:0\n",
    "df_sales_details = df_sales_details.rename({\n",
    "    'lat':'latitude',\n",
    "    'long':'longitude',\n",
    "    'yr_built':'year_built',\n",
    "    'yr_renovated':'year_renovated',\n",
    "    'sqft_living15':'sqft_living_15neighbors',\n",
    "    'sqft_lot15':'sqft_lots_15neighbors'},\n",
    "    axis=1)\n",
    "df_sales_details.columns"
   ]
  },
  {
   "cell_type": "code",
   "execution_count": null,
   "metadata": {},
   "outputs": [
    {
     "data": {
      "text/plain": [
       "date                       datetime64[ns]\n",
       "price                             float64\n",
       "house_id                            int64\n",
       "bedrooms                          float64\n",
       "bathrooms                         float64\n",
       "sqft_living                       float64\n",
       "sqft_lot                          float64\n",
       "floors                            float64\n",
       "waterfront                        float64\n",
       "view                              float64\n",
       "condition                           int64\n",
       "grade                               int64\n",
       "sqft_above                        float64\n",
       "sqft_basement                     float64\n",
       "year_built                          int64\n",
       "year_renovated                    float64\n",
       "zipcode                             int64\n",
       "latitude                          float64\n",
       "longitude                         float64\n",
       "sqft_living_15neighbors           float64\n",
       "sqft_lots_15neighbors             float64\n",
       "dtype: object"
      ]
     },
     "execution_count": 159,
     "metadata": {},
     "output_type": "execute_result"
    }
   ],
   "source": [
    "# change the data type of column date to timestamp\n",
    "df_sales_details['date'] = pd.to_datetime(df_sales_details['date'], format='%Y/%m/%d')\n",
    "df_sales_details.dtypes"
   ]
  },
  {
   "cell_type": "code",
   "execution_count": null,
   "metadata": {},
   "outputs": [
    {
     "name": "stdout",
     "output_type": "stream",
     "text": [
      "<class 'pandas.core.frame.DataFrame'>\n",
      "RangeIndex: 15301 entries, 0 to 15300\n",
      "Data columns (total 2 columns):\n",
      " #   Column      Non-Null Count  Dtype\n",
      "---  ------      --------------  -----\n",
      " 0   waterfront  15301 non-null  int64\n",
      " 1   view        15301 non-null  int64\n",
      "dtypes: int64(2)\n",
      "memory usage: 239.2 KB\n"
     ]
    }
   ],
   "source": [
    "# change data type waterfront and view from float to integer\n",
    "# must use double brackets if you select more than 1 column\n",
    "df_sales_details[['waterfront', 'view', 'year_renovated']] = df_sales_details[['waterfront', 'view', 'year_renovated']].astype(int)\n",
    "\n",
    "df_sales_details[['waterfront', 'view']].info()"
   ]
  },
  {
   "cell_type": "markdown",
   "metadata": {},
   "source": [
    "## Step 5: Exploring Data and Visualization"
   ]
  },
  {
   "cell_type": "markdown",
   "metadata": {},
   "source": [
    "Refine our data more, based on our client requirements. Show some plots"
   ]
  },
  {
   "cell_type": "markdown",
   "metadata": {},
   "source": [
    "<style>\n",
    "r { color: Red }\n",
    "</style>\n",
    "\n",
    "### <r>First requirement: Has a view of waterfront</r> "
   ]
  },
  {
   "cell_type": "code",
   "execution_count": 161,
   "metadata": {},
   "outputs": [
    {
     "data": {
      "text/html": [
       "<div>\n",
       "<style scoped>\n",
       "    .dataframe tbody tr th:only-of-type {\n",
       "        vertical-align: middle;\n",
       "    }\n",
       "\n",
       "    .dataframe tbody tr th {\n",
       "        vertical-align: top;\n",
       "    }\n",
       "\n",
       "    .dataframe thead th {\n",
       "        text-align: right;\n",
       "    }\n",
       "</style>\n",
       "<table border=\"1\" class=\"dataframe\">\n",
       "  <thead>\n",
       "    <tr style=\"text-align: right;\">\n",
       "      <th></th>\n",
       "      <th>date</th>\n",
       "      <th>price</th>\n",
       "      <th>house_id</th>\n",
       "      <th>bedrooms</th>\n",
       "      <th>bathrooms</th>\n",
       "      <th>sqft_living</th>\n",
       "      <th>sqft_lot</th>\n",
       "      <th>floors</th>\n",
       "      <th>waterfront</th>\n",
       "      <th>view</th>\n",
       "      <th>...</th>\n",
       "      <th>grade</th>\n",
       "      <th>sqft_above</th>\n",
       "      <th>sqft_basement</th>\n",
       "      <th>year_built</th>\n",
       "      <th>year_renovated</th>\n",
       "      <th>zipcode</th>\n",
       "      <th>latitude</th>\n",
       "      <th>longitude</th>\n",
       "      <th>sqft_living_15neighbors</th>\n",
       "      <th>sqft_lots_15neighbors</th>\n",
       "    </tr>\n",
       "  </thead>\n",
       "  <tbody>\n",
       "    <tr>\n",
       "      <th>count</th>\n",
       "      <td>15301</td>\n",
       "      <td>15301.000</td>\n",
       "      <td>15301.000</td>\n",
       "      <td>15301.000</td>\n",
       "      <td>15301.000</td>\n",
       "      <td>15301.000</td>\n",
       "      <td>15301.000</td>\n",
       "      <td>15301.000</td>\n",
       "      <td>15301.000</td>\n",
       "      <td>15301.000</td>\n",
       "      <td>...</td>\n",
       "      <td>15301.000</td>\n",
       "      <td>15301.000</td>\n",
       "      <td>15301.000</td>\n",
       "      <td>15301.000</td>\n",
       "      <td>15301.000</td>\n",
       "      <td>15301.000</td>\n",
       "      <td>15301.000</td>\n",
       "      <td>15301.000</td>\n",
       "      <td>15301.000</td>\n",
       "      <td>15301.000</td>\n",
       "    </tr>\n",
       "    <tr>\n",
       "      <th>mean</th>\n",
       "      <td>2014-10-29 10:19:49.098751744</td>\n",
       "      <td>543107.003</td>\n",
       "      <td>4596396940.635</td>\n",
       "      <td>3.380</td>\n",
       "      <td>2.124</td>\n",
       "      <td>2088.362</td>\n",
       "      <td>15319.598</td>\n",
       "      <td>1.497</td>\n",
       "      <td>0.008</td>\n",
       "      <td>0.230</td>\n",
       "      <td>...</td>\n",
       "      <td>7.669</td>\n",
       "      <td>1796.468</td>\n",
       "      <td>291.894</td>\n",
       "      <td>1971.226</td>\n",
       "      <td>820.627</td>\n",
       "      <td>98077.357</td>\n",
       "      <td>47.559</td>\n",
       "      <td>-122.213</td>\n",
       "      <td>1992.796</td>\n",
       "      <td>12885.409</td>\n",
       "    </tr>\n",
       "    <tr>\n",
       "      <th>min</th>\n",
       "      <td>2014-05-02 00:00:00</td>\n",
       "      <td>82500.000</td>\n",
       "      <td>1200021.000</td>\n",
       "      <td>1.000</td>\n",
       "      <td>0.500</td>\n",
       "      <td>370.000</td>\n",
       "      <td>520.000</td>\n",
       "      <td>1.000</td>\n",
       "      <td>0.000</td>\n",
       "      <td>0.000</td>\n",
       "      <td>...</td>\n",
       "      <td>3.000</td>\n",
       "      <td>370.000</td>\n",
       "      <td>0.000</td>\n",
       "      <td>1900.000</td>\n",
       "      <td>0.000</td>\n",
       "      <td>98001.000</td>\n",
       "      <td>47.156</td>\n",
       "      <td>-122.519</td>\n",
       "      <td>399.000</td>\n",
       "      <td>659.000</td>\n",
       "    </tr>\n",
       "    <tr>\n",
       "      <th>25%</th>\n",
       "      <td>2014-07-22 00:00:00</td>\n",
       "      <td>324000.000</td>\n",
       "      <td>2126059294.000</td>\n",
       "      <td>3.000</td>\n",
       "      <td>1.750</td>\n",
       "      <td>1430.000</td>\n",
       "      <td>5046.000</td>\n",
       "      <td>1.000</td>\n",
       "      <td>0.000</td>\n",
       "      <td>0.000</td>\n",
       "      <td>...</td>\n",
       "      <td>7.000</td>\n",
       "      <td>1200.000</td>\n",
       "      <td>0.000</td>\n",
       "      <td>1952.000</td>\n",
       "      <td>0.000</td>\n",
       "      <td>98032.000</td>\n",
       "      <td>47.469</td>\n",
       "      <td>-122.328</td>\n",
       "      <td>1490.000</td>\n",
       "      <td>5100.000</td>\n",
       "    </tr>\n",
       "    <tr>\n",
       "      <th>50%</th>\n",
       "      <td>2014-10-17 00:00:00</td>\n",
       "      <td>452000.000</td>\n",
       "      <td>3905090410.000</td>\n",
       "      <td>3.000</td>\n",
       "      <td>2.250</td>\n",
       "      <td>1920.000</td>\n",
       "      <td>7620.000</td>\n",
       "      <td>1.500</td>\n",
       "      <td>0.000</td>\n",
       "      <td>0.000</td>\n",
       "      <td>...</td>\n",
       "      <td>7.000</td>\n",
       "      <td>1570.000</td>\n",
       "      <td>0.000</td>\n",
       "      <td>1975.000</td>\n",
       "      <td>0.000</td>\n",
       "      <td>98065.000</td>\n",
       "      <td>47.572</td>\n",
       "      <td>-122.228</td>\n",
       "      <td>1850.000</td>\n",
       "      <td>7623.000</td>\n",
       "    </tr>\n",
       "    <tr>\n",
       "      <th>75%</th>\n",
       "      <td>2015-02-17 00:00:00</td>\n",
       "      <td>645000.000</td>\n",
       "      <td>7334600030.000</td>\n",
       "      <td>4.000</td>\n",
       "      <td>2.500</td>\n",
       "      <td>2560.000</td>\n",
       "      <td>10720.000</td>\n",
       "      <td>2.000</td>\n",
       "      <td>0.000</td>\n",
       "      <td>0.000</td>\n",
       "      <td>...</td>\n",
       "      <td>8.000</td>\n",
       "      <td>2220.000</td>\n",
       "      <td>560.000</td>\n",
       "      <td>1997.000</td>\n",
       "      <td>0.000</td>\n",
       "      <td>98117.000</td>\n",
       "      <td>47.678</td>\n",
       "      <td>-122.124</td>\n",
       "      <td>2370.000</td>\n",
       "      <td>10113.000</td>\n",
       "    </tr>\n",
       "    <tr>\n",
       "      <th>max</th>\n",
       "      <td>2015-05-27 00:00:00</td>\n",
       "      <td>7700000.000</td>\n",
       "      <td>9895000040.000</td>\n",
       "      <td>33.000</td>\n",
       "      <td>8.000</td>\n",
       "      <td>13540.000</td>\n",
       "      <td>1651359.000</td>\n",
       "      <td>3.500</td>\n",
       "      <td>1.000</td>\n",
       "      <td>4.000</td>\n",
       "      <td>...</td>\n",
       "      <td>13.000</td>\n",
       "      <td>9410.000</td>\n",
       "      <td>4820.000</td>\n",
       "      <td>2015.000</td>\n",
       "      <td>20150.000</td>\n",
       "      <td>98199.000</td>\n",
       "      <td>47.778</td>\n",
       "      <td>-121.315</td>\n",
       "      <td>6210.000</td>\n",
       "      <td>871200.000</td>\n",
       "    </tr>\n",
       "    <tr>\n",
       "      <th>std</th>\n",
       "      <td>NaN</td>\n",
       "      <td>373309.151</td>\n",
       "      <td>2874733340.775</td>\n",
       "      <td>0.933</td>\n",
       "      <td>0.767</td>\n",
       "      <td>920.013</td>\n",
       "      <td>42128.565</td>\n",
       "      <td>0.539</td>\n",
       "      <td>0.087</td>\n",
       "      <td>0.760</td>\n",
       "      <td>...</td>\n",
       "      <td>1.172</td>\n",
       "      <td>830.100</td>\n",
       "      <td>443.422</td>\n",
       "      <td>29.305</td>\n",
       "      <td>3963.630</td>\n",
       "      <td>53.407</td>\n",
       "      <td>0.139</td>\n",
       "      <td>0.141</td>\n",
       "      <td>685.006</td>\n",
       "      <td>27879.640</td>\n",
       "    </tr>\n",
       "  </tbody>\n",
       "</table>\n",
       "<p>8 rows × 21 columns</p>\n",
       "</div>"
      ],
      "text/plain": [
       "                                date       price       house_id  bedrooms   \n",
       "count                          15301   15301.000      15301.000 15301.000  \\\n",
       "mean   2014-10-29 10:19:49.098751744  543107.003 4596396940.635     3.380   \n",
       "min              2014-05-02 00:00:00   82500.000    1200021.000     1.000   \n",
       "25%              2014-07-22 00:00:00  324000.000 2126059294.000     3.000   \n",
       "50%              2014-10-17 00:00:00  452000.000 3905090410.000     3.000   \n",
       "75%              2015-02-17 00:00:00  645000.000 7334600030.000     4.000   \n",
       "max              2015-05-27 00:00:00 7700000.000 9895000040.000    33.000   \n",
       "std                              NaN  373309.151 2874733340.775     0.933   \n",
       "\n",
       "       bathrooms  sqft_living    sqft_lot    floors  waterfront      view   \n",
       "count  15301.000    15301.000   15301.000 15301.000   15301.000 15301.000  \\\n",
       "mean       2.124     2088.362   15319.598     1.497       0.008     0.230   \n",
       "min        0.500      370.000     520.000     1.000       0.000     0.000   \n",
       "25%        1.750     1430.000    5046.000     1.000       0.000     0.000   \n",
       "50%        2.250     1920.000    7620.000     1.500       0.000     0.000   \n",
       "75%        2.500     2560.000   10720.000     2.000       0.000     0.000   \n",
       "max        8.000    13540.000 1651359.000     3.500       1.000     4.000   \n",
       "std        0.767      920.013   42128.565     0.539       0.087     0.760   \n",
       "\n",
       "       ...     grade  sqft_above  sqft_basement  year_built  year_renovated   \n",
       "count  ... 15301.000   15301.000      15301.000   15301.000       15301.000  \\\n",
       "mean   ...     7.669    1796.468        291.894    1971.226         820.627   \n",
       "min    ...     3.000     370.000          0.000    1900.000           0.000   \n",
       "25%    ...     7.000    1200.000          0.000    1952.000           0.000   \n",
       "50%    ...     7.000    1570.000          0.000    1975.000           0.000   \n",
       "75%    ...     8.000    2220.000        560.000    1997.000           0.000   \n",
       "max    ...    13.000    9410.000       4820.000    2015.000       20150.000   \n",
       "std    ...     1.172     830.100        443.422      29.305        3963.630   \n",
       "\n",
       "        zipcode  latitude  longitude  sqft_living_15neighbors   \n",
       "count 15301.000 15301.000  15301.000                15301.000  \\\n",
       "mean  98077.357    47.559   -122.213                 1992.796   \n",
       "min   98001.000    47.156   -122.519                  399.000   \n",
       "25%   98032.000    47.469   -122.328                 1490.000   \n",
       "50%   98065.000    47.572   -122.228                 1850.000   \n",
       "75%   98117.000    47.678   -122.124                 2370.000   \n",
       "max   98199.000    47.778   -121.315                 6210.000   \n",
       "std      53.407     0.139      0.141                  685.006   \n",
       "\n",
       "       sqft_lots_15neighbors  \n",
       "count              15301.000  \n",
       "mean               12885.409  \n",
       "min                  659.000  \n",
       "25%                 5100.000  \n",
       "50%                 7623.000  \n",
       "75%                10113.000  \n",
       "max               871200.000  \n",
       "std                27879.640  \n",
       "\n",
       "[8 rows x 21 columns]"
      ]
     },
     "execution_count": 161,
     "metadata": {},
     "output_type": "execute_result"
    }
   ],
   "source": [
    "df_sales_details.describe()"
   ]
  },
  {
   "cell_type": "code",
   "execution_count": 162,
   "metadata": {},
   "outputs": [],
   "source": [
    "# importing some libraries for plotting\n",
    "import warnings\n",
    "\n",
    "warnings.filterwarnings(\"ignore\")\n",
    "\n",
    "import pandas as pd\n",
    "import numpy as np\n",
    "import matplotlib.pyplot as plt\n",
    "import seaborn as sns\n",
    "import plotly.express as px\n",
    "from scipy.stats import linregress\n",
    "\n",
    "\n",
    "from matplotlib.ticker import PercentFormatter\n",
    "plt.rcParams.update({ \"figure.figsize\" : (8, 5),\"axes.facecolor\" : \"white\", \"axes.edgecolor\":  \"black\"})\n",
    "plt.rcParams[\"figure.facecolor\"]= \"w\"\n",
    "pd.plotting.register_matplotlib_converters()\n",
    "pd.set_option('display.float_format', lambda x: '%.3f' % x)"
   ]
  },
  {
   "cell_type": "code",
   "execution_count": 163,
   "metadata": {},
   "outputs": [],
   "source": [
    "df_vio = df_sales_details.copy()"
   ]
  },
  {
   "cell_type": "code",
   "execution_count": 164,
   "metadata": {},
   "outputs": [
    {
     "data": {
      "image/png": "[encoded data removed]",
      "text/plain": [
       "<Figure size 800x500 with 1 Axes>"
      ]
     },
     "metadata": {},
     "output_type": "display_data"
    }
   ],
   "source": [
    "# hypothesis 1\n",
    "# Creating the violin plot\n",
    "sns.violinplot(data=df_vio, x='waterfront', y='price')\n",
    "plt.title('Price Distribution by Waterfront')\n",
    "plt.xlabel('Waterfront (0: No, 1: Yes)')\n",
    "plt.ylabel('Price (US Dollar)')\n",
    "plt.show()"
   ]
  },
  {
   "cell_type": "code",
   "execution_count": 165,
   "metadata": {},
   "outputs": [
    {
     "data": {
      "image/png": "[encoded data removed]",
      "text/plain": [
       "<Figure size 1000x600 with 1 Axes>"
      ]
     },
     "metadata": {},
     "output_type": "display_data"
    }
   ],
   "source": [
    "# Create the bar chart with Seaborn\n",
    "fig, ax = plt.subplots(figsize=(10,6))\n",
    "\n",
    "sns.countplot(data=df_sales_details,\n",
    "              x='waterfront', \n",
    "              order=df_sales_details['waterfront'].value_counts().index[:], \n",
    "              palette='viridis')\n",
    "plt.title('Total no. of houses has waterfront view or not')\n",
    "plt.xlabel('Waterfront')\n",
    "plt.ylabel('Unit houses')\n",
    "# do it log scale since one var has extreme high value\n",
    "plt.yscale('log')\n",
    "plt.xticks([0,1], ['no waterfront view', 'has waterfront view'])\n",
    "\n",
    "ax.bar_label(ax.containers[0])\n",
    "\n",
    "plt.show()"
   ]
  },
  {
   "cell_type": "code",
   "execution_count": 166,
   "metadata": {},
   "outputs": [
    {
     "data": {
      "text/plain": [
       "array([0, 1])"
      ]
     },
     "execution_count": 166,
     "metadata": {},
     "output_type": "execute_result"
    }
   ],
   "source": [
    "# check how many values do waterfront has\n",
    "df_sales_details['waterfront'].unique()"
   ]
  },
  {
   "cell_type": "markdown",
   "metadata": {},
   "source": [
    "<style>\n",
    "r { color: Red }\n",
    "</style>\n",
    "Since the value is either 0 or 1 (either u have waterfront or not), one can assume 0=false, 1=true.   \n",
    "Based on Mr. Sanders <r>first requirement</r>, select only waterfront = 1"
   ]
  },
  {
   "cell_type": "code",
   "execution_count": 167,
   "metadata": {},
   "outputs": [
    {
     "data": {
      "text/plain": [
       "(116, 21)"
      ]
     },
     "execution_count": 167,
     "metadata": {},
     "output_type": "execute_result"
    }
   ],
   "source": [
    "# can drop conditional rows with .drop method\n",
    "#df_sales_details = df_sales_details.drop(df_sales_details[df_sales_details['waterfront'] < 1].index)\n",
    "\n",
    "# but much easier with .query :)\n",
    "# instead of remove rows, .query select conditional rows\n",
    "df_sales_details = df_sales_details.query('waterfront > 0')\n",
    "df_sales_details.reset_index(inplace=True, drop=True)\n",
    "\n",
    "# check no.of rows\n",
    "df_sales_details.shape"
   ]
  },
  {
   "cell_type": "code",
   "execution_count": 168,
   "metadata": {},
   "outputs": [
    {
     "data": {
      "text/html": [
       "<div>\n",
       "<style scoped>\n",
       "    .dataframe tbody tr th:only-of-type {\n",
       "        vertical-align: middle;\n",
       "    }\n",
       "\n",
       "    .dataframe tbody tr th {\n",
       "        vertical-align: top;\n",
       "    }\n",
       "\n",
       "    .dataframe thead th {\n",
       "        text-align: right;\n",
       "    }\n",
       "</style>\n",
       "<table border=\"1\" class=\"dataframe\">\n",
       "  <thead>\n",
       "    <tr style=\"text-align: right;\">\n",
       "      <th></th>\n",
       "      <th>date</th>\n",
       "      <th>price</th>\n",
       "      <th>house_id</th>\n",
       "      <th>bedrooms</th>\n",
       "      <th>bathrooms</th>\n",
       "      <th>sqft_living</th>\n",
       "      <th>sqft_lot</th>\n",
       "      <th>floors</th>\n",
       "      <th>waterfront</th>\n",
       "      <th>view</th>\n",
       "      <th>...</th>\n",
       "      <th>grade</th>\n",
       "      <th>sqft_above</th>\n",
       "      <th>sqft_basement</th>\n",
       "      <th>year_built</th>\n",
       "      <th>year_renovated</th>\n",
       "      <th>zipcode</th>\n",
       "      <th>latitude</th>\n",
       "      <th>longitude</th>\n",
       "      <th>sqft_living_15neighbors</th>\n",
       "      <th>sqft_lots_15neighbors</th>\n",
       "    </tr>\n",
       "  </thead>\n",
       "  <tbody>\n",
       "    <tr>\n",
       "      <th>0</th>\n",
       "      <td>2015-03-11</td>\n",
       "      <td>1350000.000</td>\n",
       "      <td>822039084</td>\n",
       "      <td>3.000</td>\n",
       "      <td>2.500</td>\n",
       "      <td>2753.000</td>\n",
       "      <td>65005.000</td>\n",
       "      <td>1.000</td>\n",
       "      <td>1</td>\n",
       "      <td>2</td>\n",
       "      <td>...</td>\n",
       "      <td>9</td>\n",
       "      <td>2165.000</td>\n",
       "      <td>588.000</td>\n",
       "      <td>1953</td>\n",
       "      <td>0</td>\n",
       "      <td>98070</td>\n",
       "      <td>47.404</td>\n",
       "      <td>-122.451</td>\n",
       "      <td>2680.000</td>\n",
       "      <td>72513.000</td>\n",
       "    </tr>\n",
       "    <tr>\n",
       "      <th>1</th>\n",
       "      <td>2015-04-13</td>\n",
       "      <td>655000.000</td>\n",
       "      <td>8096000060</td>\n",
       "      <td>2.000</td>\n",
       "      <td>1.750</td>\n",
       "      <td>1450.000</td>\n",
       "      <td>15798.000</td>\n",
       "      <td>2.000</td>\n",
       "      <td>1</td>\n",
       "      <td>4</td>\n",
       "      <td>...</td>\n",
       "      <td>7</td>\n",
       "      <td>1230.000</td>\n",
       "      <td>220.000</td>\n",
       "      <td>1915</td>\n",
       "      <td>19780</td>\n",
       "      <td>98166</td>\n",
       "      <td>47.450</td>\n",
       "      <td>-122.375</td>\n",
       "      <td>2030.000</td>\n",
       "      <td>13193.000</td>\n",
       "    </tr>\n",
       "    <tr>\n",
       "      <th>2</th>\n",
       "      <td>2014-09-29</td>\n",
       "      <td>2400000.000</td>\n",
       "      <td>2025069065</td>\n",
       "      <td>4.000</td>\n",
       "      <td>2.500</td>\n",
       "      <td>3650.000</td>\n",
       "      <td>8354.000</td>\n",
       "      <td>1.000</td>\n",
       "      <td>1</td>\n",
       "      <td>4</td>\n",
       "      <td>...</td>\n",
       "      <td>9</td>\n",
       "      <td>1830.000</td>\n",
       "      <td>1820.000</td>\n",
       "      <td>2000</td>\n",
       "      <td>0</td>\n",
       "      <td>98074</td>\n",
       "      <td>47.634</td>\n",
       "      <td>-122.072</td>\n",
       "      <td>3120.000</td>\n",
       "      <td>18841.000</td>\n",
       "    </tr>\n",
       "    <tr>\n",
       "      <th>3</th>\n",
       "      <td>2014-10-27</td>\n",
       "      <td>369900.000</td>\n",
       "      <td>2123039032</td>\n",
       "      <td>1.000</td>\n",
       "      <td>0.750</td>\n",
       "      <td>760.000</td>\n",
       "      <td>10079.000</td>\n",
       "      <td>1.000</td>\n",
       "      <td>1</td>\n",
       "      <td>4</td>\n",
       "      <td>...</td>\n",
       "      <td>5</td>\n",
       "      <td>760.000</td>\n",
       "      <td>0.000</td>\n",
       "      <td>1936</td>\n",
       "      <td>0</td>\n",
       "      <td>98070</td>\n",
       "      <td>47.468</td>\n",
       "      <td>-122.438</td>\n",
       "      <td>1230.000</td>\n",
       "      <td>14267.000</td>\n",
       "    </tr>\n",
       "    <tr>\n",
       "      <th>4</th>\n",
       "      <td>2014-06-24</td>\n",
       "      <td>3080000.000</td>\n",
       "      <td>3225069065</td>\n",
       "      <td>4.000</td>\n",
       "      <td>5.000</td>\n",
       "      <td>4550.000</td>\n",
       "      <td>18641.000</td>\n",
       "      <td>1.000</td>\n",
       "      <td>1</td>\n",
       "      <td>4</td>\n",
       "      <td>...</td>\n",
       "      <td>10</td>\n",
       "      <td>2600.000</td>\n",
       "      <td>1950.000</td>\n",
       "      <td>2002</td>\n",
       "      <td>0</td>\n",
       "      <td>98074</td>\n",
       "      <td>47.605</td>\n",
       "      <td>-122.077</td>\n",
       "      <td>4550.000</td>\n",
       "      <td>19508.000</td>\n",
       "    </tr>\n",
       "    <tr>\n",
       "      <th>...</th>\n",
       "      <td>...</td>\n",
       "      <td>...</td>\n",
       "      <td>...</td>\n",
       "      <td>...</td>\n",
       "      <td>...</td>\n",
       "      <td>...</td>\n",
       "      <td>...</td>\n",
       "      <td>...</td>\n",
       "      <td>...</td>\n",
       "      <td>...</td>\n",
       "      <td>...</td>\n",
       "      <td>...</td>\n",
       "      <td>...</td>\n",
       "      <td>...</td>\n",
       "      <td>...</td>\n",
       "      <td>...</td>\n",
       "      <td>...</td>\n",
       "      <td>...</td>\n",
       "      <td>...</td>\n",
       "      <td>...</td>\n",
       "      <td>...</td>\n",
       "    </tr>\n",
       "    <tr>\n",
       "      <th>111</th>\n",
       "      <td>2015-03-17</td>\n",
       "      <td>1900000.000</td>\n",
       "      <td>2025069140</td>\n",
       "      <td>3.000</td>\n",
       "      <td>2.500</td>\n",
       "      <td>2830.000</td>\n",
       "      <td>4334.000</td>\n",
       "      <td>3.000</td>\n",
       "      <td>1</td>\n",
       "      <td>4</td>\n",
       "      <td>...</td>\n",
       "      <td>10</td>\n",
       "      <td>2830.000</td>\n",
       "      <td>0.000</td>\n",
       "      <td>2006</td>\n",
       "      <td>0</td>\n",
       "      <td>98074</td>\n",
       "      <td>47.632</td>\n",
       "      <td>-122.071</td>\n",
       "      <td>2830.000</td>\n",
       "      <td>38211.000</td>\n",
       "    </tr>\n",
       "    <tr>\n",
       "      <th>112</th>\n",
       "      <td>2014-08-11</td>\n",
       "      <td>3000000.000</td>\n",
       "      <td>518500480</td>\n",
       "      <td>3.000</td>\n",
       "      <td>3.500</td>\n",
       "      <td>4410.000</td>\n",
       "      <td>10756.000</td>\n",
       "      <td>2.000</td>\n",
       "      <td>1</td>\n",
       "      <td>4</td>\n",
       "      <td>...</td>\n",
       "      <td>11</td>\n",
       "      <td>3430.000</td>\n",
       "      <td>980.000</td>\n",
       "      <td>2014</td>\n",
       "      <td>0</td>\n",
       "      <td>98056</td>\n",
       "      <td>47.528</td>\n",
       "      <td>-122.205</td>\n",
       "      <td>3550.000</td>\n",
       "      <td>5634.000</td>\n",
       "    </tr>\n",
       "    <tr>\n",
       "      <th>113</th>\n",
       "      <td>2015-04-17</td>\n",
       "      <td>2300000.000</td>\n",
       "      <td>8043700105</td>\n",
       "      <td>4.000</td>\n",
       "      <td>4.000</td>\n",
       "      <td>4360.000</td>\n",
       "      <td>8175.000</td>\n",
       "      <td>2.500</td>\n",
       "      <td>1</td>\n",
       "      <td>4</td>\n",
       "      <td>...</td>\n",
       "      <td>10</td>\n",
       "      <td>3940.000</td>\n",
       "      <td>420.000</td>\n",
       "      <td>2007</td>\n",
       "      <td>0</td>\n",
       "      <td>98008</td>\n",
       "      <td>47.572</td>\n",
       "      <td>-122.104</td>\n",
       "      <td>2670.000</td>\n",
       "      <td>8525.000</td>\n",
       "    </tr>\n",
       "    <tr>\n",
       "      <th>114</th>\n",
       "      <td>2014-10-08</td>\n",
       "      <td>2230000.000</td>\n",
       "      <td>518500460</td>\n",
       "      <td>3.000</td>\n",
       "      <td>3.500</td>\n",
       "      <td>3760.000</td>\n",
       "      <td>5634.000</td>\n",
       "      <td>2.000</td>\n",
       "      <td>1</td>\n",
       "      <td>4</td>\n",
       "      <td>...</td>\n",
       "      <td>11</td>\n",
       "      <td>2830.000</td>\n",
       "      <td>930.000</td>\n",
       "      <td>2014</td>\n",
       "      <td>0</td>\n",
       "      <td>98056</td>\n",
       "      <td>47.529</td>\n",
       "      <td>-122.205</td>\n",
       "      <td>3560.000</td>\n",
       "      <td>5762.000</td>\n",
       "    </tr>\n",
       "    <tr>\n",
       "      <th>115</th>\n",
       "      <td>2015-01-07</td>\n",
       "      <td>3570000.000</td>\n",
       "      <td>9253900271</td>\n",
       "      <td>5.000</td>\n",
       "      <td>4.500</td>\n",
       "      <td>4850.000</td>\n",
       "      <td>10584.000</td>\n",
       "      <td>2.000</td>\n",
       "      <td>1</td>\n",
       "      <td>4</td>\n",
       "      <td>...</td>\n",
       "      <td>10</td>\n",
       "      <td>3540.000</td>\n",
       "      <td>1310.000</td>\n",
       "      <td>2007</td>\n",
       "      <td>0</td>\n",
       "      <td>98008</td>\n",
       "      <td>47.594</td>\n",
       "      <td>-122.110</td>\n",
       "      <td>3470.000</td>\n",
       "      <td>18270.000</td>\n",
       "    </tr>\n",
       "  </tbody>\n",
       "</table>\n",
       "<p>116 rows × 21 columns</p>\n",
       "</div>"
      ],
      "text/plain": [
       "          date       price    house_id  bedrooms  bathrooms  sqft_living   \n",
       "0   2015-03-11 1350000.000   822039084     3.000      2.500     2753.000  \\\n",
       "1   2015-04-13  655000.000  8096000060     2.000      1.750     1450.000   \n",
       "2   2014-09-29 2400000.000  2025069065     4.000      2.500     3650.000   \n",
       "3   2014-10-27  369900.000  2123039032     1.000      0.750      760.000   \n",
       "4   2014-06-24 3080000.000  3225069065     4.000      5.000     4550.000   \n",
       "..         ...         ...         ...       ...        ...          ...   \n",
       "111 2015-03-17 1900000.000  2025069140     3.000      2.500     2830.000   \n",
       "112 2014-08-11 3000000.000   518500480     3.000      3.500     4410.000   \n",
       "113 2015-04-17 2300000.000  8043700105     4.000      4.000     4360.000   \n",
       "114 2014-10-08 2230000.000   518500460     3.000      3.500     3760.000   \n",
       "115 2015-01-07 3570000.000  9253900271     5.000      4.500     4850.000   \n",
       "\n",
       "     sqft_lot  floors  waterfront  view  ...  grade  sqft_above   \n",
       "0   65005.000   1.000           1     2  ...      9    2165.000  \\\n",
       "1   15798.000   2.000           1     4  ...      7    1230.000   \n",
       "2    8354.000   1.000           1     4  ...      9    1830.000   \n",
       "3   10079.000   1.000           1     4  ...      5     760.000   \n",
       "4   18641.000   1.000           1     4  ...     10    2600.000   \n",
       "..        ...     ...         ...   ...  ...    ...         ...   \n",
       "111  4334.000   3.000           1     4  ...     10    2830.000   \n",
       "112 10756.000   2.000           1     4  ...     11    3430.000   \n",
       "113  8175.000   2.500           1     4  ...     10    3940.000   \n",
       "114  5634.000   2.000           1     4  ...     11    2830.000   \n",
       "115 10584.000   2.000           1     4  ...     10    3540.000   \n",
       "\n",
       "     sqft_basement  year_built  year_renovated  zipcode  latitude  longitude   \n",
       "0          588.000        1953               0    98070    47.404   -122.451  \\\n",
       "1          220.000        1915           19780    98166    47.450   -122.375   \n",
       "2         1820.000        2000               0    98074    47.634   -122.072   \n",
       "3            0.000        1936               0    98070    47.468   -122.438   \n",
       "4         1950.000        2002               0    98074    47.605   -122.077   \n",
       "..             ...         ...             ...      ...       ...        ...   \n",
       "111          0.000        2006               0    98074    47.632   -122.071   \n",
       "112        980.000        2014               0    98056    47.528   -122.205   \n",
       "113        420.000        2007               0    98008    47.572   -122.104   \n",
       "114        930.000        2014               0    98056    47.529   -122.205   \n",
       "115       1310.000        2007               0    98008    47.594   -122.110   \n",
       "\n",
       "     sqft_living_15neighbors  sqft_lots_15neighbors  \n",
       "0                   2680.000              72513.000  \n",
       "1                   2030.000              13193.000  \n",
       "2                   3120.000              18841.000  \n",
       "3                   1230.000              14267.000  \n",
       "4                   4550.000              19508.000  \n",
       "..                       ...                    ...  \n",
       "111                 2830.000              38211.000  \n",
       "112                 3550.000               5634.000  \n",
       "113                 2670.000               8525.000  \n",
       "114                 3560.000               5762.000  \n",
       "115                 3470.000              18270.000  \n",
       "\n",
       "[116 rows x 21 columns]"
      ]
     },
     "execution_count": 168,
     "metadata": {},
     "output_type": "execute_result"
    }
   ],
   "source": [
    "df_sales_details"
   ]
  },
  {
   "cell_type": "markdown",
   "metadata": {},
   "source": [
    "<style>\n",
    "r { color: Red }\n",
    "</style>\n",
    "\n",
    "### <r>Second requirement: Enough space for a family</r> "
   ]
  },
  {
   "cell_type": "code",
   "execution_count": 169,
   "metadata": {},
   "outputs": [],
   "source": [
    "df_scatt = df_sales_details.copy()"
   ]
  },
  {
   "cell_type": "code",
   "execution_count": 170,
   "metadata": {},
   "outputs": [
    {
     "data": {
      "image/png": "[encoded data removed]",
      "text/plain": [
       "<Figure size 800x500 with 2 Axes>"
      ]
     },
     "metadata": {},
     "output_type": "display_data"
    },
    {
     "data": {
      "text/html": [
       "<div>\n",
       "<style scoped>\n",
       "    .dataframe tbody tr th:only-of-type {\n",
       "        vertical-align: middle;\n",
       "    }\n",
       "\n",
       "    .dataframe tbody tr th {\n",
       "        vertical-align: top;\n",
       "    }\n",
       "\n",
       "    .dataframe thead th {\n",
       "        text-align: right;\n",
       "    }\n",
       "</style>\n",
       "<table border=\"1\" class=\"dataframe\">\n",
       "  <thead>\n",
       "    <tr style=\"text-align: right;\">\n",
       "      <th></th>\n",
       "      <th>count_bedrooms</th>\n",
       "      <th>avg_price</th>\n",
       "    </tr>\n",
       "    <tr>\n",
       "      <th>bedrooms</th>\n",
       "      <th></th>\n",
       "      <th></th>\n",
       "    </tr>\n",
       "  </thead>\n",
       "  <tbody>\n",
       "    <tr>\n",
       "      <th>1.000</th>\n",
       "      <td>4</td>\n",
       "      <td>469950.000</td>\n",
       "    </tr>\n",
       "    <tr>\n",
       "      <th>2.000</th>\n",
       "      <td>21</td>\n",
       "      <td>655000.000</td>\n",
       "    </tr>\n",
       "    <tr>\n",
       "      <th>3.000</th>\n",
       "      <td>43</td>\n",
       "      <td>1600000.000</td>\n",
       "    </tr>\n",
       "    <tr>\n",
       "      <th>4.000</th>\n",
       "      <td>30</td>\n",
       "      <td>1680000.000</td>\n",
       "    </tr>\n",
       "    <tr>\n",
       "      <th>5.000</th>\n",
       "      <td>15</td>\n",
       "      <td>2200000.000</td>\n",
       "    </tr>\n",
       "    <tr>\n",
       "      <th>6.000</th>\n",
       "      <td>3</td>\n",
       "      <td>1900000.000</td>\n",
       "    </tr>\n",
       "  </tbody>\n",
       "</table>\n",
       "</div>"
      ],
      "text/plain": [
       "          count_bedrooms   avg_price\n",
       "bedrooms                            \n",
       "1.000                  4  469950.000\n",
       "2.000                 21  655000.000\n",
       "3.000                 43 1600000.000\n",
       "4.000                 30 1680000.000\n",
       "5.000                 15 2200000.000\n",
       "6.000                  3 1900000.000"
      ]
     },
     "execution_count": 170,
     "metadata": {},
     "output_type": "execute_result"
    }
   ],
   "source": [
    "# hypothesis 2\n",
    "# Aggregate data for plotting\n",
    "avg_price = df_scatt.groupby('bedrooms')['price'].median().reset_index()\n",
    "avg_price.columns = ['bedrooms', 'avg_price']\n",
    "\n",
    "count_bedrooms = df_scatt['bedrooms'].value_counts().reset_index().sort_values(by='bedrooms')\n",
    "count_bedrooms.columns = ['bedrooms', 'count_bedrooms']\n",
    "\n",
    "# Merge the data\n",
    "merged_data = pd.merge(count_bedrooms, avg_price, on='bedrooms')\n",
    "merged_data = merged_data.set_index('bedrooms')\n",
    "merged_data\n",
    "\n",
    "# Create bar plot with two different y-axis\n",
    "# width of the bin\n",
    "width = 0.7\n",
    "\n",
    "merged_data.plot(kind='bar',\n",
    "                 secondary_y='avg_price',\n",
    "                 rot=0,\n",
    "                 width = width)\n",
    "\n",
    "#plt.yscale('log')\n",
    "\n",
    "# get the current figure\n",
    "ax1, ax2 = plt.gcf().get_axes()\n",
    "ax1.set_ylabel('unit houses')\n",
    "ax2.set_ylabel('average price')\n",
    "ax1.set_xlabel('no.of bedrooms')\n",
    "\n",
    "ax1.bar_label(ax1.containers[0])\n",
    "#ax2.bar_label(ax2.containers[0])\n",
    "\n",
    "ax1.legend(loc='upper left', bbox_to_anchor=(0.0, 1.0))\n",
    "ax2.legend(loc='upper left', bbox_to_anchor=(0.0, 0.94))\n",
    "\n",
    "plt.show()\n",
    "merged_data"
   ]
  },
  {
   "cell_type": "markdown",
   "metadata": {},
   "source": [
    "<style>\n",
    "r { color: Red }\n",
    "</style>\n",
    "\n",
    "Since Mr. Sanders has kids, I chose no. of bedrooms at least 3 to fulfill <r>second requirement</r>."
   ]
  },
  {
   "cell_type": "code",
   "execution_count": 171,
   "metadata": {},
   "outputs": [
    {
     "data": {
      "image/png": "[encoded data removed]",
      "text/plain": [
       "<Figure size 1000x600 with 1 Axes>"
      ]
     },
     "metadata": {},
     "output_type": "display_data"
    }
   ],
   "source": [
    "house_bed = df_sales_details.copy()\n",
    "\n",
    "# Create a new column to categorize the number of bedrooms\n",
    "house_bed['bedroom_category'] = house_bed['bedrooms'].apply(lambda x: 'Less than 3' if x < 3 else 'More than 3')\n",
    "\n",
    "\n",
    "# Plot the count plot\n",
    "fig, ax = plt.subplots(figsize=(10,6))\n",
    "\n",
    "ax = sns.countplot(data=house_bed, \n",
    "                   x='bedroom_category',\n",
    "                   palette='viridis')\n",
    "\n",
    "ax.bar_label(ax.containers[0])\n",
    "\n",
    "plt.title('House less than 3 vs more than 3 (with waterfront view)')\n",
    "plt.xlabel('No. of bedrooms')\n",
    "plt.ylabel('Unit houses')\n",
    "plt.show()\n",
    "\n",
    "#house_bed"
   ]
  },
  {
   "cell_type": "code",
   "execution_count": 172,
   "metadata": {},
   "outputs": [
    {
     "data": {
      "text/plain": [
       "(91, 21)"
      ]
     },
     "execution_count": 172,
     "metadata": {},
     "output_type": "execute_result"
    }
   ],
   "source": [
    "# remove rows less than 3 bedrooms\n",
    "df_sales_details = df_sales_details.query('bedrooms >= 3')\n",
    "\n",
    "# reset the index because we removed rows\n",
    "df_sales_details.reset_index(inplace=True, drop=True)\n",
    "\n",
    "df_sales_details.shape"
   ]
  },
  {
   "cell_type": "code",
   "execution_count": 173,
   "metadata": {},
   "outputs": [
    {
     "data": {
      "text/html": [
       "<div>\n",
       "<style scoped>\n",
       "    .dataframe tbody tr th:only-of-type {\n",
       "        vertical-align: middle;\n",
       "    }\n",
       "\n",
       "    .dataframe tbody tr th {\n",
       "        vertical-align: top;\n",
       "    }\n",
       "\n",
       "    .dataframe thead th {\n",
       "        text-align: right;\n",
       "    }\n",
       "</style>\n",
       "<table border=\"1\" class=\"dataframe\">\n",
       "  <thead>\n",
       "    <tr style=\"text-align: right;\">\n",
       "      <th></th>\n",
       "      <th>date</th>\n",
       "      <th>price</th>\n",
       "      <th>house_id</th>\n",
       "      <th>bedrooms</th>\n",
       "      <th>bathrooms</th>\n",
       "      <th>sqft_living</th>\n",
       "      <th>sqft_lot</th>\n",
       "      <th>floors</th>\n",
       "      <th>waterfront</th>\n",
       "      <th>view</th>\n",
       "      <th>...</th>\n",
       "      <th>grade</th>\n",
       "      <th>sqft_above</th>\n",
       "      <th>sqft_basement</th>\n",
       "      <th>year_built</th>\n",
       "      <th>year_renovated</th>\n",
       "      <th>zipcode</th>\n",
       "      <th>latitude</th>\n",
       "      <th>longitude</th>\n",
       "      <th>sqft_living_15neighbors</th>\n",
       "      <th>sqft_lots_15neighbors</th>\n",
       "    </tr>\n",
       "  </thead>\n",
       "  <tbody>\n",
       "    <tr>\n",
       "      <th>0</th>\n",
       "      <td>2015-03-11</td>\n",
       "      <td>1350000.000</td>\n",
       "      <td>822039084</td>\n",
       "      <td>3.000</td>\n",
       "      <td>2.500</td>\n",
       "      <td>2753.000</td>\n",
       "      <td>65005.000</td>\n",
       "      <td>1.000</td>\n",
       "      <td>1</td>\n",
       "      <td>2</td>\n",
       "      <td>...</td>\n",
       "      <td>9</td>\n",
       "      <td>2165.000</td>\n",
       "      <td>588.000</td>\n",
       "      <td>1953</td>\n",
       "      <td>0</td>\n",
       "      <td>98070</td>\n",
       "      <td>47.404</td>\n",
       "      <td>-122.451</td>\n",
       "      <td>2680.000</td>\n",
       "      <td>72513.000</td>\n",
       "    </tr>\n",
       "    <tr>\n",
       "      <th>1</th>\n",
       "      <td>2014-09-29</td>\n",
       "      <td>2400000.000</td>\n",
       "      <td>2025069065</td>\n",
       "      <td>4.000</td>\n",
       "      <td>2.500</td>\n",
       "      <td>3650.000</td>\n",
       "      <td>8354.000</td>\n",
       "      <td>1.000</td>\n",
       "      <td>1</td>\n",
       "      <td>4</td>\n",
       "      <td>...</td>\n",
       "      <td>9</td>\n",
       "      <td>1830.000</td>\n",
       "      <td>1820.000</td>\n",
       "      <td>2000</td>\n",
       "      <td>0</td>\n",
       "      <td>98074</td>\n",
       "      <td>47.634</td>\n",
       "      <td>-122.072</td>\n",
       "      <td>3120.000</td>\n",
       "      <td>18841.000</td>\n",
       "    </tr>\n",
       "  </tbody>\n",
       "</table>\n",
       "<p>2 rows × 21 columns</p>\n",
       "</div>"
      ],
      "text/plain": [
       "        date       price    house_id  bedrooms  bathrooms  sqft_living   \n",
       "0 2015-03-11 1350000.000   822039084     3.000      2.500     2753.000  \\\n",
       "1 2014-09-29 2400000.000  2025069065     4.000      2.500     3650.000   \n",
       "\n",
       "   sqft_lot  floors  waterfront  view  ...  grade  sqft_above  sqft_basement   \n",
       "0 65005.000   1.000           1     2  ...      9    2165.000        588.000  \\\n",
       "1  8354.000   1.000           1     4  ...      9    1830.000       1820.000   \n",
       "\n",
       "   year_built  year_renovated  zipcode  latitude  longitude   \n",
       "0        1953               0    98070    47.404   -122.451  \\\n",
       "1        2000               0    98074    47.634   -122.072   \n",
       "\n",
       "   sqft_living_15neighbors  sqft_lots_15neighbors  \n",
       "0                 2680.000              72513.000  \n",
       "1                 3120.000              18841.000  \n",
       "\n",
       "[2 rows x 21 columns]"
      ]
     },
     "execution_count": 173,
     "metadata": {},
     "output_type": "execute_result"
    }
   ],
   "source": [
    "df_sales_details.head(2)"
   ]
  },
  {
   "cell_type": "code",
   "execution_count": 174,
   "metadata": {},
   "outputs": [
    {
     "data": {
      "text/plain": [
       "array([3., 4., 5., 6.])"
      ]
     },
     "execution_count": 174,
     "metadata": {},
     "output_type": "execute_result"
    }
   ],
   "source": [
    "# check how many values do bedrooms has\n",
    "df_sales_details['bedrooms'].unique()"
   ]
  },
  {
   "cell_type": "code",
   "execution_count": 175,
   "metadata": {},
   "outputs": [
    {
     "data": {
      "text/plain": [
       "91"
      ]
     },
     "execution_count": 175,
     "metadata": {},
     "output_type": "execute_result"
    }
   ],
   "source": [
    "# sum them to check the total is as shown in plot\n",
    "df_sales_details['bedrooms'].value_counts().sum()"
   ]
  },
  {
   "cell_type": "markdown",
   "metadata": {},
   "source": [
    "<style>\n",
    "r { color: Red }\n",
    "</style>\n",
    "\n",
    "### <r>Third requirement: Nice and isolated</r> "
   ]
  },
  {
   "cell_type": "markdown",
   "metadata": {},
   "source": [
    "Definition of nice can be described from 3 variables:\n",
    "- condition --> building condition, rated from 1 to 5.\n",
    "- grade --> construction quality, rated from 1 to 13\n",
    "- view --> quality of view\n",
    "\n",
    "More info, see: https://info.kingcounty.gov/assessor/esales/Glossary.aspx?type=r#b\n",
    "\n",
    "First, let see if there is any correlation between these three attributes"
   ]
  },
  {
   "cell_type": "code",
   "execution_count": 176,
   "metadata": {},
   "outputs": [
    {
     "data": {
      "text/plain": [
       "Index(['date', 'price', 'house_id', 'bedrooms', 'bathrooms', 'sqft_living',\n",
       "       'sqft_lot', 'floors', 'waterfront', 'view', 'condition', 'grade',\n",
       "       'sqft_above', 'sqft_basement', 'year_built', 'year_renovated',\n",
       "       'zipcode', 'latitude', 'longitude', 'sqft_living_15neighbors',\n",
       "       'sqft_lots_15neighbors'],\n",
       "      dtype='object')"
      ]
     },
     "execution_count": 176,
     "metadata": {},
     "output_type": "execute_result"
    }
   ],
   "source": [
    "df_sales_details.columns"
   ]
  },
  {
   "cell_type": "code",
   "execution_count": 177,
   "metadata": {},
   "outputs": [
    {
     "data": {
      "image/png": "[encoded data removed]",
      "text/plain": [
       "<Figure size 800x500 with 2 Axes>"
      ]
     },
     "metadata": {},
     "output_type": "display_data"
    }
   ],
   "source": [
    "# hypothesis\n",
    "df_corr = df_sales_details.copy()\n",
    "\n",
    "corr_matrix = df_corr[['view', \n",
    "                       'condition', \n",
    "                       'grade', \n",
    "                       'sqft_lot'\n",
    "                       ]].corr()\n",
    "ax = sns.heatmap(corr_matrix, annot=True, cmap='coolwarm', square=True)\n",
    "ax.collections[0].set_clim(-1,1)     # set vmin and vmax\n",
    "\n",
    "plt.title('Correlation Matrix')\n",
    "plt.show()"
   ]
  },
  {
   "cell_type": "code",
   "execution_count": 178,
   "metadata": {},
   "outputs": [
    {
     "data": {
      "text/plain": [
       "(91, 21)"
      ]
     },
     "execution_count": 178,
     "metadata": {},
     "output_type": "execute_result"
    }
   ],
   "source": [
    "df_sales_details.shape"
   ]
  },
  {
   "cell_type": "markdown",
   "metadata": {},
   "source": [
    "hard cut on the condition, grade and view"
   ]
  },
  {
   "cell_type": "code",
   "execution_count": 179,
   "metadata": {},
   "outputs": [],
   "source": [
    "df_third = df_sales_details.copy()"
   ]
  },
  {
   "cell_type": "code",
   "execution_count": 180,
   "metadata": {},
   "outputs": [
    {
     "data": {
      "text/plain": [
       "array([2, 4, 3, 1])"
      ]
     },
     "execution_count": 180,
     "metadata": {},
     "output_type": "execute_result"
    }
   ],
   "source": [
    "df_third['view'].unique()"
   ]
  },
  {
   "cell_type": "code",
   "execution_count": 181,
   "metadata": {},
   "outputs": [
    {
     "data": {
      "text/plain": [
       "array([5, 3, 4, 2])"
      ]
     },
     "execution_count": 181,
     "metadata": {},
     "output_type": "execute_result"
    }
   ],
   "source": [
    "df_third['condition'].unique()"
   ]
  },
  {
   "cell_type": "code",
   "execution_count": 182,
   "metadata": {},
   "outputs": [
    {
     "data": {
      "text/plain": [
       "array([ 9, 10, 12,  8,  7,  6, 11])"
      ]
     },
     "execution_count": 182,
     "metadata": {},
     "output_type": "execute_result"
    }
   ],
   "source": [
    "df_third['grade'].unique()"
   ]
  },
  {
   "cell_type": "code",
   "execution_count": 183,
   "metadata": {},
   "outputs": [
    {
     "data": {
      "text/plain": [
       "(35, 21)"
      ]
     },
     "execution_count": 183,
     "metadata": {},
     "output_type": "execute_result"
    }
   ],
   "source": [
    "df_third = df_third.query('condition >= 4')\n",
    "df_third.shape"
   ]
  },
  {
   "cell_type": "code",
   "execution_count": 184,
   "metadata": {},
   "outputs": [
    {
     "data": {
      "text/plain": [
       "(21, 21)"
      ]
     },
     "execution_count": 184,
     "metadata": {},
     "output_type": "execute_result"
    }
   ],
   "source": [
    "df_third = df_third.query('grade >= 9 ')\n",
    "df_third.shape"
   ]
  },
  {
   "cell_type": "code",
   "execution_count": 185,
   "metadata": {},
   "outputs": [
    {
     "data": {
      "text/plain": [
       "(17, 21)"
      ]
     },
     "execution_count": 185,
     "metadata": {},
     "output_type": "execute_result"
    }
   ],
   "source": [
    "df_third = df_third.query('view >= 4')\n",
    "df_third.shape"
   ]
  },
  {
   "cell_type": "markdown",
   "metadata": {},
   "source": [
    "definition of isolation: top 25 percent of the footage of the lot"
   ]
  },
  {
   "cell_type": "code",
   "execution_count": 186,
   "metadata": {},
   "outputs": [
    {
     "data": {
      "image/png": "[encoded data removed]",
      "text/plain": [
       "<Figure size 800x500 with 1 Axes>"
      ]
     },
     "metadata": {},
     "output_type": "display_data"
    }
   ],
   "source": [
    "sns.histplot(data=df_third,\n",
    "             x='sqft_lot',\n",
    "             bins=20,\n",
    "             kde=True)\n",
    "plt.title('Distribution of lot footage')\n",
    "plt.xlabel('lot footage')\n",
    "plt.ylabel('count')\n",
    "plt.show()"
   ]
  },
  {
   "cell_type": "code",
   "execution_count": 187,
   "metadata": {},
   "outputs": [
    {
     "data": {
      "text/html": [
       "<div>\n",
       "<style scoped>\n",
       "    .dataframe tbody tr th:only-of-type {\n",
       "        vertical-align: middle;\n",
       "    }\n",
       "\n",
       "    .dataframe tbody tr th {\n",
       "        vertical-align: top;\n",
       "    }\n",
       "\n",
       "    .dataframe thead th {\n",
       "        text-align: right;\n",
       "    }\n",
       "</style>\n",
       "<table border=\"1\" class=\"dataframe\">\n",
       "  <thead>\n",
       "    <tr style=\"text-align: right;\">\n",
       "      <th></th>\n",
       "      <th>date</th>\n",
       "      <th>price</th>\n",
       "      <th>house_id</th>\n",
       "      <th>bedrooms</th>\n",
       "      <th>bathrooms</th>\n",
       "      <th>sqft_living</th>\n",
       "      <th>sqft_lot</th>\n",
       "      <th>floors</th>\n",
       "      <th>waterfront</th>\n",
       "      <th>view</th>\n",
       "      <th>...</th>\n",
       "      <th>grade</th>\n",
       "      <th>sqft_above</th>\n",
       "      <th>sqft_basement</th>\n",
       "      <th>year_built</th>\n",
       "      <th>year_renovated</th>\n",
       "      <th>zipcode</th>\n",
       "      <th>latitude</th>\n",
       "      <th>longitude</th>\n",
       "      <th>sqft_living_15neighbors</th>\n",
       "      <th>sqft_lots_15neighbors</th>\n",
       "    </tr>\n",
       "  </thead>\n",
       "  <tbody>\n",
       "    <tr>\n",
       "      <th>count</th>\n",
       "      <td>17</td>\n",
       "      <td>17.000</td>\n",
       "      <td>17.000</td>\n",
       "      <td>17.000</td>\n",
       "      <td>17.000</td>\n",
       "      <td>17.000</td>\n",
       "      <td>17.000</td>\n",
       "      <td>17.000</td>\n",
       "      <td>17.000</td>\n",
       "      <td>17.000</td>\n",
       "      <td>...</td>\n",
       "      <td>17.000</td>\n",
       "      <td>17.000</td>\n",
       "      <td>17.000</td>\n",
       "      <td>17.000</td>\n",
       "      <td>17.000</td>\n",
       "      <td>17.000</td>\n",
       "      <td>17.000</td>\n",
       "      <td>17.000</td>\n",
       "      <td>17.000</td>\n",
       "      <td>17.000</td>\n",
       "    </tr>\n",
       "    <tr>\n",
       "      <th>mean</th>\n",
       "      <td>2014-11-11 09:52:56.470588160</td>\n",
       "      <td>2457058.824</td>\n",
       "      <td>3984041687.529</td>\n",
       "      <td>3.588</td>\n",
       "      <td>3.265</td>\n",
       "      <td>4083.118</td>\n",
       "      <td>22284.353</td>\n",
       "      <td>1.735</td>\n",
       "      <td>1.000</td>\n",
       "      <td>4.000</td>\n",
       "      <td>...</td>\n",
       "      <td>10.294</td>\n",
       "      <td>3184.882</td>\n",
       "      <td>898.235</td>\n",
       "      <td>1969.529</td>\n",
       "      <td>3508.824</td>\n",
       "      <td>98086.000</td>\n",
       "      <td>47.558</td>\n",
       "      <td>-122.247</td>\n",
       "      <td>3328.412</td>\n",
       "      <td>23423.294</td>\n",
       "    </tr>\n",
       "    <tr>\n",
       "      <th>min</th>\n",
       "      <td>2014-06-18 00:00:00</td>\n",
       "      <td>770000.000</td>\n",
       "      <td>622049114.000</td>\n",
       "      <td>3.000</td>\n",
       "      <td>2.500</td>\n",
       "      <td>2050.000</td>\n",
       "      <td>5575.000</td>\n",
       "      <td>1.000</td>\n",
       "      <td>1.000</td>\n",
       "      <td>4.000</td>\n",
       "      <td>...</td>\n",
       "      <td>9.000</td>\n",
       "      <td>1580.000</td>\n",
       "      <td>0.000</td>\n",
       "      <td>1930.000</td>\n",
       "      <td>0.000</td>\n",
       "      <td>98006.000</td>\n",
       "      <td>47.353</td>\n",
       "      <td>-122.398</td>\n",
       "      <td>2030.000</td>\n",
       "      <td>5575.000</td>\n",
       "    </tr>\n",
       "    <tr>\n",
       "      <th>25%</th>\n",
       "      <td>2014-08-25 00:00:00</td>\n",
       "      <td>1700000.000</td>\n",
       "      <td>2425049063.000</td>\n",
       "      <td>3.000</td>\n",
       "      <td>2.750</td>\n",
       "      <td>3120.000</td>\n",
       "      <td>16015.000</td>\n",
       "      <td>1.500</td>\n",
       "      <td>1.000</td>\n",
       "      <td>4.000</td>\n",
       "      <td>...</td>\n",
       "      <td>10.000</td>\n",
       "      <td>2370.000</td>\n",
       "      <td>0.000</td>\n",
       "      <td>1958.000</td>\n",
       "      <td>0.000</td>\n",
       "      <td>98040.000</td>\n",
       "      <td>47.525</td>\n",
       "      <td>-122.348</td>\n",
       "      <td>2800.000</td>\n",
       "      <td>12210.000</td>\n",
       "    </tr>\n",
       "    <tr>\n",
       "      <th>50%</th>\n",
       "      <td>2014-10-28 00:00:00</td>\n",
       "      <td>2600000.000</td>\n",
       "      <td>3625059152.000</td>\n",
       "      <td>3.000</td>\n",
       "      <td>3.000</td>\n",
       "      <td>3920.000</td>\n",
       "      <td>21300.000</td>\n",
       "      <td>2.000</td>\n",
       "      <td>1.000</td>\n",
       "      <td>4.000</td>\n",
       "      <td>...</td>\n",
       "      <td>10.000</td>\n",
       "      <td>2810.000</td>\n",
       "      <td>910.000</td>\n",
       "      <td>1974.000</td>\n",
       "      <td>0.000</td>\n",
       "      <td>98075.000</td>\n",
       "      <td>47.572</td>\n",
       "      <td>-122.241</td>\n",
       "      <td>3350.000</td>\n",
       "      <td>15810.000</td>\n",
       "    </tr>\n",
       "    <tr>\n",
       "      <th>75%</th>\n",
       "      <td>2015-02-18 00:00:00</td>\n",
       "      <td>3200000.000</td>\n",
       "      <td>5154700060.000</td>\n",
       "      <td>4.000</td>\n",
       "      <td>3.500</td>\n",
       "      <td>4850.000</td>\n",
       "      <td>24691.000</td>\n",
       "      <td>2.000</td>\n",
       "      <td>1.000</td>\n",
       "      <td>4.000</td>\n",
       "      <td>...</td>\n",
       "      <td>11.000</td>\n",
       "      <td>3910.000</td>\n",
       "      <td>1270.000</td>\n",
       "      <td>1989.000</td>\n",
       "      <td>0.000</td>\n",
       "      <td>98136.000</td>\n",
       "      <td>47.608</td>\n",
       "      <td>-122.197</td>\n",
       "      <td>3810.000</td>\n",
       "      <td>25582.000</td>\n",
       "    </tr>\n",
       "    <tr>\n",
       "      <th>max</th>\n",
       "      <td>2015-04-21 00:00:00</td>\n",
       "      <td>3850000.000</td>\n",
       "      <td>8106100105.000</td>\n",
       "      <td>6.000</td>\n",
       "      <td>4.750</td>\n",
       "      <td>7000.000</td>\n",
       "      <td>49456.000</td>\n",
       "      <td>2.000</td>\n",
       "      <td>1.000</td>\n",
       "      <td>4.000</td>\n",
       "      <td>...</td>\n",
       "      <td>12.000</td>\n",
       "      <td>5770.000</td>\n",
       "      <td>3500.000</td>\n",
       "      <td>1996.000</td>\n",
       "      <td>19890.000</td>\n",
       "      <td>98198.000</td>\n",
       "      <td>47.701</td>\n",
       "      <td>-122.083</td>\n",
       "      <td>4913.000</td>\n",
       "      <td>104374.000</td>\n",
       "    </tr>\n",
       "    <tr>\n",
       "      <th>std</th>\n",
       "      <td>NaN</td>\n",
       "      <td>957619.214</td>\n",
       "      <td>2524554558.037</td>\n",
       "      <td>0.795</td>\n",
       "      <td>0.676</td>\n",
       "      <td>1325.648</td>\n",
       "      <td>10576.542</td>\n",
       "      <td>0.437</td>\n",
       "      <td>0.000</td>\n",
       "      <td>0.000</td>\n",
       "      <td>...</td>\n",
       "      <td>0.985</td>\n",
       "      <td>1261.475</td>\n",
       "      <td>919.519</td>\n",
       "      <td>21.419</td>\n",
       "      <td>7813.209</td>\n",
       "      <td>60.955</td>\n",
       "      <td>0.089</td>\n",
       "      <td>0.109</td>\n",
       "      <td>787.097</td>\n",
       "      <td>22557.825</td>\n",
       "    </tr>\n",
       "  </tbody>\n",
       "</table>\n",
       "<p>8 rows × 21 columns</p>\n",
       "</div>"
      ],
      "text/plain": [
       "                                date       price       house_id  bedrooms   \n",
       "count                             17      17.000         17.000    17.000  \\\n",
       "mean   2014-11-11 09:52:56.470588160 2457058.824 3984041687.529     3.588   \n",
       "min              2014-06-18 00:00:00  770000.000  622049114.000     3.000   \n",
       "25%              2014-08-25 00:00:00 1700000.000 2425049063.000     3.000   \n",
       "50%              2014-10-28 00:00:00 2600000.000 3625059152.000     3.000   \n",
       "75%              2015-02-18 00:00:00 3200000.000 5154700060.000     4.000   \n",
       "max              2015-04-21 00:00:00 3850000.000 8106100105.000     6.000   \n",
       "std                              NaN  957619.214 2524554558.037     0.795   \n",
       "\n",
       "       bathrooms  sqft_living  sqft_lot  floors  waterfront   view  ...   \n",
       "count     17.000       17.000    17.000  17.000      17.000 17.000  ...  \\\n",
       "mean       3.265     4083.118 22284.353   1.735       1.000  4.000  ...   \n",
       "min        2.500     2050.000  5575.000   1.000       1.000  4.000  ...   \n",
       "25%        2.750     3120.000 16015.000   1.500       1.000  4.000  ...   \n",
       "50%        3.000     3920.000 21300.000   2.000       1.000  4.000  ...   \n",
       "75%        3.500     4850.000 24691.000   2.000       1.000  4.000  ...   \n",
       "max        4.750     7000.000 49456.000   2.000       1.000  4.000  ...   \n",
       "std        0.676     1325.648 10576.542   0.437       0.000  0.000  ...   \n",
       "\n",
       "       grade  sqft_above  sqft_basement  year_built  year_renovated   zipcode   \n",
       "count 17.000      17.000         17.000      17.000          17.000    17.000  \\\n",
       "mean  10.294    3184.882        898.235    1969.529        3508.824 98086.000   \n",
       "min    9.000    1580.000          0.000    1930.000           0.000 98006.000   \n",
       "25%   10.000    2370.000          0.000    1958.000           0.000 98040.000   \n",
       "50%   10.000    2810.000        910.000    1974.000           0.000 98075.000   \n",
       "75%   11.000    3910.000       1270.000    1989.000           0.000 98136.000   \n",
       "max   12.000    5770.000       3500.000    1996.000       19890.000 98198.000   \n",
       "std    0.985    1261.475        919.519      21.419        7813.209    60.955   \n",
       "\n",
       "       latitude  longitude  sqft_living_15neighbors  sqft_lots_15neighbors  \n",
       "count    17.000     17.000                   17.000                 17.000  \n",
       "mean     47.558   -122.247                 3328.412              23423.294  \n",
       "min      47.353   -122.398                 2030.000               5575.000  \n",
       "25%      47.525   -122.348                 2800.000              12210.000  \n",
       "50%      47.572   -122.241                 3350.000              15810.000  \n",
       "75%      47.608   -122.197                 3810.000              25582.000  \n",
       "max      47.701   -122.083                 4913.000             104374.000  \n",
       "std       0.089      0.109                  787.097              22557.825  \n",
       "\n",
       "[8 rows x 21 columns]"
      ]
     },
     "execution_count": 187,
     "metadata": {},
     "output_type": "execute_result"
    }
   ],
   "source": [
    "df_third.describe()"
   ]
  },
  {
   "cell_type": "code",
   "execution_count": 188,
   "metadata": {},
   "outputs": [
    {
     "data": {
      "image/png": "[encoded data removed]",
      "text/plain": [
       "<Figure size 800x500 with 1 Axes>"
      ]
     },
     "metadata": {},
     "output_type": "display_data"
    }
   ],
   "source": [
    "# Calculate the 75th percentile of lot footage\n",
    "percentile_75 = df_third['sqft_lot'].quantile(0.75)\n",
    "\n",
    "\n",
    "# Filter data for values less than or equal to the 75th percentile\n",
    "df_filtered = df_third[df_third['sqft_lot'] >= percentile_75].reset_index()\n",
    "\n",
    "# Plotting the histogram of the filtered data\n",
    "sns.histplot(data=df_filtered, \n",
    "             x='sqft_lot', \n",
    "             bins=20, \n",
    "             kde=True)\n",
    "\n",
    "\n",
    "plt.axvline(percentile_75, color='r', linestyle='dashed', linewidth=1, label='75th Percentile')\n",
    "plt.title('Distribution of Lot Footage (75th Percentile)')\n",
    "plt.xlabel('Lot Footage')\n",
    "plt.ylabel('Count')\n",
    "plt.legend()\n",
    "plt.show()\n",
    "\n"
   ]
  },
  {
   "cell_type": "code",
   "execution_count": 189,
   "metadata": {},
   "outputs": [
    {
     "data": {
      "text/html": [
       "<div>\n",
       "<style scoped>\n",
       "    .dataframe tbody tr th:only-of-type {\n",
       "        vertical-align: middle;\n",
       "    }\n",
       "\n",
       "    .dataframe tbody tr th {\n",
       "        vertical-align: top;\n",
       "    }\n",
       "\n",
       "    .dataframe thead th {\n",
       "        text-align: right;\n",
       "    }\n",
       "</style>\n",
       "<table border=\"1\" class=\"dataframe\">\n",
       "  <thead>\n",
       "    <tr style=\"text-align: right;\">\n",
       "      <th></th>\n",
       "      <th>index</th>\n",
       "      <th>date</th>\n",
       "      <th>price</th>\n",
       "      <th>house_id</th>\n",
       "      <th>bedrooms</th>\n",
       "      <th>bathrooms</th>\n",
       "      <th>sqft_living</th>\n",
       "      <th>sqft_lot</th>\n",
       "      <th>floors</th>\n",
       "      <th>waterfront</th>\n",
       "      <th>...</th>\n",
       "      <th>grade</th>\n",
       "      <th>sqft_above</th>\n",
       "      <th>sqft_basement</th>\n",
       "      <th>year_built</th>\n",
       "      <th>year_renovated</th>\n",
       "      <th>zipcode</th>\n",
       "      <th>latitude</th>\n",
       "      <th>longitude</th>\n",
       "      <th>sqft_living_15neighbors</th>\n",
       "      <th>sqft_lots_15neighbors</th>\n",
       "    </tr>\n",
       "  </thead>\n",
       "  <tbody>\n",
       "    <tr>\n",
       "      <th>count</th>\n",
       "      <td>5.000</td>\n",
       "      <td>5</td>\n",
       "      <td>5.000</td>\n",
       "      <td>5.000</td>\n",
       "      <td>5.000</td>\n",
       "      <td>5.000</td>\n",
       "      <td>5.000</td>\n",
       "      <td>5.000</td>\n",
       "      <td>5.000</td>\n",
       "      <td>5.000</td>\n",
       "      <td>...</td>\n",
       "      <td>5.000</td>\n",
       "      <td>5.000</td>\n",
       "      <td>5.000</td>\n",
       "      <td>5.000</td>\n",
       "      <td>5.000</td>\n",
       "      <td>5.000</td>\n",
       "      <td>5.000</td>\n",
       "      <td>5.000</td>\n",
       "      <td>5.000</td>\n",
       "      <td>5.000</td>\n",
       "    </tr>\n",
       "    <tr>\n",
       "      <th>mean</th>\n",
       "      <td>61.000</td>\n",
       "      <td>2014-10-05 04:48:00</td>\n",
       "      <td>2224000.000</td>\n",
       "      <td>5434285683.800</td>\n",
       "      <td>3.400</td>\n",
       "      <td>2.900</td>\n",
       "      <td>4090.000</td>\n",
       "      <td>34343.400</td>\n",
       "      <td>1.400</td>\n",
       "      <td>1.000</td>\n",
       "      <td>...</td>\n",
       "      <td>10.200</td>\n",
       "      <td>2500.000</td>\n",
       "      <td>1590.000</td>\n",
       "      <td>1972.200</td>\n",
       "      <td>7952.000</td>\n",
       "      <td>98112.600</td>\n",
       "      <td>47.519</td>\n",
       "      <td>-122.256</td>\n",
       "      <td>3220.600</td>\n",
       "      <td>27215.800</td>\n",
       "    </tr>\n",
       "    <tr>\n",
       "      <th>min</th>\n",
       "      <td>21.000</td>\n",
       "      <td>2014-07-25 00:00:00</td>\n",
       "      <td>1160000.000</td>\n",
       "      <td>624069108.000</td>\n",
       "      <td>3.000</td>\n",
       "      <td>2.500</td>\n",
       "      <td>2490.000</td>\n",
       "      <td>24691.000</td>\n",
       "      <td>1.000</td>\n",
       "      <td>1.000</td>\n",
       "      <td>...</td>\n",
       "      <td>9.000</td>\n",
       "      <td>1580.000</td>\n",
       "      <td>530.000</td>\n",
       "      <td>1958.000</td>\n",
       "      <td>0.000</td>\n",
       "      <td>98008.000</td>\n",
       "      <td>47.353</td>\n",
       "      <td>-122.398</td>\n",
       "      <td>2030.000</td>\n",
       "      <td>14663.000</td>\n",
       "    </tr>\n",
       "    <tr>\n",
       "      <th>25%</th>\n",
       "      <td>57.000</td>\n",
       "      <td>2014-08-12 00:00:00</td>\n",
       "      <td>1230000.000</td>\n",
       "      <td>3625059152.000</td>\n",
       "      <td>3.000</td>\n",
       "      <td>2.500</td>\n",
       "      <td>3120.000</td>\n",
       "      <td>28064.000</td>\n",
       "      <td>1.000</td>\n",
       "      <td>1.000</td>\n",
       "      <td>...</td>\n",
       "      <td>9.000</td>\n",
       "      <td>2370.000</td>\n",
       "      <td>910.000</td>\n",
       "      <td>1961.000</td>\n",
       "      <td>0.000</td>\n",
       "      <td>98075.000</td>\n",
       "      <td>47.488</td>\n",
       "      <td>-122.364</td>\n",
       "      <td>2550.000</td>\n",
       "      <td>24121.000</td>\n",
       "    </tr>\n",
       "    <tr>\n",
       "      <th>50%</th>\n",
       "      <td>64.000</td>\n",
       "      <td>2014-10-23 00:00:00</td>\n",
       "      <td>2230000.000</td>\n",
       "      <td>7204200025.000</td>\n",
       "      <td>3.000</td>\n",
       "      <td>3.000</td>\n",
       "      <td>3620.000</td>\n",
       "      <td>28206.000</td>\n",
       "      <td>1.000</td>\n",
       "      <td>1.000</td>\n",
       "      <td>...</td>\n",
       "      <td>10.000</td>\n",
       "      <td>2460.000</td>\n",
       "      <td>1250.000</td>\n",
       "      <td>1974.000</td>\n",
       "      <td>0.000</td>\n",
       "      <td>98136.000</td>\n",
       "      <td>47.552</td>\n",
       "      <td>-122.323</td>\n",
       "      <td>2800.000</td>\n",
       "      <td>30401.000</td>\n",
       "    </tr>\n",
       "    <tr>\n",
       "      <th>75%</th>\n",
       "      <td>81.000</td>\n",
       "      <td>2014-10-28 00:00:00</td>\n",
       "      <td>3200000.000</td>\n",
       "      <td>7781600025.000</td>\n",
       "      <td>4.000</td>\n",
       "      <td>3.250</td>\n",
       "      <td>4220.000</td>\n",
       "      <td>41300.000</td>\n",
       "      <td>2.000</td>\n",
       "      <td>1.000</td>\n",
       "      <td>...</td>\n",
       "      <td>11.000</td>\n",
       "      <td>2590.000</td>\n",
       "      <td>1760.000</td>\n",
       "      <td>1977.000</td>\n",
       "      <td>19870.000</td>\n",
       "      <td>98146.000</td>\n",
       "      <td>47.593</td>\n",
       "      <td>-122.110</td>\n",
       "      <td>3810.000</td>\n",
       "      <td>32181.000</td>\n",
       "    </tr>\n",
       "    <tr>\n",
       "      <th>max</th>\n",
       "      <td>82.000</td>\n",
       "      <td>2014-12-30 00:00:00</td>\n",
       "      <td>3300000.000</td>\n",
       "      <td>7936500109.000</td>\n",
       "      <td>4.000</td>\n",
       "      <td>3.250</td>\n",
       "      <td>7000.000</td>\n",
       "      <td>49456.000</td>\n",
       "      <td>2.000</td>\n",
       "      <td>1.000</td>\n",
       "      <td>...</td>\n",
       "      <td>12.000</td>\n",
       "      <td>3500.000</td>\n",
       "      <td>3500.000</td>\n",
       "      <td>1991.000</td>\n",
       "      <td>19890.000</td>\n",
       "      <td>98198.000</td>\n",
       "      <td>47.608</td>\n",
       "      <td>-122.086</td>\n",
       "      <td>4913.000</td>\n",
       "      <td>34713.000</td>\n",
       "    </tr>\n",
       "    <tr>\n",
       "      <th>std</th>\n",
       "      <td>24.829</td>\n",
       "      <td>NaN</td>\n",
       "      <td>1028411.396</td>\n",
       "      <td>3213838926.064</td>\n",
       "      <td>0.548</td>\n",
       "      <td>0.379</td>\n",
       "      <td>1746.912</td>\n",
       "      <td>10571.806</td>\n",
       "      <td>0.548</td>\n",
       "      <td>0.000</td>\n",
       "      <td>...</td>\n",
       "      <td>1.304</td>\n",
       "      <td>684.288</td>\n",
       "      <td>1159.590</td>\n",
       "      <td>13.293</td>\n",
       "      <td>10888.727</td>\n",
       "      <td>72.992</td>\n",
       "      <td>0.103</td>\n",
       "      <td>0.147</td>\n",
       "      <td>1146.271</td>\n",
       "      <td>8033.637</td>\n",
       "    </tr>\n",
       "  </tbody>\n",
       "</table>\n",
       "<p>8 rows × 22 columns</p>\n",
       "</div>"
      ],
      "text/plain": [
       "       index                 date       price       house_id  bedrooms   \n",
       "count  5.000                    5       5.000          5.000     5.000  \\\n",
       "mean  61.000  2014-10-05 04:48:00 2224000.000 5434285683.800     3.400   \n",
       "min   21.000  2014-07-25 00:00:00 1160000.000  624069108.000     3.000   \n",
       "25%   57.000  2014-08-12 00:00:00 1230000.000 3625059152.000     3.000   \n",
       "50%   64.000  2014-10-23 00:00:00 2230000.000 7204200025.000     3.000   \n",
       "75%   81.000  2014-10-28 00:00:00 3200000.000 7781600025.000     4.000   \n",
       "max   82.000  2014-12-30 00:00:00 3300000.000 7936500109.000     4.000   \n",
       "std   24.829                  NaN 1028411.396 3213838926.064     0.548   \n",
       "\n",
       "       bathrooms  sqft_living  sqft_lot  floors  waterfront  ...  grade   \n",
       "count      5.000        5.000     5.000   5.000       5.000  ...  5.000  \\\n",
       "mean       2.900     4090.000 34343.400   1.400       1.000  ... 10.200   \n",
       "min        2.500     2490.000 24691.000   1.000       1.000  ...  9.000   \n",
       "25%        2.500     3120.000 28064.000   1.000       1.000  ...  9.000   \n",
       "50%        3.000     3620.000 28206.000   1.000       1.000  ... 10.000   \n",
       "75%        3.250     4220.000 41300.000   2.000       1.000  ... 11.000   \n",
       "max        3.250     7000.000 49456.000   2.000       1.000  ... 12.000   \n",
       "std        0.379     1746.912 10571.806   0.548       0.000  ...  1.304   \n",
       "\n",
       "       sqft_above  sqft_basement  year_built  year_renovated   zipcode   \n",
       "count       5.000          5.000       5.000           5.000     5.000  \\\n",
       "mean     2500.000       1590.000    1972.200        7952.000 98112.600   \n",
       "min      1580.000        530.000    1958.000           0.000 98008.000   \n",
       "25%      2370.000        910.000    1961.000           0.000 98075.000   \n",
       "50%      2460.000       1250.000    1974.000           0.000 98136.000   \n",
       "75%      2590.000       1760.000    1977.000       19870.000 98146.000   \n",
       "max      3500.000       3500.000    1991.000       19890.000 98198.000   \n",
       "std       684.288       1159.590      13.293       10888.727    72.992   \n",
       "\n",
       "       latitude  longitude  sqft_living_15neighbors  sqft_lots_15neighbors  \n",
       "count     5.000      5.000                    5.000                  5.000  \n",
       "mean     47.519   -122.256                 3220.600              27215.800  \n",
       "min      47.353   -122.398                 2030.000              14663.000  \n",
       "25%      47.488   -122.364                 2550.000              24121.000  \n",
       "50%      47.552   -122.323                 2800.000              30401.000  \n",
       "75%      47.593   -122.110                 3810.000              32181.000  \n",
       "max      47.608   -122.086                 4913.000              34713.000  \n",
       "std       0.103      0.147                 1146.271               8033.637  \n",
       "\n",
       "[8 rows x 22 columns]"
      ]
     },
     "execution_count": 189,
     "metadata": {},
     "output_type": "execute_result"
    }
   ],
   "source": [
    "df_filtered.describe()"
   ]
  },
  {
   "cell_type": "code",
   "execution_count": 190,
   "metadata": {},
   "outputs": [
    {
     "data": {
      "text/plain": [
       "(5, 22)"
      ]
     },
     "execution_count": 190,
     "metadata": {},
     "output_type": "execute_result"
    }
   ],
   "source": [
    "df_filtered.shape\n"
   ]
  },
  {
   "cell_type": "markdown",
   "metadata": {},
   "source": [
    "<style>\n",
    "r { color: Red }\n",
    "</style>\n",
    "\n",
    "### <r>Forth requirement: Central neighborhood</r> \n"
   ]
  },
  {
   "cell_type": "code",
   "execution_count": 191,
   "metadata": {},
   "outputs": [],
   "source": [
    "df_forth = df_filtered.copy()"
   ]
  },
  {
   "cell_type": "code",
   "execution_count": 192,
   "metadata": {},
   "outputs": [
    {
     "data": {
      "application/vnd.plotly.v1+json": {
       "config": {
        "plotlyServerURL": "https://plot.ly"
       },
       "data": [
        {
         "hovertemplate": "price=%{marker.color}<br>lat=%{lat}<br>long=%{lon}<extra></extra>",
         "lat": [
          47.3535,
          47.488,
          47.5516,
          47.592800000000004,
          47.6083
         ],
         "legendgroup": "",
         "lon": [
          -122.32300000000001,
          -122.36400000000002,
          -122.398,
          -122.086,
          -122.11000000000001
         ],
         "marker": {
          "color": [
           1230000,
           1160000,
           2230000,
           3200000,
           3300000
          ],
          "coloraxis": "coloraxis",
          "size": [
           1230000,
           1160000,
           2230000,
           3200000,
           3300000
          ],
          "sizemode": "area",
          "sizeref": 33000
         },
         "mode": "markers",
         "name": "",
         "showlegend": false,
         "subplot": "mapbox",
         "type": "scattermapbox"
        }
       ],
       "layout": {
        "coloraxis": {
         "colorbar": {
          "title": {
           "text": "price"
          }
         },
         "colorscale": [
          [
           0,
           "#440154"
          ],
          [
           0.1111111111111111,
           "#482878"
          ],
          [
           0.2222222222222222,
           "#3e4989"
          ],
          [
           0.3333333333333333,
           "#31688e"
          ],
          [
           0.4444444444444444,
           "#26828e"
          ],
          [
           0.5555555555555556,
           "#1f9e89"
          ],
          [
           0.6666666666666666,
           "#35b779"
          ],
          [
           0.7777777777777778,
           "#6ece58"
          ],
          [
           0.8888888888888888,
           "#b5de2b"
          ],
          [
           1,
           "#fde725"
          ]
         ]
        },
        "legend": {
         "itemsizing": "constant",
         "tracegroupgap": 0
        },
        "mapbox": {
         "center": {
          "lat": 47.6,
          "lon": -122.3
         },
         "domain": {
          "x": [
           0,
           1
          ],
          "y": [
           0,
           1
          ]
         },
         "style": "carto-positron",
         "zoom": 9
        },
        "margin": {
         "b": 0,
         "l": 0,
         "r": 0,
         "t": 0
        },
        "template": {
         "data": {
          "bar": [
           {
            "error_x": {
             "color": "#2a3f5f"
            },
            "error_y": {
             "color": "#2a3f5f"
            },
            "marker": {
             "line": {
              "color": "#E5ECF6",
              "width": 0.5
             },
             "pattern": {
              "fillmode": "overlay",
              "size": 10,
              "solidity": 0.2
             }
            },
            "type": "bar"
           }
          ],
          "barpolar": [
           {
            "marker": {
             "line": {
              "color": "#E5ECF6",
              "width": 0.5
             },
             "pattern": {
              "fillmode": "overlay",
              "size": 10,
              "solidity": 0.2
             }
            },
            "type": "barpolar"
           }
          ],
          "carpet": [
           {
            "aaxis": {
             "endlinecolor": "#2a3f5f",
             "gridcolor": "white",
             "linecolor": "white",
             "minorgridcolor": "white",
             "startlinecolor": "#2a3f5f"
            },
            "baxis": {
             "endlinecolor": "#2a3f5f",
             "gridcolor": "white",
             "linecolor": "white",
             "minorgridcolor": "white",
             "startlinecolor": "#2a3f5f"
            },
            "type": "carpet"
           }
          ],
          "choropleth": [
           {
            "colorbar": {
             "outlinewidth": 0,
             "ticks": ""
            },
            "type": "choropleth"
           }
          ],
          "contour": [
           {
            "colorbar": {
             "outlinewidth": 0,
             "ticks": ""
            },
            "colorscale": [
             [
              0,
              "#0d0887"
             ],
             [
              0.1111111111111111,
              "#46039f"
             ],
             [
              0.2222222222222222,
              "#7201a8"
             ],
             [
              0.3333333333333333,
              "#9c179e"
             ],
             [
              0.4444444444444444,
              "#bd3786"
             ],
             [
              0.5555555555555556,
              "#d8576b"
             ],
             [
              0.6666666666666666,
              "#ed7953"
             ],
             [
              0.7777777777777778,
              "#fb9f3a"
             ],
             [
              0.8888888888888888,
              "#fdca26"
             ],
             [
              1,
              "#f0f921"
             ]
            ],
            "type": "contour"
           }
          ],
          "contourcarpet": [
           {
            "colorbar": {
             "outlinewidth": 0,
             "ticks": ""
            },
            "type": "contourcarpet"
           }
          ],
          "heatmap": [
           {
            "colorbar": {
             "outlinewidth": 0,
             "ticks": ""
            },
            "colorscale": [
             [
              0,
              "#0d0887"
             ],
             [
              0.1111111111111111,
              "#46039f"
             ],
             [
              0.2222222222222222,
              "#7201a8"
             ],
             [
              0.3333333333333333,
              "#9c179e"
             ],
             [
              0.4444444444444444,
              "#bd3786"
             ],
             [
              0.5555555555555556,
              "#d8576b"
             ],
             [
              0.6666666666666666,
              "#ed7953"
             ],
             [
              0.7777777777777778,
              "#fb9f3a"
             ],
             [
              0.8888888888888888,
              "#fdca26"
             ],
             [
              1,
              "#f0f921"
             ]
            ],
            "type": "heatmap"
           }
          ],
          "heatmapgl": [
           {
            "colorbar": {
             "outlinewidth": 0,
             "ticks": ""
            },
            "colorscale": [
             [
              0,
              "#0d0887"
             ],
             [
              0.1111111111111111,
              "#46039f"
             ],
             [
              0.2222222222222222,
              "#7201a8"
             ],
             [
              0.3333333333333333,
              "#9c179e"
             ],
             [
              0.4444444444444444,
              "#bd3786"
             ],
             [
              0.5555555555555556,
              "#d8576b"
             ],
             [
              0.6666666666666666,
              "#ed7953"
             ],
             [
              0.7777777777777778,
              "#fb9f3a"
             ],
             [
              0.8888888888888888,
              "#fdca26"
             ],
             [
              1,
              "#f0f921"
             ]
            ],
            "type": "heatmapgl"
           }
          ],
          "histogram": [
           {
            "marker": {
             "pattern": {
              "fillmode": "overlay",
              "size": 10,
              "solidity": 0.2
             }
            },
            "type": "histogram"
           }
          ],
          "histogram2d": [
           {
            "colorbar": {
             "outlinewidth": 0,
             "ticks": ""
            },
            "colorscale": [
             [
              0,
              "#0d0887"
             ],
             [
              0.1111111111111111,
              "#46039f"
             ],
             [
              0.2222222222222222,
              "#7201a8"
             ],
             [
              0.3333333333333333,
              "#9c179e"
             ],
             [
              0.4444444444444444,
              "#bd3786"
             ],
             [
              0.5555555555555556,
              "#d8576b"
             ],
             [
              0.6666666666666666,
              "#ed7953"
             ],
             [
              0.7777777777777778,
              "#fb9f3a"
             ],
             [
              0.8888888888888888,
              "#fdca26"
             ],
             [
              1,
              "#f0f921"
             ]
            ],
            "type": "histogram2d"
           }
          ],
          "histogram2dcontour": [
           {
            "colorbar": {
             "outlinewidth": 0,
             "ticks": ""
            },
            "colorscale": [
             [
              0,
              "#0d0887"
             ],
             [
              0.1111111111111111,
              "#46039f"
             ],
             [
              0.2222222222222222,
              "#7201a8"
             ],
             [
              0.3333333333333333,
              "#9c179e"
             ],
             [
              0.4444444444444444,
              "#bd3786"
             ],
             [
              0.5555555555555556,
              "#d8576b"
             ],
             [
              0.6666666666666666,
              "#ed7953"
             ],
             [
              0.7777777777777778,
              "#fb9f3a"
             ],
             [
              0.8888888888888888,
              "#fdca26"
             ],
             [
              1,
              "#f0f921"
             ]
            ],
            "type": "histogram2dcontour"
           }
          ],
          "mesh3d": [
           {
            "colorbar": {
             "outlinewidth": 0,
             "ticks": ""
            },
            "type": "mesh3d"
           }
          ],
          "parcoords": [
           {
            "line": {
             "colorbar": {
              "outlinewidth": 0,
              "ticks": ""
             }
            },
            "type": "parcoords"
           }
          ],
          "pie": [
           {
            "automargin": true,
            "type": "pie"
           }
          ],
          "scatter": [
           {
            "fillpattern": {
             "fillmode": "overlay",
             "size": 10,
             "solidity": 0.2
            },
            "type": "scatter"
           }
          ],
          "scatter3d": [
           {
            "line": {
             "colorbar": {
              "outlinewidth": 0,
              "ticks": ""
             }
            },
            "marker": {
             "colorbar": {
              "outlinewidth": 0,
              "ticks": ""
             }
            },
            "type": "scatter3d"
           }
          ],
          "scattercarpet": [
           {
            "marker": {
             "colorbar": {
              "outlinewidth": 0,
              "ticks": ""
             }
            },
            "type": "scattercarpet"
           }
          ],
          "scattergeo": [
           {
            "marker": {
             "colorbar": {
              "outlinewidth": 0,
              "ticks": ""
             }
            },
            "type": "scattergeo"
           }
          ],
          "scattergl": [
           {
            "marker": {
             "colorbar": {
              "outlinewidth": 0,
              "ticks": ""
             }
            },
            "type": "scattergl"
           }
          ],
          "scattermapbox": [
           {
            "marker": {
             "colorbar": {
              "outlinewidth": 0,
              "ticks": ""
             }
            },
            "type": "scattermapbox"
           }
          ],
          "scatterpolar": [
           {
            "marker": {
             "colorbar": {
              "outlinewidth": 0,
              "ticks": ""
             }
            },
            "type": "scatterpolar"
           }
          ],
          "scatterpolargl": [
           {
            "marker": {
             "colorbar": {
              "outlinewidth": 0,
              "ticks": ""
             }
            },
            "type": "scatterpolargl"
           }
          ],
          "scatterternary": [
           {
            "marker": {
             "colorbar": {
              "outlinewidth": 0,
              "ticks": ""
             }
            },
            "type": "scatterternary"
           }
          ],
          "surface": [
           {
            "colorbar": {
             "outlinewidth": 0,
             "ticks": ""
            },
            "colorscale": [
             [
              0,
              "#0d0887"
             ],
             [
              0.1111111111111111,
              "#46039f"
             ],
             [
              0.2222222222222222,
              "#7201a8"
             ],
             [
              0.3333333333333333,
              "#9c179e"
             ],
             [
              0.4444444444444444,
              "#bd3786"
             ],
             [
              0.5555555555555556,
              "#d8576b"
             ],
             [
              0.6666666666666666,
              "#ed7953"
             ],
             [
              0.7777777777777778,
              "#fb9f3a"
             ],
             [
              0.8888888888888888,
              "#fdca26"
             ],
             [
              1,
              "#f0f921"
             ]
            ],
            "type": "surface"
           }
          ],
          "table": [
           {
            "cells": {
             "fill": {
              "color": "#EBF0F8"
             },
             "line": {
              "color": "white"
             }
            },
            "header": {
             "fill": {
              "color": "#C8D4E3"
             },
             "line": {
              "color": "white"
             }
            },
            "type": "table"
           }
          ]
         },
         "layout": {
          "annotationdefaults": {
           "arrowcolor": "#2a3f5f",
           "arrowhead": 0,
           "arrowwidth": 1
          },
          "autotypenumbers": "strict",
          "coloraxis": {
           "colorbar": {
            "outlinewidth": 0,
            "ticks": ""
           }
          },
          "colorscale": {
           "diverging": [
            [
             0,
             "#8e0152"
            ],
            [
             0.1,
             "#c51b7d"
            ],
            [
             0.2,
             "#de77ae"
            ],
            [
             0.3,
             "#f1b6da"
            ],
            [
             0.4,
             "#fde0ef"
            ],
            [
             0.5,
             "#f7f7f7"
            ],
            [
             0.6,
             "#e6f5d0"
            ],
            [
             0.7,
             "#b8e186"
            ],
            [
             0.8,
             "#7fbc41"
            ],
            [
             0.9,
             "#4d9221"
            ],
            [
             1,
             "#276419"
            ]
           ],
           "sequential": [
            [
             0,
             "#0d0887"
            ],
            [
             0.1111111111111111,
             "#46039f"
            ],
            [
             0.2222222222222222,
             "#7201a8"
            ],
            [
             0.3333333333333333,
             "#9c179e"
            ],
            [
             0.4444444444444444,
             "#bd3786"
            ],
            [
             0.5555555555555556,
             "#d8576b"
            ],
            [
             0.6666666666666666,
             "#ed7953"
            ],
            [
             0.7777777777777778,
             "#fb9f3a"
            ],
            [
             0.8888888888888888,
             "#fdca26"
            ],
            [
             1,
             "#f0f921"
            ]
           ],
           "sequentialminus": [
            [
             0,
             "#0d0887"
            ],
            [
             0.1111111111111111,
             "#46039f"
            ],
            [
             0.2222222222222222,
             "#7201a8"
            ],
            [
             0.3333333333333333,
             "#9c179e"
            ],
            [
             0.4444444444444444,
             "#bd3786"
            ],
            [
             0.5555555555555556,
             "#d8576b"
            ],
            [
             0.6666666666666666,
             "#ed7953"
            ],
            [
             0.7777777777777778,
             "#fb9f3a"
            ],
            [
             0.8888888888888888,
             "#fdca26"
            ],
            [
             1,
             "#f0f921"
            ]
           ]
          },
          "colorway": [
           "#636efa",
           "#EF553B",
           "#00cc96",
           "#ab63fa",
           "#FFA15A",
           "#19d3f3",
           "#FF6692",
           "#B6E880",
           "#FF97FF",
           "#FECB52"
          ],
          "font": {
           "color": "#2a3f5f"
          },
          "geo": {
           "bgcolor": "white",
           "lakecolor": "white",
           "landcolor": "#E5ECF6",
           "showlakes": true,
           "showland": true,
           "subunitcolor": "white"
          },
          "hoverlabel": {
           "align": "left"
          },
          "hovermode": "closest",
          "mapbox": {
           "style": "light"
          },
          "paper_bgcolor": "white",
          "plot_bgcolor": "#E5ECF6",
          "polar": {
           "angularaxis": {
            "gridcolor": "white",
            "linecolor": "white",
            "ticks": ""
           },
           "bgcolor": "#E5ECF6",
           "radialaxis": {
            "gridcolor": "white",
            "linecolor": "white",
            "ticks": ""
           }
          },
          "scene": {
           "xaxis": {
            "backgroundcolor": "#E5ECF6",
            "gridcolor": "white",
            "gridwidth": 2,
            "linecolor": "white",
            "showbackground": true,
            "ticks": "",
            "zerolinecolor": "white"
           },
           "yaxis": {
            "backgroundcolor": "#E5ECF6",
            "gridcolor": "white",
            "gridwidth": 2,
            "linecolor": "white",
            "showbackground": true,
            "ticks": "",
            "zerolinecolor": "white"
           },
           "zaxis": {
            "backgroundcolor": "#E5ECF6",
            "gridcolor": "white",
            "gridwidth": 2,
            "linecolor": "white",
            "showbackground": true,
            "ticks": "",
            "zerolinecolor": "white"
           }
          },
          "shapedefaults": {
           "line": {
            "color": "#2a3f5f"
           }
          },
          "ternary": {
           "aaxis": {
            "gridcolor": "white",
            "linecolor": "white",
            "ticks": ""
           },
           "baxis": {
            "gridcolor": "white",
            "linecolor": "white",
            "ticks": ""
           },
           "bgcolor": "#E5ECF6",
           "caxis": {
            "gridcolor": "white",
            "linecolor": "white",
            "ticks": ""
           }
          },
          "title": {
           "x": 0.05
          },
          "xaxis": {
           "automargin": true,
           "gridcolor": "white",
           "linecolor": "white",
           "ticks": "",
           "title": {
            "standoff": 15
           },
           "zerolinecolor": "white",
           "zerolinewidth": 2
          },
          "yaxis": {
           "automargin": true,
           "gridcolor": "white",
           "linecolor": "white",
           "ticks": "",
           "title": {
            "standoff": 15
           },
           "zerolinecolor": "white",
           "zerolinewidth": 2
          }
         }
        },
        "title": {
         "text": "Geolocation Plot by Average Price per Living (Clustered)"
        }
       }
      }
     },
     "metadata": {},
     "output_type": "display_data"
    }
   ],
   "source": [
    "# Convert latitude and longitude to radians\n",
    "df_forth['lat_rad'] = np.radians(df_forth['latitude'])\n",
    "df_forth['long_rad'] = np.radians(df_forth['longitude'])\n",
    "\n",
    "# Define grid size\n",
    "grid_size = 0.0001  # Adjust according to your preference\n",
    "\n",
    "# Assign each point to a grid cell\n",
    "df_forth['lat_bin'] = (df_forth['lat_rad'] / grid_size).astype(int)\n",
    "df_forth['long_bin'] = (df_forth['long_rad'] / grid_size).astype(int)\n",
    "\n",
    "# Calculate centroids of grid cells\n",
    "centroids = df_forth.groupby(['lat_bin', 'long_bin']).agg({'lat_rad': 'mean', 'long_rad': 'mean', 'price': 'mean'}).reset_index()\n",
    "\n",
    "# Convert centroids back to degrees\n",
    "centroids['lat'] = np.degrees(centroids['lat_rad'])\n",
    "centroids['long'] = np.degrees(centroids['long_rad'])\n",
    "\n",
    "# Create the plot\n",
    "fig = px.scatter_mapbox(centroids, \n",
    "                        lat='lat', \n",
    "                        lon='long', \n",
    "                        color='price', \n",
    "                        size='price',\n",
    "                        color_continuous_scale='Viridis',\n",
    "                        size_max=10,\n",
    "                        mapbox_style='carto-positron', \n",
    "                        zoom=9)\n",
    "\n",
    "# Update layout\n",
    "fig.update_layout(title='Geolocation Plot by Average Price per Living (Clustered)',\n",
    "                  mapbox=dict(center=dict(lat=47.6, lon=-122.3)),\n",
    "                  margin=dict(r=0, l=0, t=0, b=0))\n",
    "\n",
    "# Show the plot\n",
    "fig.show()"
   ]
  },
  {
   "cell_type": "code",
   "execution_count": 193,
   "metadata": {},
   "outputs": [
    {
     "data": {
      "text/html": [
       "<div>\n",
       "<style scoped>\n",
       "    .dataframe tbody tr th:only-of-type {\n",
       "        vertical-align: middle;\n",
       "    }\n",
       "\n",
       "    .dataframe tbody tr th {\n",
       "        vertical-align: top;\n",
       "    }\n",
       "\n",
       "    .dataframe thead th {\n",
       "        text-align: right;\n",
       "    }\n",
       "</style>\n",
       "<table border=\"1\" class=\"dataframe\">\n",
       "  <thead>\n",
       "    <tr style=\"text-align: right;\">\n",
       "      <th></th>\n",
       "      <th>index</th>\n",
       "      <th>date</th>\n",
       "      <th>price</th>\n",
       "      <th>house_id</th>\n",
       "      <th>bedrooms</th>\n",
       "      <th>bathrooms</th>\n",
       "      <th>sqft_living</th>\n",
       "      <th>sqft_lot</th>\n",
       "      <th>floors</th>\n",
       "      <th>waterfront</th>\n",
       "      <th>...</th>\n",
       "      <th>year_renovated</th>\n",
       "      <th>zipcode</th>\n",
       "      <th>latitude</th>\n",
       "      <th>longitude</th>\n",
       "      <th>sqft_living_15neighbors</th>\n",
       "      <th>sqft_lots_15neighbors</th>\n",
       "      <th>lat_rad</th>\n",
       "      <th>long_rad</th>\n",
       "      <th>lat_bin</th>\n",
       "      <th>long_bin</th>\n",
       "    </tr>\n",
       "  </thead>\n",
       "  <tbody>\n",
       "    <tr>\n",
       "      <th>0</th>\n",
       "      <td>21</td>\n",
       "      <td>2014-10-23</td>\n",
       "      <td>1160000.000</td>\n",
       "      <td>7781600025</td>\n",
       "      <td>3.000</td>\n",
       "      <td>2.500</td>\n",
       "      <td>2490.000</td>\n",
       "      <td>24691.000</td>\n",
       "      <td>1.000</td>\n",
       "      <td>1</td>\n",
       "      <td>...</td>\n",
       "      <td>0</td>\n",
       "      <td>98146</td>\n",
       "      <td>47.488</td>\n",
       "      <td>-122.364</td>\n",
       "      <td>2800.000</td>\n",
       "      <td>24121.000</td>\n",
       "      <td>0.829</td>\n",
       "      <td>-2.136</td>\n",
       "      <td>8288</td>\n",
       "      <td>-21356</td>\n",
       "    </tr>\n",
       "    <tr>\n",
       "      <th>4</th>\n",
       "      <td>82</td>\n",
       "      <td>2014-10-28</td>\n",
       "      <td>1230000.000</td>\n",
       "      <td>7204200025</td>\n",
       "      <td>4.000</td>\n",
       "      <td>2.500</td>\n",
       "      <td>3120.000</td>\n",
       "      <td>49456.000</td>\n",
       "      <td>2.000</td>\n",
       "      <td>1</td>\n",
       "      <td>...</td>\n",
       "      <td>19890</td>\n",
       "      <td>98198</td>\n",
       "      <td>47.353</td>\n",
       "      <td>-122.323</td>\n",
       "      <td>2030.000</td>\n",
       "      <td>32181.000</td>\n",
       "      <td>0.826</td>\n",
       "      <td>-2.135</td>\n",
       "      <td>8264</td>\n",
       "      <td>-21349</td>\n",
       "    </tr>\n",
       "    <tr>\n",
       "      <th>1</th>\n",
       "      <td>57</td>\n",
       "      <td>2014-07-25</td>\n",
       "      <td>2230000.000</td>\n",
       "      <td>7936500109</td>\n",
       "      <td>3.000</td>\n",
       "      <td>3.000</td>\n",
       "      <td>3620.000</td>\n",
       "      <td>28064.000</td>\n",
       "      <td>2.000</td>\n",
       "      <td>1</td>\n",
       "      <td>...</td>\n",
       "      <td>0</td>\n",
       "      <td>98136</td>\n",
       "      <td>47.552</td>\n",
       "      <td>-122.398</td>\n",
       "      <td>2550.000</td>\n",
       "      <td>34713.000</td>\n",
       "      <td>0.830</td>\n",
       "      <td>-2.136</td>\n",
       "      <td>8299</td>\n",
       "      <td>-21362</td>\n",
       "    </tr>\n",
       "    <tr>\n",
       "      <th>2</th>\n",
       "      <td>64</td>\n",
       "      <td>2014-08-12</td>\n",
       "      <td>3200000.000</td>\n",
       "      <td>624069108</td>\n",
       "      <td>4.000</td>\n",
       "      <td>3.250</td>\n",
       "      <td>7000.000</td>\n",
       "      <td>28206.000</td>\n",
       "      <td>1.000</td>\n",
       "      <td>1</td>\n",
       "      <td>...</td>\n",
       "      <td>0</td>\n",
       "      <td>98075</td>\n",
       "      <td>47.593</td>\n",
       "      <td>-122.086</td>\n",
       "      <td>4913.000</td>\n",
       "      <td>14663.000</td>\n",
       "      <td>0.831</td>\n",
       "      <td>-2.131</td>\n",
       "      <td>8306</td>\n",
       "      <td>-21308</td>\n",
       "    </tr>\n",
       "    <tr>\n",
       "      <th>3</th>\n",
       "      <td>81</td>\n",
       "      <td>2014-12-30</td>\n",
       "      <td>3300000.000</td>\n",
       "      <td>3625059152</td>\n",
       "      <td>3.000</td>\n",
       "      <td>3.250</td>\n",
       "      <td>4220.000</td>\n",
       "      <td>41300.000</td>\n",
       "      <td>1.000</td>\n",
       "      <td>1</td>\n",
       "      <td>...</td>\n",
       "      <td>19870</td>\n",
       "      <td>98008</td>\n",
       "      <td>47.608</td>\n",
       "      <td>-122.110</td>\n",
       "      <td>3810.000</td>\n",
       "      <td>30401.000</td>\n",
       "      <td>0.831</td>\n",
       "      <td>-2.131</td>\n",
       "      <td>8309</td>\n",
       "      <td>-21312</td>\n",
       "    </tr>\n",
       "  </tbody>\n",
       "</table>\n",
       "<p>5 rows × 26 columns</p>\n",
       "</div>"
      ],
      "text/plain": [
       "   index       date       price    house_id  bedrooms  bathrooms  sqft_living   \n",
       "0     21 2014-10-23 1160000.000  7781600025     3.000      2.500     2490.000  \\\n",
       "4     82 2014-10-28 1230000.000  7204200025     4.000      2.500     3120.000   \n",
       "1     57 2014-07-25 2230000.000  7936500109     3.000      3.000     3620.000   \n",
       "2     64 2014-08-12 3200000.000   624069108     4.000      3.250     7000.000   \n",
       "3     81 2014-12-30 3300000.000  3625059152     3.000      3.250     4220.000   \n",
       "\n",
       "   sqft_lot  floors  waterfront  ...  year_renovated  zipcode  latitude   \n",
       "0 24691.000   1.000           1  ...               0    98146    47.488  \\\n",
       "4 49456.000   2.000           1  ...           19890    98198    47.353   \n",
       "1 28064.000   2.000           1  ...               0    98136    47.552   \n",
       "2 28206.000   1.000           1  ...               0    98075    47.593   \n",
       "3 41300.000   1.000           1  ...           19870    98008    47.608   \n",
       "\n",
       "   longitude  sqft_living_15neighbors  sqft_lots_15neighbors  lat_rad   \n",
       "0   -122.364                 2800.000              24121.000    0.829  \\\n",
       "4   -122.323                 2030.000              32181.000    0.826   \n",
       "1   -122.398                 2550.000              34713.000    0.830   \n",
       "2   -122.086                 4913.000              14663.000    0.831   \n",
       "3   -122.110                 3810.000              30401.000    0.831   \n",
       "\n",
       "   long_rad  lat_bin  long_bin  \n",
       "0    -2.136     8288    -21356  \n",
       "4    -2.135     8264    -21349  \n",
       "1    -2.136     8299    -21362  \n",
       "2    -2.131     8306    -21308  \n",
       "3    -2.131     8309    -21312  \n",
       "\n",
       "[5 rows x 26 columns]"
      ]
     },
     "execution_count": 193,
     "metadata": {},
     "output_type": "execute_result"
    }
   ],
   "source": [
    "df_forth.sort_values(by='price')"
   ]
  },
  {
   "cell_type": "code",
   "execution_count": 194,
   "metadata": {},
   "outputs": [
    {
     "name": "stdout",
     "output_type": "stream",
     "text": [
      "<class 'pandas.core.frame.DataFrame'>\n",
      "RangeIndex: 5 entries, 0 to 4\n",
      "Data columns (total 26 columns):\n",
      " #   Column                   Non-Null Count  Dtype         \n",
      "---  ------                   --------------  -----         \n",
      " 0   index                    5 non-null      int64         \n",
      " 1   date                     5 non-null      datetime64[ns]\n",
      " 2   price                    5 non-null      float64       \n",
      " 3   house_id                 5 non-null      int64         \n",
      " 4   bedrooms                 5 non-null      float64       \n",
      " 5   bathrooms                5 non-null      float64       \n",
      " 6   sqft_living              5 non-null      float64       \n",
      " 7   sqft_lot                 5 non-null      float64       \n",
      " 8   floors                   5 non-null      float64       \n",
      " 9   waterfront               5 non-null      int64         \n",
      " 10  view                     5 non-null      int64         \n",
      " 11  condition                5 non-null      int64         \n",
      " 12  grade                    5 non-null      int64         \n",
      " 13  sqft_above               5 non-null      float64       \n",
      " 14  sqft_basement            5 non-null      float64       \n",
      " 15  year_built               5 non-null      int64         \n",
      " 16  year_renovated           5 non-null      int64         \n",
      " 17  zipcode                  5 non-null      int64         \n",
      " 18  latitude                 5 non-null      float64       \n",
      " 19  longitude                5 non-null      float64       \n",
      " 20  sqft_living_15neighbors  5 non-null      float64       \n",
      " 21  sqft_lots_15neighbors    5 non-null      float64       \n",
      " 22  lat_rad                  5 non-null      float64       \n",
      " 23  long_rad                 5 non-null      float64       \n",
      " 24  lat_bin                  5 non-null      int64         \n",
      " 25  long_bin                 5 non-null      int64         \n",
      "dtypes: datetime64[ns](1), float64(14), int64(11)\n",
      "memory usage: 1.1 KB\n"
     ]
    }
   ],
   "source": [
    "df_forth.info()"
   ]
  },
  {
   "cell_type": "code",
   "execution_count": 195,
   "metadata": {},
   "outputs": [
    {
     "data": {
      "text/plain": [
       "array([98146, 98136, 98075, 98008, 98198])"
      ]
     },
     "execution_count": 195,
     "metadata": {},
     "output_type": "execute_result"
    }
   ],
   "source": [
    "df_forth['zipcode'].unique()"
   ]
  },
  {
   "cell_type": "markdown",
   "metadata": {},
   "source": [
    "<style>\n",
    "r { color: Red }\n",
    "</style>\n",
    "\n",
    "### <r>Fifth requirement: Limited budget</r>"
   ]
  },
  {
   "cell_type": "code",
   "execution_count": 196,
   "metadata": {},
   "outputs": [
    {
     "data": {
      "text/plain": [
       "Index(['index', 'date', 'price', 'house_id', 'bedrooms', 'bathrooms',\n",
       "       'sqft_living', 'sqft_lot', 'floors', 'waterfront', 'view', 'condition',\n",
       "       'grade', 'sqft_above', 'sqft_basement', 'year_built', 'year_renovated',\n",
       "       'zipcode', 'latitude', 'longitude', 'sqft_living_15neighbors',\n",
       "       'sqft_lots_15neighbors', 'lat_rad', 'long_rad', 'lat_bin', 'long_bin'],\n",
       "      dtype='object')"
      ]
     },
     "execution_count": 196,
     "metadata": {},
     "output_type": "execute_result"
    }
   ],
   "source": [
    "df_fifth = df_forth.copy()\n",
    "df_fifth.columns"
   ]
  },
  {
   "cell_type": "code",
   "execution_count": 197,
   "metadata": {},
   "outputs": [
    {
     "data": {
      "text/html": [
       "<div>\n",
       "<style scoped>\n",
       "    .dataframe tbody tr th:only-of-type {\n",
       "        vertical-align: middle;\n",
       "    }\n",
       "\n",
       "    .dataframe tbody tr th {\n",
       "        vertical-align: top;\n",
       "    }\n",
       "\n",
       "    .dataframe thead th {\n",
       "        text-align: right;\n",
       "    }\n",
       "</style>\n",
       "<table border=\"1\" class=\"dataframe\">\n",
       "  <thead>\n",
       "    <tr style=\"text-align: right;\">\n",
       "      <th></th>\n",
       "      <th>index</th>\n",
       "      <th>date</th>\n",
       "      <th>price</th>\n",
       "      <th>house_id</th>\n",
       "      <th>bedrooms</th>\n",
       "      <th>bathrooms</th>\n",
       "      <th>sqft_living</th>\n",
       "      <th>sqft_lot</th>\n",
       "      <th>floors</th>\n",
       "      <th>waterfront</th>\n",
       "      <th>...</th>\n",
       "      <th>year_renovated</th>\n",
       "      <th>zipcode</th>\n",
       "      <th>latitude</th>\n",
       "      <th>longitude</th>\n",
       "      <th>sqft_living_15neighbors</th>\n",
       "      <th>sqft_lots_15neighbors</th>\n",
       "      <th>lat_rad</th>\n",
       "      <th>long_rad</th>\n",
       "      <th>lat_bin</th>\n",
       "      <th>long_bin</th>\n",
       "    </tr>\n",
       "  </thead>\n",
       "  <tbody>\n",
       "    <tr>\n",
       "      <th>0</th>\n",
       "      <td>21</td>\n",
       "      <td>2014-10-23</td>\n",
       "      <td>1160000.000</td>\n",
       "      <td>7781600025</td>\n",
       "      <td>3.000</td>\n",
       "      <td>2.500</td>\n",
       "      <td>2490.000</td>\n",
       "      <td>24691.000</td>\n",
       "      <td>1.000</td>\n",
       "      <td>1</td>\n",
       "      <td>...</td>\n",
       "      <td>0</td>\n",
       "      <td>98146</td>\n",
       "      <td>47.488</td>\n",
       "      <td>-122.364</td>\n",
       "      <td>2800.000</td>\n",
       "      <td>24121.000</td>\n",
       "      <td>0.829</td>\n",
       "      <td>-2.136</td>\n",
       "      <td>8288</td>\n",
       "      <td>-21356</td>\n",
       "    </tr>\n",
       "    <tr>\n",
       "      <th>1</th>\n",
       "      <td>57</td>\n",
       "      <td>2014-07-25</td>\n",
       "      <td>2230000.000</td>\n",
       "      <td>7936500109</td>\n",
       "      <td>3.000</td>\n",
       "      <td>3.000</td>\n",
       "      <td>3620.000</td>\n",
       "      <td>28064.000</td>\n",
       "      <td>2.000</td>\n",
       "      <td>1</td>\n",
       "      <td>...</td>\n",
       "      <td>0</td>\n",
       "      <td>98136</td>\n",
       "      <td>47.552</td>\n",
       "      <td>-122.398</td>\n",
       "      <td>2550.000</td>\n",
       "      <td>34713.000</td>\n",
       "      <td>0.830</td>\n",
       "      <td>-2.136</td>\n",
       "      <td>8299</td>\n",
       "      <td>-21362</td>\n",
       "    </tr>\n",
       "    <tr>\n",
       "      <th>2</th>\n",
       "      <td>64</td>\n",
       "      <td>2014-08-12</td>\n",
       "      <td>3200000.000</td>\n",
       "      <td>624069108</td>\n",
       "      <td>4.000</td>\n",
       "      <td>3.250</td>\n",
       "      <td>7000.000</td>\n",
       "      <td>28206.000</td>\n",
       "      <td>1.000</td>\n",
       "      <td>1</td>\n",
       "      <td>...</td>\n",
       "      <td>0</td>\n",
       "      <td>98075</td>\n",
       "      <td>47.593</td>\n",
       "      <td>-122.086</td>\n",
       "      <td>4913.000</td>\n",
       "      <td>14663.000</td>\n",
       "      <td>0.831</td>\n",
       "      <td>-2.131</td>\n",
       "      <td>8306</td>\n",
       "      <td>-21308</td>\n",
       "    </tr>\n",
       "    <tr>\n",
       "      <th>3</th>\n",
       "      <td>81</td>\n",
       "      <td>2014-12-30</td>\n",
       "      <td>3300000.000</td>\n",
       "      <td>3625059152</td>\n",
       "      <td>3.000</td>\n",
       "      <td>3.250</td>\n",
       "      <td>4220.000</td>\n",
       "      <td>41300.000</td>\n",
       "      <td>1.000</td>\n",
       "      <td>1</td>\n",
       "      <td>...</td>\n",
       "      <td>19870</td>\n",
       "      <td>98008</td>\n",
       "      <td>47.608</td>\n",
       "      <td>-122.110</td>\n",
       "      <td>3810.000</td>\n",
       "      <td>30401.000</td>\n",
       "      <td>0.831</td>\n",
       "      <td>-2.131</td>\n",
       "      <td>8309</td>\n",
       "      <td>-21312</td>\n",
       "    </tr>\n",
       "    <tr>\n",
       "      <th>4</th>\n",
       "      <td>82</td>\n",
       "      <td>2014-10-28</td>\n",
       "      <td>1230000.000</td>\n",
       "      <td>7204200025</td>\n",
       "      <td>4.000</td>\n",
       "      <td>2.500</td>\n",
       "      <td>3120.000</td>\n",
       "      <td>49456.000</td>\n",
       "      <td>2.000</td>\n",
       "      <td>1</td>\n",
       "      <td>...</td>\n",
       "      <td>19890</td>\n",
       "      <td>98198</td>\n",
       "      <td>47.353</td>\n",
       "      <td>-122.323</td>\n",
       "      <td>2030.000</td>\n",
       "      <td>32181.000</td>\n",
       "      <td>0.826</td>\n",
       "      <td>-2.135</td>\n",
       "      <td>8264</td>\n",
       "      <td>-21349</td>\n",
       "    </tr>\n",
       "  </tbody>\n",
       "</table>\n",
       "<p>5 rows × 26 columns</p>\n",
       "</div>"
      ],
      "text/plain": [
       "   index       date       price    house_id  bedrooms  bathrooms  sqft_living   \n",
       "0     21 2014-10-23 1160000.000  7781600025     3.000      2.500     2490.000  \\\n",
       "1     57 2014-07-25 2230000.000  7936500109     3.000      3.000     3620.000   \n",
       "2     64 2014-08-12 3200000.000   624069108     4.000      3.250     7000.000   \n",
       "3     81 2014-12-30 3300000.000  3625059152     3.000      3.250     4220.000   \n",
       "4     82 2014-10-28 1230000.000  7204200025     4.000      2.500     3120.000   \n",
       "\n",
       "   sqft_lot  floors  waterfront  ...  year_renovated  zipcode  latitude   \n",
       "0 24691.000   1.000           1  ...               0    98146    47.488  \\\n",
       "1 28064.000   2.000           1  ...               0    98136    47.552   \n",
       "2 28206.000   1.000           1  ...               0    98075    47.593   \n",
       "3 41300.000   1.000           1  ...           19870    98008    47.608   \n",
       "4 49456.000   2.000           1  ...           19890    98198    47.353   \n",
       "\n",
       "   longitude  sqft_living_15neighbors  sqft_lots_15neighbors  lat_rad   \n",
       "0   -122.364                 2800.000              24121.000    0.829  \\\n",
       "1   -122.398                 2550.000              34713.000    0.830   \n",
       "2   -122.086                 4913.000              14663.000    0.831   \n",
       "3   -122.110                 3810.000              30401.000    0.831   \n",
       "4   -122.323                 2030.000              32181.000    0.826   \n",
       "\n",
       "   long_rad  lat_bin  long_bin  \n",
       "0    -2.136     8288    -21356  \n",
       "1    -2.136     8299    -21362  \n",
       "2    -2.131     8306    -21308  \n",
       "3    -2.131     8309    -21312  \n",
       "4    -2.135     8264    -21349  \n",
       "\n",
       "[5 rows x 26 columns]"
      ]
     },
     "execution_count": 197,
     "metadata": {},
     "output_type": "execute_result"
    }
   ],
   "source": [
    "df_fifth.sort_values(by='price')\n",
    "df_fifth"
   ]
  }
 ],
 "metadata": {
  "kernelspec": {
   "display_name": ".venv",
   "language": "python",
   "name": "python3"
  },
  "language_info": {
   "codemirror_mode": {
    "name": "ipython",
    "version": 3
   },
   "file_extension": ".py",
   "mimetype": "text/x-python",
   "name": "python",
   "nbconvert_exporter": "python",
   "pygments_lexer": "ipython3",
   "version": "3.11.3"
  },
  "orig_nbformat": 4
 },
 "nbformat": 4,
 "nbformat_minor": 2
}
